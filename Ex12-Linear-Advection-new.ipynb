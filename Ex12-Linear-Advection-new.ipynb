{
 "cells": [
  {
   "cell_type": "markdown",
   "metadata": {},
   "source": [
    "# Exercise 12: Linear Advection\n",
    "\n",
    "After implementing different schemes for diffusion in the last exercise, we are now only a small step away from solving the entire transport equation. Recall that the entire equation is:\n",
    "\n",
    "$$\\frac{\\partial u}{\\partial t} + \\nabla \\cdot \\left(\\vec{v} u\\right) - \\nabla \\cdot \\left( \\kappa \\nabla u \\right) + S = 0$$\n",
    "\n",
    "Today, we are going to implement steps to solve the advective term in a transient simulation. To get started, we will now only consider the 1-D case of (incompressible) linear advection as:\n",
    "\n",
    "$$\\frac{\\partial u}{\\partial t} + v_x \\frac{\\partial u}{\\partial x} = 0$$\n",
    "\n",
    "The main difference to the previous examples of diffusion is that, now, we only have first derivatives to solve. Let's recall the standard finite difference schemes to discretise first-order derivatives at a location $i$:\n",
    "\n",
    "Forward difference:\n",
    "\n",
    "$$\\left(\\frac{\\partial u}{\\partial x}\\right)_i = \\frac{u_{i+1} - u_i}{\\Delta x} + \\mathcal{O}(\\Delta x)$$\n",
    "\n",
    "Backward difference:\n",
    "\n",
    "$$\\left(\\frac{\\partial u}{\\partial x}\\right)_i = \\frac{u_{i} - u_{i-1}}{\\Delta x} + \\mathcal{O}(\\Delta x)$$\n",
    "\n",
    "\n",
    "Central difference:\n",
    "\n",
    "$$\\left(\\frac{\\partial u}{\\partial x}\\right)_i = \\frac{u_{i+1} - u_{i-1}}{2 \\Delta x} + \\mathcal{O}(\\Delta x^2)$$\n",
    "\n",
    "As the central difference scheme is more accurate than the one-sided difference schemes, it is usually the first choice in FD discretisations of first derivatives. So, let's implement it here!\n",
    "\n"
   ]
  },
  {
   "cell_type": "code",
   "execution_count": 1,
   "metadata": {
    "collapsed": false
   },
   "outputs": [],
   "source": [
    "#from IPython.core.display import HTML\n",
    "#css_file = 'nre2_style.css'\n",
    "#HTML(open(css_file, \"r\").read())"
   ]
  },
  {
   "cell_type": "code",
   "execution_count": 2,
   "metadata": {
    "collapsed": false
   },
   "outputs": [],
   "source": [
    "from __future__ import division"
   ]
  },
  {
   "cell_type": "code",
   "execution_count": 3,
   "metadata": {
    "collapsed": false
   },
   "outputs": [],
   "source": [
    "import numpy as np\n",
    "import matplotlib.pyplot as plt\n",
    "import sys\n",
    "plt.rcParams['figure.figsize'] = [10., 7.]\n",
    "plt.rcParams['font.size'] = 16"
   ]
  },
  {
   "cell_type": "code",
   "execution_count": 4,
   "metadata": {
    "collapsed": true
   },
   "outputs": [],
   "source": [
    "%matplotlib inline"
   ]
  },
  {
   "cell_type": "markdown",
   "metadata": {},
   "source": [
    "As in the case of diffusion, we now also have the choice to define the point in our time interval where we estimate the spatial gradient. We will first start with an explicit implementation, as this is the straight-forward way to solve the problem.\n",
    "\n",
    "We are implementing the standard \"Forward-Time-Central-Space\" (FTCS) scheme:\n",
    "\n",
    "$$\\frac{u_i^{k+1} - u_i^k}{\\Delta t} = v \\frac{u_{i+1} - u_{i-1}}{2 \\Delta x}$$\n",
    "\n",
    "If we sort this equation to have unknown terms (at time $k+1$) on the left, and known terms (at time $k$) on the right as before, we obtain a nice explicit equation:\n",
    "\n",
    "$$u_i^{k+1} = u_i^k - \\frac{1}{2} \\frac{v \\Delta t}{\\Delta x} (u_{i+1}^k - u_{i-1}^k)$$ \n",
    "\n",
    "Or, using the definition for the Courant number $Cr = \\frac{v \\Delta t}{\\Delta x}$:\n",
    "\n",
    "$$u_i^{k+1} = u_i^k - \\frac{1}{2} Cr (u_{i+1}^k - u_{i-1}^k)$$ \n",
    "\n",
    "With all your knowledge of Python, it will be very easy for you to implement this equation in a function to solve a linear advection problem.\n",
    "\n",
    "As initial condition, we will use gaussian peak as before:"
   ]
  },
  {
   "cell_type": "code",
   "execution_count": 5,
   "metadata": {
    "collapsed": false
   },
   "outputs": [],
   "source": [
    "# define model dimension\n",
    "L = 100\n",
    "nx = 100\n",
    "dx = L/nx\n",
    "x = np.arange(dx/2., L+dx/2., dx)\n",
    "u_init = 1 * np.exp(-((np.linspace(0,1,nx)-0.3) / 0.1)**2)"
   ]
  },
  {
   "cell_type": "code",
   "execution_count": 6,
   "metadata": {
    "collapsed": false,
    "scrolled": true
   },
   "outputs": [
    {
     "data": {
      "text/plain": [
       "(-0.1, 1.1)"
      ]
     },
     "execution_count": 6,
     "metadata": {},
     "output_type": "execute_result"
    },
    {
     "data": {
      "image/png": "[encoded data removed]",
      "text/plain": [
       "<matplotlib.figure.Figure at 0xad95978>"
      ]
     },
     "metadata": {},
     "output_type": "display_data"
    }
   ],
   "source": [
    "fig = plt.figure()\n",
    "ax = fig.add_subplot(111)\n",
    "ax.plot(x, u_init, 'k-', lw=1)\n",
    "ax.set_ylim([-0.1,1.1])"
   ]
  },
  {
   "cell_type": "markdown",
   "metadata": {},
   "source": [
    "We would like to know how this \"peak\" of $u$ is advancing over time in a fluid field with velocity $v = 2.0$. Let's say that we would like to determine the total movement for a time $T = 20$. \n",
    "\n",
    "In fact, you surely realise that you don't need a numerical method to solve this problem and that we can directly obtain the analytical solution.\n",
    "\n",
    "**Your task**: calculate the advected peak and create a plot with initial and advected peak:"
   ]
  },
  {
   "cell_type": "code",
   "execution_count": 7,
   "metadata": {
    "collapsed": false
   },
   "outputs": [],
   "source": [
    "# your code here:\n"
   ]
  },
  {
   "cell_type": "markdown",
   "metadata": {},
   "source": [
    "## Numerical solution\n",
    "\n",
    "So, let's now implement the FTCS solution for this problem. We now need to decide on an additional aspect: the number of time steps (or, respectively, the time step size).\n",
    "\n",
    "As a start, let's take 40 time steps: $n_t = 40$.\n",
    "\n",
    "**Your task**: Write a function to solve this problem numerically\n",
    "\n",
    "Suggestion: write a separate function to solve one time step with the FTCS method so that you can exchange it later (you might remember why from the lecture):"
   ]
  },
  {
   "cell_type": "code",
   "execution_count": 8,
   "metadata": {
    "collapsed": true
   },
   "outputs": [],
   "source": [
    "# your code here\n",
    "def ftcs(u, v, dt, dx):\n",
    "    \"\"\"Advance one time step with FTCS scheme\"\"\"\n",
    "\n",
    "    "
   ]
  },
  {
   "cell_type": "code",
   "execution_count": 9,
   "metadata": {
    "collapsed": false
   },
   "outputs": [
    {
     "ename": "SyntaxError",
     "evalue": "invalid syntax (<ipython-input-9-4a96c140d11f>, line 3)",
     "output_type": "error",
     "traceback": [
      "\u001b[1;36m  File \u001b[1;32m\"<ipython-input-9-4a96c140d11f>\"\u001b[1;36m, line \u001b[1;32m3\u001b[0m\n\u001b[1;33m    nt =\u001b[0m\n\u001b[1;37m         ^\u001b[0m\n\u001b[1;31mSyntaxError\u001b[0m\u001b[1;31m:\u001b[0m invalid syntax\n"
     ]
    }
   ],
   "source": [
    "# define additional parameter and perform iteration over time:\n",
    "\n",
    "nt = \n",
    "\n"
   ]
  },
  {
   "cell_type": "markdown",
   "metadata": {},
   "source": [
    "Create a plot of the result and compare it to the analytical solution:"
   ]
  },
  {
   "cell_type": "code",
   "execution_count": null,
   "metadata": {
    "collapsed": false
   },
   "outputs": [],
   "source": []
  },
  {
   "cell_type": "markdown",
   "metadata": {},
   "source": [
    "I hope that the result looks different to what you expected from the first consideration of the problem, above!\n",
    "\n",
    "Of course, after following the lecture you will know what happened here: the FTCS scheme is, unfortunately, *unconditionally unstable*! So, whatever we do, we will not get a reasonable result!\n",
    "\n",
    "To solve this problem with a first-order finite difference scheme, we therefore have to revert to the one-sided differences and live with the fact that we only get first-order accuracy.\n",
    "\n",
    "When considering these schemes, we have two choices now: forward difference and backward difference. Which one is the logical one to use in this case? How do you make this choice - and why?\n",
    "\n",
    "**Your task**: write a function that always chooses the right one-sided difference scheme and then performs one iteration in time:"
   ]
  },
  {
   "cell_type": "code",
   "execution_count": 3,
   "metadata": {
    "collapsed": false
   },
   "outputs": [],
   "source": [
    "# your code here\n",
    "def upwind(u, v, dt, dx):\n",
    "    \"\"\"Advance one time step with upwind scheme\"\"\"\n",
    "    "
   ]
  },
  {
   "cell_type": "code",
   "execution_count": 4,
   "metadata": {
    "collapsed": false
   },
   "outputs": [],
   "source": [
    "# Perform simulations with the upwind scheme\n"
   ]
  },
  {
   "cell_type": "markdown",
   "metadata": {},
   "source": [
    "Create a plot of the results:"
   ]
  },
  {
   "cell_type": "code",
   "execution_count": null,
   "metadata": {
    "collapsed": false
   },
   "outputs": [],
   "source": []
  },
  {
   "cell_type": "markdown",
   "metadata": {},
   "source": [
    "What happened?"
   ]
  },
  {
   "cell_type": "markdown",
   "metadata": {},
   "source": [
    "## Implicit solutions\n",
    "\n",
    "We talked about the Courant criterion and the famous Courant-Friedrichs-Levy (CFL) condition in the lecture. We encountered a similar condition before: in the case of the diffusion equation, we had to consider a criterion, as well (**Question: what was it?**). \n",
    "\n",
    "We could resolve a similar issue for the diffusion equation by using an implicit approach. Let's try the same thing here.\n",
    "\n",
    "We will implement a Crank-Nicolson scheme with equal weighting between beginning ($k$) and end ($k+1$) of the time step to determine the spatial gradient. Writing down the equation and putting $k+1$ terms on the left, and $k$ terms on the right, as before, we obtain:\n",
    "\n",
    "$$-\\frac{1}{4} Cr u_{i-1}^{k+1} + u_i^{k+1} + \\frac{1}{4} Cr u_{i+1}^{k+1} = \n",
    "\\frac{1}{4} Cr u_{i-1}^k + u_i^k - \\frac{1}{4} Cr u_{i+1}^k$$\n",
    "\n",
    "Where $Cr$ is the Courant number. This scheme is, in fact, unconditionally stable and second order accurate.\n",
    "\n",
    "**Your task**: use a C-N method to solve the advection problem.\n"
   ]
  },
  {
   "cell_type": "code",
   "execution_count": 5,
   "metadata": {
    "collapsed": false
   },
   "outputs": [],
   "source": [
    "# Your code:\n",
    "\n"
   ]
  },
  {
   "cell_type": "markdown",
   "metadata": {},
   "source": [
    "## Further ideas\n",
    "\n",
    "We also talked about other ways to increase accuracy in explicit schemes in the lecture, specifically:\n",
    "\n",
    "- the \"Leapfrog\" scheme\n",
    "- the \"Lax-Wendroff\" scheme\n",
    "- Use a C-N scheme, but with a higher-order approximation in space\n",
    "\n",
    "Implement one of those schemes and compare the accuracy to the simple upwind scheme above."
   ]
  },
  {
   "cell_type": "code",
   "execution_count": null,
   "metadata": {
    "collapsed": true
   },
   "outputs": [],
   "source": []
  }
 ],
 "metadata": {
  "kernelspec": {
   "display_name": "Python 2",
   "language": "python",
   "name": "python2"
  },
  "language_info": {
   "codemirror_mode": {
    "name": "ipython",
    "version": 2
   },
   "file_extension": ".py",
   "mimetype": "text/x-python",
   "name": "python",
   "nbconvert_exporter": "python",
   "pygments_lexer": "ipython2",
   "version": "2.7.11"
  }
 },
 "nbformat": 4,
 "nbformat_minor": 0
}
