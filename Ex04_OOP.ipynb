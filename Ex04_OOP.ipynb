{
 "cells": [
  {
   "cell_type": "markdown",
   "metadata": {},
   "source": [
    "# Exercise 4: Introduction to Object-Oriented Programming\n",
    "\n",
    "We used Python so far for relatively simple scripting with the addition of an occasional function. Generally, we have been following what is called a **procedural programming** style: we define functions that combine several steps into a procedure that can be called and executed. Basically, the program execution follows a \"top-down\" approach: from defining some variables, we execute procedures (functions) that operate on these variables, collect the output, perform some other procedures, etc.\n",
    "\n",
    "This type of programming style is very common in scientific programming and there is nothing wrong with it: in fact, it is used successfully in highly complex scientific simulations. An advantage of this way of programming is that it usually follows a logical structure and is quite intuitive to follow.\n",
    "\n",
    "There is, however, another programming style that you have surely heard of: **object-oriented programming** (often abbreviated as OOP). Whereas in procedural programming we define variables and break down parts of codes in common functions/ procedures (often with the aim to ensure as much code re-use as possible), those two parts are (mostly) combined into single objects in OOP. \n",
    "\n",
    "If you think that this sounds strange then you are not alone - at first, OOP seems to be a lot of work without a clear benefit. However, once you get used to it, OOP  can lead to very efficient code re-use and clear code structures.\n",
    "\n",
    "Most importantly, once you have gone through the hard work of defining classes, then using the objects in the program becomes the easier part.\n",
    "\n",
    "In this notebook, we'll have a look at some of the basic concepts of OOP in Python and some examples to give you a feel for how it works - and to see some of the advantages that you can get out of this programming style.\n",
    "\n",
    "\n"
   ]
  },
  {
   "cell_type": "code",
   "execution_count": 19,
   "metadata": {
    "collapsed": false
   },
   "outputs": [],
   "source": [
    "#from IPython.core.display import HTML\n",
    "#css_file = 'nre2_style.css'\n",
    "#HTML(open(css_file, \"r\").read())"
   ]
  },
  {
   "cell_type": "code",
   "execution_count": 20,
   "metadata": {
    "collapsed": false
   },
   "outputs": [],
   "source": [
    "%matplotlib inline"
   ]
  },
  {
   "cell_type": "code",
   "execution_count": 21,
   "metadata": {
    "collapsed": false
   },
   "outputs": [],
   "source": [
    "import matplotlib.pyplot as plt\n",
    "import numpy as np"
   ]
  },
  {
   "cell_type": "markdown",
   "metadata": {},
   "source": [
    "If you like, use the following cells to register the \"new\" colormap again:"
   ]
  },
  {
   "cell_type": "code",
   "execution_count": 22,
   "metadata": {
    "collapsed": false
   },
   "outputs": [
    {
     "data": {
      "text/plain": [
       "<matplotlib.figure.Figure at 0xaa25550>"
      ]
     },
     "metadata": {},
     "output_type": "display_data"
    }
   ],
   "source": [
    "import colormaps as cmaps\n",
    "plt.register_cmap(name='viridis', cmap=cmaps.viridis)\n",
    "plt.register_cmap(name='magma', cmap=cmaps.magma)\n",
    "plt.set_cmap(cmaps.viridis)"
   ]
  },
  {
   "cell_type": "markdown",
   "metadata": {},
   "source": [
    "## Defining a grid for numerical simulations\n",
    "\n",
    "We'll start straight away with the definition of a type of object that might actually be useful in the following parts of this course: the definition of a grid for numerical simulations.\n",
    "\n",
    "The simplest grid that can be used for numerical simulations is a completely regular grid with cell sizes that do not change along an axis direction:"
   ]
  },
  {
   "cell_type": "code",
   "execution_count": 23,
   "metadata": {
    "collapsed": false
   },
   "outputs": [
    {
     "data": {
      "image/png": "[encoded data removed]",
      "text/plain": [
       "<matplotlib.figure.Figure at 0xb464320>"
      ]
     },
     "metadata": {},
     "output_type": "display_data"
    }
   ],
   "source": [
    "fig = plt.figure(figsize=(7,5))\n",
    "plt.rcParams['font.size'] = 16\n",
    "ax1 = fig.add_subplot(111)\n",
    "\n",
    "for i in range(10):\n",
    "    ax1.axvline(i,c='k')\n",
    "    ax1.axhline(i,c='k')\n",
    "    \n",
    "ax1.set_title(\"Example of a regular mesh\")\n",
    "\n",
    "plt.tight_layout()"
   ]
  },
  {
   "cell_type": "markdown",
   "metadata": {},
   "source": [
    "Note that the cell width (let's call it $dx$) and hight ($dy$) can be different - but they are constant for all cells.\n",
    "\n",
    "Which kind of information do we need to represent this grid? As minimal requirements, we need:\n",
    "\n",
    "- the cell dimensions $dx$ and $dy$\n",
    "- the number of cells in each direction, $nx$, $ny$\n",
    "- some way to store the data of the cell values\n",
    "\n",
    "In this notebook, we will use both a procedural and an object-oriented approach to deal with the data in this grid to clarify the differences between (and advantages of) the approaches.\n",
    "\n",
    "First, we will define the grid properties that we need - and generate some random grid values to work with:\n"
   ]
  },
  {
   "cell_type": "code",
   "execution_count": 24,
   "metadata": {
    "collapsed": false
   },
   "outputs": [
    {
     "name": "stdout",
     "output_type": "stream",
     "text": [
      "[[5 6 8 3 8 7 4 1 1 2]\n",
      " [4 6 4 4 9 2 7 1 8 9]\n",
      " [3 3 2 1 9 9 0 9 8 3]\n",
      " [8 2 3 8 3 1 5 6 8 3]\n",
      " [7 2 7 9 7 2 5 1 9 6]\n",
      " [5 5 4 8 9 0 3 8 0 2]\n",
      " [9 1 2 3 9 2 1 8 7 5]\n",
      " [2 8 3 1 9 3 2 8 5 2]\n",
      " [7 8 5 2 2 4 6 5 3 2]\n",
      " [9 2 7 8 5 3 6 8 8 3]]\n"
     ]
    }
   ],
   "source": [
    "dx = 100\n",
    "dy = 100\n",
    "nx = 10\n",
    "ny = 10\n",
    "grid_data = np.random.randint(0,10,size= (nx, ny))\n",
    "print grid_data"
   ]
  },
  {
   "cell_type": "markdown",
   "metadata": {},
   "source": [
    "We generated some random grid data with the command `np.random.randint`, in this case: random integer values between 0 and 10, stored in a 2-D array of size (nx, ny). Here just a quick view of the generated random grid:"
   ]
  },
  {
   "cell_type": "code",
   "execution_count": 25,
   "metadata": {
    "collapsed": false
   },
   "outputs": [
    {
     "data": {
      "text/plain": [
       "<matplotlib.colorbar.Colorbar instance at 0x000000000A3ED748>"
      ]
     },
     "execution_count": 25,
     "metadata": {},
     "output_type": "execute_result"
    },
    {
     "data": {
      "image/png": "[encoded data removed]",
      "text/plain": [
       "<matplotlib.figure.Figure at 0xb464198>"
      ]
     },
     "metadata": {},
     "output_type": "display_data"
    }
   ],
   "source": [
    "plt.imshow(grid_data, interpolation = 'nearest', cmap='viridis')\n",
    "plt.colorbar()"
   ]
  },
  {
   "cell_type": "markdown",
   "metadata": {},
   "source": [
    "## The procedural way: storing data in a dictionary\n",
    "\n",
    "We will first look at the procedural implementation of this grid data. Of course, we could simply work with the variables that we already defined above and use functions that directly work with these variables - but we would have to pass a lot of variables around. Also, when we define a second grid (as we will do in a second), we'd have to have a new name for all variables (e.g. `nx_grid_2`, `dx_grid_2`, etc.). \n",
    "\n",
    "One possibility to combine several variables for simpler procedural programming applications is to store the information in a Python dictionary: "
   ]
  },
  {
   "cell_type": "code",
   "execution_count": 26,
   "metadata": {
    "collapsed": false
   },
   "outputs": [],
   "source": [
    "grid_dict = {'dx' : dx, \n",
    "             'dy' : dy, \n",
    "             'nx' : nx, \n",
    "             'ny' : ny, \n",
    "             'grid_data' : grid_data}"
   ]
  },
  {
   "cell_type": "markdown",
   "metadata": {},
   "source": [
    "We can now have a look at all the data in the grid and, of course, access the single variables with the common dictionary access methods (e.g. `grid_dict['nx']` to get the nx values):"
   ]
  },
  {
   "cell_type": "code",
   "execution_count": 27,
   "metadata": {
    "collapsed": false
   },
   "outputs": [
    {
     "name": "stdout",
     "output_type": "stream",
     "text": [
      "{'nx': 10, 'ny': 10, 'grid_data': array([[5, 6, 8, 3, 8, 7, 4, 1, 1, 2],\n",
      "       [4, 6, 4, 4, 9, 2, 7, 1, 8, 9],\n",
      "       [3, 3, 2, 1, 9, 9, 0, 9, 8, 3],\n",
      "       [8, 2, 3, 8, 3, 1, 5, 6, 8, 3],\n",
      "       [7, 2, 7, 9, 7, 2, 5, 1, 9, 6],\n",
      "       [5, 5, 4, 8, 9, 0, 3, 8, 0, 2],\n",
      "       [9, 1, 2, 3, 9, 2, 1, 8, 7, 5],\n",
      "       [2, 8, 3, 1, 9, 3, 2, 8, 5, 2],\n",
      "       [7, 8, 5, 2, 2, 4, 6, 5, 3, 2],\n",
      "       [9, 2, 7, 8, 5, 3, 6, 8, 8, 3]]), 'dx': 100, 'dy': 100}\n",
      "Number of grid cells in x-direction: 10\n"
     ]
    }
   ],
   "source": [
    "print grid_dict\n",
    "print \"Number of grid cells in x-direction: %d\" % grid_dict['nx']"
   ]
  },
  {
   "cell_type": "markdown",
   "metadata": {},
   "source": [
    "## The OOP-way: creating a class for numerical grids\n",
    "\n",
    "Before we start looking at more complex object-oriented programming concepts, we will first simply replicate the storage of the grid information as above, but this time within a defined grid class.\n",
    "\n",
    "The absolutely simplest way to create a class is not so different to a dictionary:\n",
    "\n"
   ]
  },
  {
   "cell_type": "code",
   "execution_count": 28,
   "metadata": {
    "collapsed": false
   },
   "outputs": [],
   "source": [
    "class Grid():\n",
    "    pass"
   ]
  },
  {
   "cell_type": "markdown",
   "metadata": {},
   "source": [
    "The previous line is the blueprint for a class that, basically, does absolutely nothing (if you want Python to do nothing, you simply write `pass`)...\n",
    "\n",
    "However, we can now create an instance (object) of the class and then add the information that we want to store:"
   ]
  },
  {
   "cell_type": "code",
   "execution_count": 29,
   "metadata": {
    "collapsed": false
   },
   "outputs": [],
   "source": [
    "# create an instance of the grid\n",
    "grid_obj = Grid()\n",
    "# now: store information as grid attributes:\n",
    "grid_obj.nx = nx\n",
    "grid_obj.ny = ny\n",
    "grid_obj.dx = dx\n",
    "grid_obj.dy = dy\n",
    "grid_obj.grid_data = grid_data"
   ]
  },
  {
   "cell_type": "markdown",
   "metadata": {},
   "source": [
    "We can now access the grid information. Here the first difference: if we simply use a `print` statement as above, we get information *about the object class* - and not about the data:"
   ]
  },
  {
   "cell_type": "code",
   "execution_count": 30,
   "metadata": {
    "collapsed": false
   },
   "outputs": [
    {
     "name": "stdout",
     "output_type": "stream",
     "text": [
      "<__main__.Grid instance at 0x000000000A5CDAC8>\n"
     ]
    }
   ],
   "source": [
    "print grid_obj"
   ]
  },
  {
   "cell_type": "markdown",
   "metadata": {},
   "source": [
    "To get the data, we can use the '.'-operator to access the object attributes:"
   ]
  },
  {
   "cell_type": "code",
   "execution_count": 31,
   "metadata": {
    "collapsed": false
   },
   "outputs": [
    {
     "name": "stdout",
     "output_type": "stream",
     "text": [
      "Number of grid cells in x-direction: 10\n"
     ]
    }
   ],
   "source": [
    "print \"Number of grid cells in x-direction: %d\" % grid_obj.nx"
   ]
  },
  {
   "cell_type": "markdown",
   "metadata": {},
   "source": [
    "And we can actually get all variables back as a dictionary - and get a very similar printout to before:"
   ]
  },
  {
   "cell_type": "code",
   "execution_count": 48,
   "metadata": {
    "collapsed": false
   },
   "outputs": [
    {
     "name": "stdout",
     "output_type": "stream",
     "text": [
      "{'_nx': 100, '_ny': 100, '_extent_y': 1000, '_extent_x': 1000, '_dx': 10, '_dy': 10}\n"
     ]
    }
   ],
   "source": [
    "print grid_obj.__dict__"
   ]
  },
  {
   "cell_type": "markdown",
   "metadata": {},
   "source": [
    "Ok, what we have done now is, basically, very similar to using a dictionary above: we simply have a \"container\" to store the relevant information of the grid. However, we will make this container a lot more sophisticated while we go along - and add features that are specific to object-oriented programming."
   ]
  },
  {
   "cell_type": "markdown",
   "metadata": {},
   "source": [
    "## Adding class methods to access data\n",
    "\n",
    "The first difference that we will now look at is typical (but not essential!) for object-oriented programming: instead of simply adding variables as before with the '.'-operator, we write class methods (functions) to store and access the data. \n",
    "\n",
    "I am sure that you'll wonder about what exactly this should be good for. Basically, there are two reasons:\n",
    "\n",
    "1. We can \"hide\" the actual place where (and how) we store information from the user - mostly to make the access clearer and easier (this is the OOP concept of \"encapsulation\")\n",
    "2. It is possible to directly react to the supplied data, e.g. to check for consistency, to react to different data types, etc.\n",
    "\n",
    "Let's start with the description of class methods to add the variables:"
   ]
  },
  {
   "cell_type": "code",
   "execution_count": 49,
   "metadata": {
    "collapsed": false
   },
   "outputs": [],
   "source": [
    "# The keyword \"class\" is used to start the class definition, followed by the name:\n",
    "class Grid():\n",
    "    # we now define the class methods (i.e. the functions)\n",
    "    def set_grid(self,grid_data):\n",
    "       self.grid_data = grid_data\n",
    "        \n",
    "    def set_nxny(self, nx, ny):\n",
    "        self.nx = nx\n",
    "        self.ny = ny\n",
    "        self.say_something(\"hello\")\n",
    "        \n",
    "    def set_dxdy(self, dx, dy):\n",
    "        self.dx = dx\n",
    "        self.dy = dy\n"
   ]
  },
  {
   "cell_type": "markdown",
   "metadata": {},
   "source": [
    "We now call these methods to assign data to the object:"
   ]
  },
  {
   "cell_type": "code",
   "execution_count": 101,
   "metadata": {
    "collapsed": false
   },
   "outputs": [
    {
     "name": "stdout",
     "output_type": "stream",
     "text": [
      "nx is not the right dimension!\n"
     ]
    },
    {
     "ename": "AttributeError",
     "evalue": "",
     "output_type": "error",
     "traceback": [
      "\u001b[1;31m---------------------------------------------------------------------------\u001b[0m",
      "\u001b[1;31mAttributeError\u001b[0m                            Traceback (most recent call last)",
      "\u001b[1;32m<ipython-input-101-f95564a10f6c>\u001b[0m in \u001b[0;36m<module>\u001b[1;34m()\u001b[0m\n\u001b[0;32m      4\u001b[0m \u001b[0mgrid_obj\u001b[0m\u001b[1;33m.\u001b[0m\u001b[0mset_nxny\u001b[0m\u001b[1;33m(\u001b[0m\u001b[0mnx\u001b[0m\u001b[1;33m,\u001b[0m \u001b[0mny\u001b[0m\u001b[1;33m)\u001b[0m\u001b[1;33m\u001b[0m\u001b[0m\n\u001b[0;32m      5\u001b[0m \u001b[0mgrid_obj\u001b[0m\u001b[1;33m.\u001b[0m\u001b[0mset_dxdy\u001b[0m\u001b[1;33m(\u001b[0m\u001b[0mdx\u001b[0m\u001b[1;33m,\u001b[0m \u001b[0mdy\u001b[0m\u001b[1;33m)\u001b[0m\u001b[1;33m\u001b[0m\u001b[0m\n\u001b[1;32m----> 6\u001b[1;33m \u001b[0mgrid_obj\u001b[0m\u001b[1;33m.\u001b[0m\u001b[0mset_grid\u001b[0m\u001b[1;33m(\u001b[0m\u001b[0mgrid_data\u001b[0m\u001b[1;33m)\u001b[0m\u001b[1;33m\u001b[0m\u001b[0m\n\u001b[0m",
      "\u001b[1;32m<ipython-input-99-ef3aaf4fb736>\u001b[0m in \u001b[0;36mset_grid\u001b[1;34m(self, grid_data)\u001b[0m\n\u001b[0;32m     22\u001b[0m         \u001b[1;32mif\u001b[0m \u001b[0mnew_nx\u001b[0m \u001b[1;33m!=\u001b[0m \u001b[0mself\u001b[0m\u001b[1;33m.\u001b[0m\u001b[0m_nx\u001b[0m\u001b[1;33m:\u001b[0m\u001b[1;33m\u001b[0m\u001b[0m\n\u001b[0;32m     23\u001b[0m             \u001b[1;32mprint\u001b[0m\u001b[1;33m(\u001b[0m\u001b[1;34m\"nx is not the right dimension!\"\u001b[0m\u001b[1;33m)\u001b[0m\u001b[1;33m\u001b[0m\u001b[0m\n\u001b[1;32m---> 24\u001b[1;33m             \u001b[1;32mraise\u001b[0m \u001b[0mAttributeError\u001b[0m\u001b[1;33m\u001b[0m\u001b[0m\n\u001b[0m\u001b[0;32m     25\u001b[0m         \u001b[1;32mif\u001b[0m \u001b[0mnew_ny\u001b[0m \u001b[1;33m!=\u001b[0m \u001b[0mself\u001b[0m\u001b[1;33m.\u001b[0m\u001b[0m_ny\u001b[0m\u001b[1;33m:\u001b[0m\u001b[1;33m\u001b[0m\u001b[0m\n\u001b[0;32m     26\u001b[0m             \u001b[1;32mprint\u001b[0m\u001b[1;33m(\u001b[0m\u001b[1;34m\"nx is not the right dimension!\"\u001b[0m\u001b[1;33m)\u001b[0m\u001b[1;33m\u001b[0m\u001b[0m\n",
      "\u001b[1;31mAttributeError\u001b[0m: "
     ]
    }
   ],
   "source": [
    "# re-create the object to consider the new methods:\n",
    "grid_obj = Grid()\n",
    "# now, add data:\n",
    "grid_obj.set_nxny(nx, ny)\n",
    "grid_obj.set_dxdy(dx, dy)\n",
    "grid_obj.set_grid(grid_data)"
   ]
  },
  {
   "cell_type": "markdown",
   "metadata": {},
   "source": [
    "Here is the first advantage of using this approach to store data: we can include simple checks of the data type. There are several ways to do this. What we will use below is already a quite advanced way of dealing with errors: \"exception handling\". If some condition is not met, we \"raise\" an error - an this causes the execution to abort:\n",
    "\n",
    "    raise AttributeError(\"Some error description\")\n",
    "\n",
    "This is an advanced topic and you don't have to understand the details now - we will see below what happens:"
   ]
  },
  {
   "cell_type": "code",
   "execution_count": 102,
   "metadata": {
    "collapsed": false
   },
   "outputs": [],
   "source": [
    "class Grid():\n",
    "    # we now define the class methods (i.e. the functions)\n",
    "    def set_grid(self,grid_data):\n",
    "        # before we store the data, let's check if it is actually a 2-D array.\n",
    "        # 1) check that the object is a numpy array:\n",
    "        if type(grid_data) != np.ndarray:\n",
    "            raise AttributeError(\"The provided grid data is of the wrong type!\")\n",
    "        # 2) check that it is of dimension 2:\n",
    "        if grid_data.ndim != 2:\n",
    "            raise AttributeError(\"The numpy array is not of dimension 2!\")\n",
    "        self.grid_data = grid_data\n",
    "        \n",
    "        \n",
    "    def set_nxny(self, nx, ny):\n",
    "        self.nx = nx\n",
    "        self.ny = ny\n",
    "        \n",
    "    def set_dxdy(self, dx, dy):\n",
    "        self.dx = dx\n",
    "        self.dy = dy"
   ]
  },
  {
   "cell_type": "markdown",
   "metadata": {},
   "source": [
    "If we now pass the wrong type or the wrong dimension, then (a) the object will not be created, and (b) we get some information on the problem:"
   ]
  },
  {
   "cell_type": "code",
   "execution_count": 103,
   "metadata": {
    "collapsed": false
   },
   "outputs": [
    {
     "ename": "AttributeError",
     "evalue": "The provided grid data is of the wrong type!",
     "output_type": "error",
     "traceback": [
      "\u001b[1;31m---------------------------------------------------------------------------\u001b[0m",
      "\u001b[1;31mAttributeError\u001b[0m                            Traceback (most recent call last)",
      "\u001b[1;32m<ipython-input-103-e2c1e9ba386f>\u001b[0m in \u001b[0;36m<module>\u001b[1;34m()\u001b[0m\n\u001b[0;32m      2\u001b[0m \u001b[0mgrid_obj\u001b[0m \u001b[1;33m=\u001b[0m \u001b[0mGrid\u001b[0m\u001b[1;33m(\u001b[0m\u001b[1;33m)\u001b[0m\u001b[1;33m\u001b[0m\u001b[0m\n\u001b[0;32m      3\u001b[0m \u001b[0mgrid_obj\u001b[0m\u001b[1;33m.\u001b[0m\u001b[0mset_nxny\u001b[0m\u001b[1;33m(\u001b[0m\u001b[0mnx\u001b[0m\u001b[1;33m,\u001b[0m \u001b[0mny\u001b[0m\u001b[1;33m)\u001b[0m\u001b[1;33m\u001b[0m\u001b[0m\n\u001b[1;32m----> 4\u001b[1;33m \u001b[0mgrid_obj\u001b[0m\u001b[1;33m.\u001b[0m\u001b[0mset_grid\u001b[0m\u001b[1;33m(\u001b[0m\u001b[1;34m\"a\"\u001b[0m\u001b[1;33m)\u001b[0m \u001b[1;31m# grid_data)\u001b[0m\u001b[1;33m\u001b[0m\u001b[0m\n\u001b[0m\u001b[0;32m      5\u001b[0m \u001b[0mgrid_obj\u001b[0m\u001b[1;33m.\u001b[0m\u001b[0mset_dxdy\u001b[0m\u001b[1;33m(\u001b[0m\u001b[0mdx\u001b[0m\u001b[1;33m,\u001b[0m \u001b[0mdy\u001b[0m\u001b[1;33m)\u001b[0m\u001b[1;33m\u001b[0m\u001b[0m\n",
      "\u001b[1;32m<ipython-input-102-8514c4f95879>\u001b[0m in \u001b[0;36mset_grid\u001b[1;34m(self, grid_data)\u001b[0m\n\u001b[0;32m      5\u001b[0m         \u001b[1;31m# 1) check that the object is a numpy array:\u001b[0m\u001b[1;33m\u001b[0m\u001b[1;33m\u001b[0m\u001b[0m\n\u001b[0;32m      6\u001b[0m         \u001b[1;32mif\u001b[0m \u001b[0mtype\u001b[0m\u001b[1;33m(\u001b[0m\u001b[0mgrid_data\u001b[0m\u001b[1;33m)\u001b[0m \u001b[1;33m!=\u001b[0m \u001b[0mnp\u001b[0m\u001b[1;33m.\u001b[0m\u001b[0mndarray\u001b[0m\u001b[1;33m:\u001b[0m\u001b[1;33m\u001b[0m\u001b[0m\n\u001b[1;32m----> 7\u001b[1;33m             \u001b[1;32mraise\u001b[0m \u001b[0mAttributeError\u001b[0m\u001b[1;33m(\u001b[0m\u001b[1;34m\"The provided grid data is of the wrong type!\"\u001b[0m\u001b[1;33m)\u001b[0m\u001b[1;33m\u001b[0m\u001b[0m\n\u001b[0m\u001b[0;32m      8\u001b[0m         \u001b[1;31m# 2) check that it is of dimension 2:\u001b[0m\u001b[1;33m\u001b[0m\u001b[1;33m\u001b[0m\u001b[0m\n\u001b[0;32m      9\u001b[0m         \u001b[1;32mif\u001b[0m \u001b[0mgrid_data\u001b[0m\u001b[1;33m.\u001b[0m\u001b[0mndim\u001b[0m \u001b[1;33m!=\u001b[0m \u001b[1;36m2\u001b[0m\u001b[1;33m:\u001b[0m\u001b[1;33m\u001b[0m\u001b[0m\n",
      "\u001b[1;31mAttributeError\u001b[0m: The provided grid data is of the wrong type!"
     ]
    }
   ],
   "source": [
    "# wrong object\n",
    "grid_obj = Grid()\n",
    "grid_obj.set_nxny(nx, ny)\n",
    "grid_obj.set_grid(\"a\") # grid_data)\n",
    "grid_obj.set_dxdy(dx, dy)"
   ]
  },
  {
   "cell_type": "code",
   "execution_count": 53,
   "metadata": {
    "collapsed": false
   },
   "outputs": [
    {
     "ename": "AttributeError",
     "evalue": "The numpy array is not of dimension 2!",
     "output_type": "error",
     "traceback": [
      "\u001b[1;31m---------------------------------------------------------------------------\u001b[0m",
      "\u001b[1;31mAttributeError\u001b[0m                            Traceback (most recent call last)",
      "\u001b[1;32m<ipython-input-53-a55973707078>\u001b[0m in \u001b[0;36m<module>\u001b[1;34m()\u001b[0m\n\u001b[0;32m      2\u001b[0m \u001b[0mgrid_obj\u001b[0m \u001b[1;33m=\u001b[0m \u001b[0mGrid\u001b[0m\u001b[1;33m(\u001b[0m\u001b[1;33m)\u001b[0m\u001b[1;33m\u001b[0m\u001b[0m\n\u001b[0;32m      3\u001b[0m \u001b[0mgrid_obj\u001b[0m\u001b[1;33m.\u001b[0m\u001b[0mset_nxny\u001b[0m\u001b[1;33m(\u001b[0m\u001b[0mnx\u001b[0m\u001b[1;33m,\u001b[0m \u001b[0mny\u001b[0m\u001b[1;33m)\u001b[0m\u001b[1;33m\u001b[0m\u001b[0m\n\u001b[1;32m----> 4\u001b[1;33m \u001b[0mgrid_obj\u001b[0m\u001b[1;33m.\u001b[0m\u001b[0mset_grid\u001b[0m\u001b[1;33m(\u001b[0m\u001b[0mnp\u001b[0m\u001b[1;33m.\u001b[0m\u001b[0marray\u001b[0m\u001b[1;33m(\u001b[0m\u001b[1;33m[\u001b[0m\u001b[1;36m1\u001b[0m\u001b[1;33m,\u001b[0m\u001b[1;36m2\u001b[0m\u001b[1;33m,\u001b[0m\u001b[1;36m3\u001b[0m\u001b[1;33m]\u001b[0m\u001b[1;33m)\u001b[0m\u001b[1;33m)\u001b[0m \u001b[1;31m# grid_data)\u001b[0m\u001b[1;33m\u001b[0m\u001b[0m\n\u001b[0m\u001b[0;32m      5\u001b[0m \u001b[0mgrid_obj\u001b[0m\u001b[1;33m.\u001b[0m\u001b[0mset_dxdy\u001b[0m\u001b[1;33m(\u001b[0m\u001b[0mdx\u001b[0m\u001b[1;33m,\u001b[0m \u001b[0mdy\u001b[0m\u001b[1;33m)\u001b[0m\u001b[1;33m\u001b[0m\u001b[0m\n",
      "\u001b[1;32m<ipython-input-51-8514c4f95879>\u001b[0m in \u001b[0;36mset_grid\u001b[1;34m(self, grid_data)\u001b[0m\n\u001b[0;32m      8\u001b[0m         \u001b[1;31m# 2) check that it is of dimension 2:\u001b[0m\u001b[1;33m\u001b[0m\u001b[1;33m\u001b[0m\u001b[0m\n\u001b[0;32m      9\u001b[0m         \u001b[1;32mif\u001b[0m \u001b[0mgrid_data\u001b[0m\u001b[1;33m.\u001b[0m\u001b[0mndim\u001b[0m \u001b[1;33m!=\u001b[0m \u001b[1;36m2\u001b[0m\u001b[1;33m:\u001b[0m\u001b[1;33m\u001b[0m\u001b[0m\n\u001b[1;32m---> 10\u001b[1;33m             \u001b[1;32mraise\u001b[0m \u001b[0mAttributeError\u001b[0m\u001b[1;33m(\u001b[0m\u001b[1;34m\"The numpy array is not of dimension 2!\"\u001b[0m\u001b[1;33m)\u001b[0m\u001b[1;33m\u001b[0m\u001b[0m\n\u001b[0m\u001b[0;32m     11\u001b[0m         \u001b[0mself\u001b[0m\u001b[1;33m.\u001b[0m\u001b[0mgrid_data\u001b[0m \u001b[1;33m=\u001b[0m \u001b[0mgrid_data\u001b[0m\u001b[1;33m\u001b[0m\u001b[0m\n\u001b[0;32m     12\u001b[0m \u001b[1;33m\u001b[0m\u001b[0m\n",
      "\u001b[1;31mAttributeError\u001b[0m: The numpy array is not of dimension 2!"
     ]
    }
   ],
   "source": [
    "# wrong dimension\n",
    "grid_obj = Grid()\n",
    "grid_obj.set_nxny(nx, ny)\n",
    "grid_obj.set_grid(np.array([1,2,3])) # grid_data)\n",
    "grid_obj.set_dxdy(dx, dy)"
   ]
  },
  {
   "cell_type": "markdown",
   "metadata": {},
   "source": [
    "So what we get with these methods is now an automatic testing of the variables that are stored in our object - with the same object method that we use to add the data. \n",
    "\n",
    "Of course, we could replicate this behaviour with a procedural equivalent: we could write a function that adds the data to the dictionary and does these checks, e.g.:"
   ]
  },
  {
   "cell_type": "code",
   "execution_count": 54,
   "metadata": {
    "collapsed": false
   },
   "outputs": [],
   "source": [
    "def add_grid_to_dict(grid_dict, grid_data):\n",
    "    \"\"\"Add grid data to grid dictionary\"\"\"\n",
    "    # now: perform checks, exactly the same code as above:\n",
    "    # 1) check that the object is a numpy array:\n",
    "    if type(grid_data) != np.ndarray:\n",
    "        raise AttributeError(\"The provided grid data is of the wrong type!\")\n",
    "    # 2) check that it is of dimension 2:\n",
    "    if grid_data.ndim != 2:\n",
    "        raise AttributeError(\"The numpy array is not of dimension 2!\")\n",
    "    # if no errors were raised, add the data:\n",
    "    grid_dict['grid_data'] = grid_data\n",
    "\n",
    "    "
   ]
  },
  {
   "cell_type": "code",
   "execution_count": 55,
   "metadata": {
    "collapsed": false
   },
   "outputs": [
    {
     "ename": "AttributeError",
     "evalue": "The provided grid data is of the wrong type!",
     "output_type": "error",
     "traceback": [
      "\u001b[1;31m---------------------------------------------------------------------------\u001b[0m",
      "\u001b[1;31mAttributeError\u001b[0m                            Traceback (most recent call last)",
      "\u001b[1;32m<ipython-input-55-11bc5e8fe8e0>\u001b[0m in \u001b[0;36m<module>\u001b[1;34m()\u001b[0m\n\u001b[0;32m      1\u001b[0m \u001b[1;31m# wrong object\u001b[0m\u001b[1;33m\u001b[0m\u001b[1;33m\u001b[0m\u001b[0m\n\u001b[1;32m----> 2\u001b[1;33m \u001b[0madd_grid_to_dict\u001b[0m\u001b[1;33m(\u001b[0m\u001b[0mgrid_dict\u001b[0m\u001b[1;33m,\u001b[0m \u001b[1;34m\"a\"\u001b[0m\u001b[1;33m)\u001b[0m\u001b[1;33m\u001b[0m\u001b[0m\n\u001b[0m",
      "\u001b[1;32m<ipython-input-54-b3541b4ded65>\u001b[0m in \u001b[0;36madd_grid_to_dict\u001b[1;34m(grid_dict, grid_data)\u001b[0m\n\u001b[0;32m      4\u001b[0m     \u001b[1;31m# 1) check that the object is a numpy array:\u001b[0m\u001b[1;33m\u001b[0m\u001b[1;33m\u001b[0m\u001b[0m\n\u001b[0;32m      5\u001b[0m     \u001b[1;32mif\u001b[0m \u001b[0mtype\u001b[0m\u001b[1;33m(\u001b[0m\u001b[0mgrid_data\u001b[0m\u001b[1;33m)\u001b[0m \u001b[1;33m!=\u001b[0m \u001b[0mnp\u001b[0m\u001b[1;33m.\u001b[0m\u001b[0mndarray\u001b[0m\u001b[1;33m:\u001b[0m\u001b[1;33m\u001b[0m\u001b[0m\n\u001b[1;32m----> 6\u001b[1;33m         \u001b[1;32mraise\u001b[0m \u001b[0mAttributeError\u001b[0m\u001b[1;33m(\u001b[0m\u001b[1;34m\"The provided grid data is of the wrong type!\"\u001b[0m\u001b[1;33m)\u001b[0m\u001b[1;33m\u001b[0m\u001b[0m\n\u001b[0m\u001b[0;32m      7\u001b[0m     \u001b[1;31m# 2) check that it is of dimension 2:\u001b[0m\u001b[1;33m\u001b[0m\u001b[1;33m\u001b[0m\u001b[0m\n\u001b[0;32m      8\u001b[0m     \u001b[1;32mif\u001b[0m \u001b[0mgrid_data\u001b[0m\u001b[1;33m.\u001b[0m\u001b[0mndim\u001b[0m \u001b[1;33m!=\u001b[0m \u001b[1;36m2\u001b[0m\u001b[1;33m:\u001b[0m\u001b[1;33m\u001b[0m\u001b[0m\n",
      "\u001b[1;31mAttributeError\u001b[0m: The provided grid data is of the wrong type!"
     ]
    }
   ],
   "source": [
    "# wrong object\n",
    "add_grid_to_dict(grid_dict, \"a\")"
   ]
  },
  {
   "cell_type": "code",
   "execution_count": 104,
   "metadata": {
    "collapsed": false
   },
   "outputs": [],
   "source": [
    "# wrong dimension\n",
    "add_grid_to_dict(grid_dict, np.ndarray([1,2]))"
   ]
  },
  {
   "cell_type": "markdown",
   "metadata": {},
   "source": [
    "So: we get a similar possibility to perform checks: both with the procedural style of writing a function, as with the object-oriented style. The main difference at the moment is that we have to execute a separate function for the procedural style (`add_grid_to_dict`), whereas the object oriented method performs the step automatically. \n",
    "\n",
    "We will now look at a slightly different implementation to highlight the difference of the approaches.\n",
    "\n",
    "## Encapsulation and private data in OOP\n",
    "\n",
    "Let's assume that we would like to force the tests for consistency (for data type and grid dimension) to be executed. In the case of the dictionary implementation, nobody forces you to use the `add_grid_to_dict` function that performs the tests. You can always just add the grid yourself to the dictionary (and this is actually the simpler approach - as you don't have to remember the name of the function, so: people *will* do it!).\n",
    "\n",
    "For the OOP implementation, we can - at least in principle - strongly suggest that the tests are executed when the data is added. This approach is based on encapsulation.\n",
    "\n",
    "The general idea in OOP encapsulation is that, as a convention, variables and data are added and extracted from an object with access methods (for example our `set_nxny()` function above, etc.) and not accessed \"in place\". \n",
    "\n",
    "For example: we could, theoretically, set the `nx` and `ny` values of our grid class directly:\n",
    "\n"
   ]
  },
  {
   "cell_type": "code",
   "execution_count": 105,
   "metadata": {
    "collapsed": false
   },
   "outputs": [
    {
     "name": "stdout",
     "output_type": "stream",
     "text": [
      "['__doc__', '__module__', 'nx', 'ny', 'set_dxdy', 'set_grid', 'set_nxny']\n"
     ]
    }
   ],
   "source": [
    "grid_obj = Grid()\n",
    "grid_obj.nx = nx\n",
    "grid_obj.ny = ny\n",
    "print dir(grid_obj)"
   ]
  },
  {
   "cell_type": "markdown",
   "metadata": {},
   "source": [
    "Now, in Python there is a way to store data and mark them as \"protected\": an **underscore** (or double underscore) is **added as a prefix** to the class variable name, i.e. instead of:\n",
    "\n",
    "        \n",
    "    def set_nxny(self, nx, ny):\n",
    "        self.nx = nx\n",
    "        self.ny = ny\n",
    "\n",
    "we can write:\n",
    "\n",
    "        \n",
    "    def set_nxny(self, nx, ny):\n",
    "        self._nx = nx\n",
    "        self._ny = ny\n",
    "\n",
    "Using these variables is a basic Python **convention: do not change variables with a leading underscore** outside the class definition!\n",
    "\n",
    "\n",
    "Here an example implementation:\n"
   ]
  },
  {
   "cell_type": "code",
   "execution_count": 106,
   "metadata": {
    "collapsed": false
   },
   "outputs": [],
   "source": [
    "# Adjusted grid class\n",
    "\n",
    "class Grid():\n",
    "    # we now define the class methods (i.e. the functions)\n",
    "    def set_grid(self,grid_data):\n",
    "        # before we store the data, let's check if it is actually a 2-D array.\n",
    "        # 1) check that the object is a numpy array:\n",
    "        if type(grid_data) != numpy.ndarray:\n",
    "            raise AttributeError(\"The provided grid data is of the wrong type!\")\n",
    "        # 2) check that it is of dimension 2:\n",
    "        if grid_data.ndim != 2:\n",
    "            raise AttributeError(\"The numpy array is not of dimension 2!\")\n",
    "        self._grid_data = grid_data\n",
    "        \n",
    "        \n",
    "    def set_nxny(self, nx, ny):\n",
    "        self._nx = nx\n",
    "        self._ny = ny\n",
    "        \n",
    "    def set_dxdy(self, dx, dy):\n",
    "        self._dx = dx\n",
    "        self._dy = dy"
   ]
  },
  {
   "cell_type": "markdown",
   "metadata": {},
   "source": [
    "\n",
    "Note that, *in principle*, you could still access and change the variable `grid_obj._nx' directly:"
   ]
  },
  {
   "cell_type": "code",
   "execution_count": 113,
   "metadata": {
    "collapsed": false
   },
   "outputs": [
    {
     "name": "stdout",
     "output_type": "stream",
     "text": [
      "{'_nx': 100, '_ny': 100}\n",
      "{'_nx': 2, '_ny': 100}\n"
     ]
    }
   ],
   "source": [
    "grid_obj = Grid()\n",
    "grid_obj.set_nxny(nx, ny)\n",
    "print grid_obj.__dict__\n",
    "grid_obj._nx = 2\n",
    "print grid_obj.__dict__"
   ]
  },
  {
   "cell_type": "markdown",
   "metadata": {},
   "source": [
    "**BUT**: the leading underscore of a class variable tells you that *you should not change it directly* - but rather use the appropriate functions (e.g. the `grid_obj.set_nxny()` function).\n",
    "\n",
    "If you still change it: *your responsibility* if things do not work out as intended (e.g. in our case: the test for grid consistency would be skipped).\n",
    "\n",
    "The reason why Python does not enforce complete privacy (as, for example, C++ and Java allow) has to do with the general culture of open-source programs in Python (as opposed to C++): basically, as you have access to the source code anyway, there is no real purpose for fully hiding information. If you are interested, you can find many discussions on this topic on the net, for example here:\n",
    "\n",
    "http://stackoverflow.com/questions/1641219/does-python-have-private-variables-in-classes\n",
    "\n",
    "Following these considerations, we could extend our grid class with methods to get the (`nx, ny`), (`dx, dy`) and grid values (in addition to setting them), and store the actual values in \"private\" variables:"
   ]
  },
  {
   "cell_type": "code",
   "execution_count": 114,
   "metadata": {
    "collapsed": false
   },
   "outputs": [],
   "source": [
    "class Grid():\n",
    "\n",
    "    def set_grid(self,grid_data):\n",
    "        new_nx, new_ny = grid_data.shape\n",
    "        if new_nx != self._nx: \n",
    "            print(\"nx is not the right dimension!\")\n",
    "            raise AttributeError\n",
    "        if new_ny != self._ny: \n",
    "            print(\"nx is not the right dimension!\")\n",
    "            raise AttributeError\n",
    "        self._grid_data = grid_data\n",
    "        \n",
    "    def get_grid(self):\n",
    "        return self._grid_data\n",
    "               \n",
    "    def set_nxny(self, nx, ny):\n",
    "        self._nx = nx\n",
    "        self._ny = ny\n",
    "    \n",
    "    def get_nxny(self):\n",
    "        return (self._nx, self._ny)\n",
    "        \n",
    "    def set_dxdy(self, dx, dy):\n",
    "        self._dx = dx\n",
    "        self._dy = dy\n",
    "        \n",
    "    def get_dxdy(self):\n",
    "        return (self._dx, self._dy)\n"
   ]
  },
  {
   "cell_type": "code",
   "execution_count": 115,
   "metadata": {
    "collapsed": false
   },
   "outputs": [
    {
     "name": "stdout",
     "output_type": "stream",
     "text": [
      "nx is not the right dimension!\n"
     ]
    },
    {
     "ename": "AttributeError",
     "evalue": "",
     "output_type": "error",
     "traceback": [
      "\u001b[1;31m---------------------------------------------------------------------------\u001b[0m",
      "\u001b[1;31mAttributeError\u001b[0m                            Traceback (most recent call last)",
      "\u001b[1;32m<ipython-input-115-59e8090fa475>\u001b[0m in \u001b[0;36m<module>\u001b[1;34m()\u001b[0m\n\u001b[0;32m      3\u001b[0m \u001b[0mgrid_obj\u001b[0m\u001b[1;33m.\u001b[0m\u001b[0mset_nxny\u001b[0m\u001b[1;33m(\u001b[0m\u001b[0mnx\u001b[0m\u001b[1;33m,\u001b[0m \u001b[0mny\u001b[0m\u001b[1;33m)\u001b[0m\u001b[1;33m\u001b[0m\u001b[0m\n\u001b[0;32m      4\u001b[0m \u001b[0mgrid_obj\u001b[0m\u001b[1;33m.\u001b[0m\u001b[0mset_dxdy\u001b[0m\u001b[1;33m(\u001b[0m\u001b[0mdx\u001b[0m\u001b[1;33m,\u001b[0m \u001b[0mdy\u001b[0m\u001b[1;33m)\u001b[0m\u001b[1;33m\u001b[0m\u001b[0m\n\u001b[1;32m----> 5\u001b[1;33m \u001b[0mgrid_obj\u001b[0m\u001b[1;33m.\u001b[0m\u001b[0mset_grid\u001b[0m\u001b[1;33m(\u001b[0m\u001b[0mgrid_data\u001b[0m\u001b[1;33m)\u001b[0m\u001b[1;33m\u001b[0m\u001b[0m\n\u001b[0m\u001b[0;32m      6\u001b[0m \u001b[1;33m\u001b[0m\u001b[0m\n\u001b[0;32m      7\u001b[0m \u001b[1;31m# now: access the information:\u001b[0m\u001b[1;33m\u001b[0m\u001b[1;33m\u001b[0m\u001b[0m\n",
      "\u001b[1;32m<ipython-input-114-eb6e443531ae>\u001b[0m in \u001b[0;36mset_grid\u001b[1;34m(self, grid_data)\u001b[0m\n\u001b[0;32m      5\u001b[0m         \u001b[1;32mif\u001b[0m \u001b[0mnew_nx\u001b[0m \u001b[1;33m!=\u001b[0m \u001b[0mself\u001b[0m\u001b[1;33m.\u001b[0m\u001b[0m_nx\u001b[0m\u001b[1;33m:\u001b[0m\u001b[1;33m\u001b[0m\u001b[0m\n\u001b[0;32m      6\u001b[0m             \u001b[1;32mprint\u001b[0m\u001b[1;33m(\u001b[0m\u001b[1;34m\"nx is not the right dimension!\"\u001b[0m\u001b[1;33m)\u001b[0m\u001b[1;33m\u001b[0m\u001b[0m\n\u001b[1;32m----> 7\u001b[1;33m             \u001b[1;32mraise\u001b[0m \u001b[0mAttributeError\u001b[0m\u001b[1;33m\u001b[0m\u001b[0m\n\u001b[0m\u001b[0;32m      8\u001b[0m         \u001b[1;32mif\u001b[0m \u001b[0mnew_ny\u001b[0m \u001b[1;33m!=\u001b[0m \u001b[0mself\u001b[0m\u001b[1;33m.\u001b[0m\u001b[0m_ny\u001b[0m\u001b[1;33m:\u001b[0m\u001b[1;33m\u001b[0m\u001b[0m\n\u001b[0;32m      9\u001b[0m             \u001b[1;32mprint\u001b[0m\u001b[1;33m(\u001b[0m\u001b[1;34m\"nx is not the right dimension!\"\u001b[0m\u001b[1;33m)\u001b[0m\u001b[1;33m\u001b[0m\u001b[0m\n",
      "\u001b[1;31mAttributeError\u001b[0m: "
     ]
    }
   ],
   "source": [
    "# and here a test:\n",
    "grid_obj = Grid()\n",
    "grid_obj.set_nxny(nx, ny)\n",
    "grid_obj.set_dxdy(dx, dy)\n",
    "grid_obj.set_grid(grid_data)\n",
    "\n",
    "# now: access the information:\n",
    "print grid_obj.get_nxny()\n",
    "print grid_obj.get_dxdy()\n",
    "print grid_obj.get_grid()"
   ]
  },
  {
   "cell_type": "markdown",
   "metadata": {},
   "source": [
    "A last note on encapsulation: all this \"setting\" and \"getting\" data seems extremely cumbersome - and it is, for small scripts or implementations that are only for a limited purpose. In this case, you don't need to use these concepts. \n",
    "\n",
    "However, once you create classes that you will use for longer - or that you even might pass on to other people - using these ideas becomes very powerful. Most importantly, it adds a great flexibility to the way your object is used: it allows you, for example to:\n",
    "\n",
    "- perform tests along the way (as we do for grid dimensions)\n",
    "- change the way the data is stored and accessed (for example in a different type of object - if you discover a better method)\n",
    "- add features to your code.\n",
    "\n",
    "And, here is the main point: you can do all of these things while making sure that **previously written code** (by you - or someone else) **will still work!** Ensuring this type of \"backwards compatibility\" is very difficult to achieve with standard procedural programming methods. \n",
    "\n",
    "</p>\n",
    "\n",
    "\n",
    "## Adding more features to the grid class\n",
    "\n",
    "After the theoretical considerations of encapsulation, we are not getting back to actually doing something interesting with our grid class. First, we will add some more features that could be useful. First of all, we will add a function to calculate the grid extent. \n",
    "\n",
    "We have both the number of cells as well as the cell width (`dx, dy`) given in each direction, so we can simply calculate the grid extent. Actually, we would like to update the extent every time when either the number of cells `nx, ny` or the cell dimensions `dx, dy` are changed. We therefore include the following steps:\n",
    "\n",
    "1. Create a method to calculate the extent (`self.update_extent()`)\n",
    "2. Execute this function when either `self.set_nxny` or `self.set_dxdy` are called\n",
    "3. Include a `get_extent()` function to access the information:"
   ]
  },
  {
   "cell_type": "code",
   "execution_count": 116,
   "metadata": {
    "collapsed": false
   },
   "outputs": [],
   "source": [
    "class Grid():\n",
    "\n",
    "    def set_grid(self,grid_data):\n",
    "        new_nx, new_ny = grid_data.shape\n",
    "        if new_nx != self._nx: \n",
    "            print(\"nx is not the right dimension!\")\n",
    "            raise AttributeError\n",
    "        if new_ny != self._ny: \n",
    "            print(\"nx is not the right dimension!\")\n",
    "            raise AttributeError\n",
    "        self._grid_data = grid_data\n",
    "\n",
    "    def get_grid(self):\n",
    "        return self._grid_data\n",
    "        \n",
    "    def update_extent(self):\n",
    "        # first: check if both number of cells and cell widths are already defined\n",
    "        if hasattr(self, '_dx') and hasattr(self, '_nx'):\n",
    "            self._extent_x = self._nx * self._dx\n",
    "            self._extent_y = self._ny * self._dy\n",
    "    \n",
    "    def get_extent(self):\n",
    "        return (self._extent_x, self._extent_y)\n",
    "        \n",
    "    def set_nxny(self, nx, ny):\n",
    "        self._nx = nx\n",
    "        self._ny = ny\n",
    "        self.update_extent()\n",
    "\n",
    "    def get_nxny(self):\n",
    "        return (self._nx, self._ny)\n",
    "        \n",
    "    def set_dxdy(self, dx, dy):\n",
    "        self._dx = dx\n",
    "        self._dy = dy\n",
    "        self.update_extent()\n",
    "\n",
    "    def get_dxdy(self):\n",
    "        return (self._dx, self._dy)"
   ]
  },
  {
   "cell_type": "markdown",
   "metadata": {},
   "source": [
    "Here an example:"
   ]
  },
  {
   "cell_type": "code",
   "execution_count": 117,
   "metadata": {
    "collapsed": false
   },
   "outputs": [
    {
     "name": "stdout",
     "output_type": "stream",
     "text": [
      "Extent in x-direction: 1000.0, y-direction: 1000.0\n"
     ]
    }
   ],
   "source": [
    "grid_obj = Grid()\n",
    "grid_obj.set_nxny(nx, ny)\n",
    "grid_obj.set_dxdy(dx, dy)\n",
    "# now: get information\n",
    "(extent_x, extent_y) = grid_obj.get_extent()\n",
    "print \"Extent in x-direction: %.1f, y-direction: %.1f\" % (extent_x, extent_y)"
   ]
  },
  {
   "cell_type": "markdown",
   "metadata": {},
   "source": [
    "Of course, a similar behaviour could be replicated with the dictionary implementation in a purely procedural programming fashion - but an additional function would have to be called each time to calculate (or update) the extent. In the OOP implementation, this is done automatically!\n"
   ]
  },
  {
   "cell_type": "markdown",
   "metadata": {},
   "source": [
    "## OOP-specific features (1): enabling expected behaviour\n",
    "\n",
    "So, after looking at implementations that could also be achieved with standard procedural methods (although with the requirement to call additional functions, etc.), we will now have a look at useful features that are only possible with an OOP implementation: concepts based on function overloading and defined object namespaces.\n",
    "\n",
    "<hr>\n",
    "\n",
    "Here is the **basic idea**: a good class definition should create an object that performs or reacts in an *intuitive* way.\n",
    "\n",
    "<hr>\n",
    "\n",
    "What does this mean? Basically, it means that the object should - if possible - have functions that work in a way that a user would expect - without having to read through the source code, etc. And these functions should perform actions that make sense in the context of the object and its variables.\n",
    "\n",
    "We will first look at standard functions to explain what is meant with this concept of \"intuitive behaviour\".\n",
    "\n",
    "We have seen this behaviour several times before. Here one example: if we create a numeric variables, for example a float, and we double it, then we actually obtain a variable with the doubled value. If we create a string and double it, then we obtain the string back twice:"
   ]
  },
  {
   "cell_type": "code",
   "execution_count": 118,
   "metadata": {
    "collapsed": false
   },
   "outputs": [
    {
     "name": "stdout",
     "output_type": "stream",
     "text": [
      "20.0\n",
      "hellohello\n"
     ]
    }
   ],
   "source": [
    "numeric_val = 10.\n",
    "print 2 * numeric_val\n",
    "string_val = \"hello\"\n",
    "print 2 * string_val"
   ]
  },
  {
   "cell_type": "markdown",
   "metadata": {},
   "source": [
    "As trivial as this may seem - it encapsulates exactly what was described above: the object (either a float or a string value) \"knows\" when you type \n",
    "\n",
    "    2 *\n",
    "    \n",
    "in front of it - and acts accordingly. The same happens, for example, if you type the `print` statement. For `numeric_val` and `string_val` the behaviour is, again, quite trivial. But have a look what you get when you print a numpy array variable:"
   ]
  },
  {
   "cell_type": "code",
   "execution_count": 119,
   "metadata": {
    "collapsed": false
   },
   "outputs": [
    {
     "name": "stdout",
     "output_type": "stream",
     "text": [
      "10.0\n",
      "hello\n",
      "[1 2 3 4 5 6 7 8 9]\n"
     ]
    }
   ],
   "source": [
    "print numeric_val\n",
    "print string_val\n",
    "# now: let's look at a numpy array:\n",
    "array_val = np.arange(1,10)\n",
    "print array_val"
   ]
  },
  {
   "cell_type": "markdown",
   "metadata": {},
   "source": [
    "Again, maybe not too impressive - but look what happens if you increase the size of the array, for example:"
   ]
  },
  {
   "cell_type": "code",
   "execution_count": 120,
   "metadata": {
    "collapsed": false
   },
   "outputs": [
    {
     "name": "stdout",
     "output_type": "stream",
     "text": [
      "[    1     2     3 ..., 99997 99998 99999]\n"
     ]
    }
   ],
   "source": [
    "array_val = np.arange(1,100000)\n",
    "print array_val"
   ]
  },
  {
   "cell_type": "markdown",
   "metadata": {},
   "source": [
    "We actually observe two specific behaviours that are implemented here:\n",
    "\n",
    "1. The numpy array object knows that you want to know the array values when you type `print` - so this is what you get back\n",
    "2. The object checks the size of the array - and returns the appropriate type of information - instead of simply dumping all values out on the screen which would lead to a pretty unreadable output!\n",
    "\n",
    "The type of behaviour for an object with respect to the `print` function can be implemented in an own class definition, as well. First, let's look what we get if we simply type a `print` in front of an object that we created before:"
   ]
  },
  {
   "cell_type": "code",
   "execution_count": 121,
   "metadata": {
    "collapsed": false
   },
   "outputs": [
    {
     "name": "stdout",
     "output_type": "stream",
     "text": [
      "<__main__.Grid instance at 0x000000000CB410C8>\n"
     ]
    }
   ],
   "source": [
    "print grid_obj"
   ]
  },
  {
   "cell_type": "markdown",
   "metadata": {},
   "source": [
    "We get back the information that this is an instance of the class grid - *not* very useful. Let's change that behaviour. First, we have to think what we would intuitively expect as information from the grid object. What I would consider useful:\n",
    "\n",
    "- Information what it actually is (a 2-D grid object)\n",
    "- range, extent, spacing of the grid\n",
    "- some information on the stored data.\n",
    "\n",
    "The way we tell the grid class that we would like to get this information when it is used in a `print` statement is that we create a special class function, the \n",
    "`__repr()__`-function (for representation). Here an example:\n",
    "\n"
   ]
  },
  {
   "cell_type": "code",
   "execution_count": 122,
   "metadata": {
    "collapsed": false
   },
   "outputs": [],
   "source": [
    "class Grid():\n",
    "    \n",
    "    # function that provides information when used with print statement:\n",
    "    \n",
    "    def __repr__(self):\n",
    "        # Idea: we construct a string with the information and return it:\n",
    "        # (1) basic information:\n",
    "        info_string = \"Grid object with 2-D grid data\\n\"\n",
    "        # (2) info on grid cells, spacing, extent:\n",
    "        info_string += \"Number of cells\\t= (%d, %d)\\n\" % (self._nx, self._ny)\n",
    "        info_string += \"Cell dimension\\t= (%.1f, %.1f)\\n\" % (self._dx, self._dy)\n",
    "        info_string += \"Grid extent\\t= (%.1f, %.1f)\\n\" % (self._extent_x, self._extent_y)\n",
    "        # (3) add some information and statistics on grid values:\n",
    "        info_string += \"Grid data is of type %s with:\\n\" % type(self._grid_data[0,0])\n",
    "        info_string += \"Min value = %.1f\\n\" % (np.min(self._grid_data))\n",
    "        info_string += \"Max value = %.1f\\n\" % (np.max(self._grid_data))\n",
    "        info_string += \"Mean value = %.1f\\n\" % (np.mean(self._grid_data))\n",
    "        return info_string\n",
    "\n",
    "    def set_grid(self,grid_data):\n",
    "        new_nx, new_ny = grid_data.shape\n",
    "        if new_nx != self._nx: \n",
    "            print(\"nx is not the right dimension!\")\n",
    "            raise AttributeError\n",
    "        if new_ny != self._ny: \n",
    "            print(\"nx is not the right dimension!\")\n",
    "            raise AttributeError\n",
    "        self._grid_data = grid_data\n",
    "\n",
    "    def get_grid(self):\n",
    "        return self._grid_data\n",
    "        \n",
    "    def update_extent(self):\n",
    "        # first: check if both number of cells and cell widths are already defined\n",
    "        if hasattr(self, '_dx') and hasattr(self, '_nx'):\n",
    "            self._extent_x = self._nx * self._dx\n",
    "            self._extent_y = self._ny * self._dy\n",
    "    \n",
    "    def get_extent(self):\n",
    "        return (self._extent_x, self._extent_y)\n",
    "        \n",
    "    def set_nxny(self, nx, ny):\n",
    "        self._nx = nx\n",
    "        self._ny = ny\n",
    "        self.update_extent()\n",
    "\n",
    "    def get_nxny(self):\n",
    "        return (self._nx, self._ny)\n",
    "        \n",
    "    def set_dxdy(self, dx, dy):\n",
    "        self._dx = dx\n",
    "        self._dy = dy\n",
    "        self.update_extent()\n",
    "\n",
    "    def get_dxdy(self):\n",
    "        return (self._dx, self._dy)"
   ]
  },
  {
   "cell_type": "markdown",
   "metadata": {},
   "source": [
    "Let's test it:"
   ]
  },
  {
   "cell_type": "code",
   "execution_count": 123,
   "metadata": {
    "collapsed": false
   },
   "outputs": [
    {
     "name": "stdout",
     "output_type": "stream",
     "text": [
      "nx is not the right dimension!\n"
     ]
    },
    {
     "ename": "AttributeError",
     "evalue": "",
     "output_type": "error",
     "traceback": [
      "\u001b[1;31m---------------------------------------------------------------------------\u001b[0m",
      "\u001b[1;31mAttributeError\u001b[0m                            Traceback (most recent call last)",
      "\u001b[1;32m<ipython-input-123-e98bae525e53>\u001b[0m in \u001b[0;36m<module>\u001b[1;34m()\u001b[0m\n\u001b[0;32m      2\u001b[0m \u001b[0mgrid_obj\u001b[0m\u001b[1;33m.\u001b[0m\u001b[0mset_nxny\u001b[0m\u001b[1;33m(\u001b[0m\u001b[0mnx\u001b[0m\u001b[1;33m,\u001b[0m \u001b[0mny\u001b[0m\u001b[1;33m)\u001b[0m\u001b[1;33m\u001b[0m\u001b[0m\n\u001b[0;32m      3\u001b[0m \u001b[0mgrid_obj\u001b[0m\u001b[1;33m.\u001b[0m\u001b[0mset_dxdy\u001b[0m\u001b[1;33m(\u001b[0m\u001b[0mdx\u001b[0m\u001b[1;33m,\u001b[0m \u001b[0mdy\u001b[0m\u001b[1;33m)\u001b[0m\u001b[1;33m\u001b[0m\u001b[0m\n\u001b[1;32m----> 4\u001b[1;33m \u001b[0mgrid_obj\u001b[0m\u001b[1;33m.\u001b[0m\u001b[0mset_grid\u001b[0m\u001b[1;33m(\u001b[0m\u001b[0mgrid_data\u001b[0m\u001b[1;33m)\u001b[0m\u001b[1;33m\u001b[0m\u001b[0m\n\u001b[0m\u001b[0;32m      5\u001b[0m \u001b[1;31m# now: access all the information with a simple \"print\" statement:\u001b[0m\u001b[1;33m\u001b[0m\u001b[1;33m\u001b[0m\u001b[0m\n\u001b[0;32m      6\u001b[0m \u001b[1;32mprint\u001b[0m \u001b[0mgrid_obj\u001b[0m\u001b[1;33m\u001b[0m\u001b[0m\n",
      "\u001b[1;32m<ipython-input-122-ef3aaf4fb736>\u001b[0m in \u001b[0;36mset_grid\u001b[1;34m(self, grid_data)\u001b[0m\n\u001b[0;32m     22\u001b[0m         \u001b[1;32mif\u001b[0m \u001b[0mnew_nx\u001b[0m \u001b[1;33m!=\u001b[0m \u001b[0mself\u001b[0m\u001b[1;33m.\u001b[0m\u001b[0m_nx\u001b[0m\u001b[1;33m:\u001b[0m\u001b[1;33m\u001b[0m\u001b[0m\n\u001b[0;32m     23\u001b[0m             \u001b[1;32mprint\u001b[0m\u001b[1;33m(\u001b[0m\u001b[1;34m\"nx is not the right dimension!\"\u001b[0m\u001b[1;33m)\u001b[0m\u001b[1;33m\u001b[0m\u001b[0m\n\u001b[1;32m---> 24\u001b[1;33m             \u001b[1;32mraise\u001b[0m \u001b[0mAttributeError\u001b[0m\u001b[1;33m\u001b[0m\u001b[0m\n\u001b[0m\u001b[0;32m     25\u001b[0m         \u001b[1;32mif\u001b[0m \u001b[0mnew_ny\u001b[0m \u001b[1;33m!=\u001b[0m \u001b[0mself\u001b[0m\u001b[1;33m.\u001b[0m\u001b[0m_ny\u001b[0m\u001b[1;33m:\u001b[0m\u001b[1;33m\u001b[0m\u001b[0m\n\u001b[0;32m     26\u001b[0m             \u001b[1;32mprint\u001b[0m\u001b[1;33m(\u001b[0m\u001b[1;34m\"nx is not the right dimension!\"\u001b[0m\u001b[1;33m)\u001b[0m\u001b[1;33m\u001b[0m\u001b[0m\n",
      "\u001b[1;31mAttributeError\u001b[0m: "
     ]
    }
   ],
   "source": [
    "grid_obj = Grid()\n",
    "grid_obj.set_nxny(nx, ny)\n",
    "grid_obj.set_dxdy(dx, dy)\n",
    "grid_obj.set_grid(grid_data)\n",
    "# now: access all the information with a simple \"print\" statement:\n",
    "print grid_obj"
   ]
  },
  {
   "cell_type": "markdown",
   "metadata": {},
   "source": [
    "The type of information that you would like to show might be different in your case - but the essential point here is that you don't have to supply an extra function to the user that, for example, provides information about the data in a dictionary, but simply use the standard `print` statement that everyone knows and would intuitively use as a first try to get information on an object.\n",
    "\n",
    "Another advantage: the type of information that you might like to present might change over time. For example, we could add information about the units (would make sense, anyway) of the dimension and extent ([m], [km], etc.) and the data (Temperature, pressure, ...). You could easily add this information with an update of the class definition - and previously created code would still work!\n"
   ]
  },
  {
   "cell_type": "markdown",
   "metadata": {},
   "source": [
    "## OOP-specific features (2): Object initialisation\n",
    "\n",
    "You might have realised that we always use the same steps to create an object: we first create an empty object, then add (nx,ny), (dx,dy) and then the data. This is actually quite annoying and repetitive.\n",
    "\n",
    "Class definitions provide a method to combine all of these steps directly in the object generation call. We have to define a special object method, called `__init__`, where we define how to consider this information automatically.\n",
    "\n",
    "Here is what this can look like:"
   ]
  },
  {
   "cell_type": "code",
   "execution_count": 124,
   "metadata": {
    "collapsed": false
   },
   "outputs": [],
   "source": [
    "class Grid():\n",
    "    \n",
    "    # define the object initialisation function\n",
    "    def __init__(self, **kwds):\n",
    "        if kwds.has_key('nx') and kwds.has_key('ny'):\n",
    "            self.set_nxny(kwds['nx'], kwds['ny'])\n",
    "        if kwds.has_key('dx') and kwds.has_key('dy'):\n",
    "            self.set_dxdy(kwds['dx'], kwds['dy'])\n",
    "        if kwds.has_key('grid_data'):\n",
    "            self.set_grid(kwds['grid_data'])\n",
    "\n",
    "    def __repr__(self):\n",
    "        # Idea: we construct a string with the information and return it:\n",
    "        # (1) basic information:\n",
    "        info_string = \"Grid object with 2-D grid data\\n\"\n",
    "        # (2) info on grid cells, spacing, extent:\n",
    "        info_string += \"Number of cells\\t= (%d, %d)\\n\" % (self._nx, self._ny)\n",
    "        info_string += \"Cell dimension\\t= (%.1f, %.1f)\\n\" % (self._dx, self._dy)\n",
    "        info_string += \"Grid extent\\t= (%.1f, %.1f)\\n\" % (self._extent_x, self._extent_y)\n",
    "        # (3) add some information and statistics on grid values:\n",
    "        info_string += \"Grid data is of type %s with:\\n\" % type(self._grid_data[0,0])\n",
    "        info_string += \"Min value = %.1f\\n\" % (np.min(self._grid_data))\n",
    "        info_string += \"Max value = %.1f\\n\" % (np.max(self._grid_data))\n",
    "        info_string += \"Mean value = %.1f\\n\" % (np.mean(self._grid_data))\n",
    "        return info_string\n",
    "\n",
    "    def set_grid(self, grid_data):\n",
    "        new_nx, new_ny = grid_data.shape\n",
    "        if new_nx != self._nx: \n",
    "            print(\"nx is not the right dimension!\")\n",
    "            raise AttributeError\n",
    "        if new_ny != self._ny: \n",
    "            print(\"nx is not the right dimension!\")\n",
    "            raise AttributeError\n",
    "        self._grid_data = grid_data\n",
    "\n",
    "    def get_grid(self):\n",
    "        return self._grid_data\n",
    "        \n",
    "    def update_extent(self):\n",
    "        # first: check if both number of cells and cell widths are already defined\n",
    "        if hasattr(self, '_dx') and hasattr(self, '_nx'):\n",
    "            self._extent_x = self._nx * self._dx\n",
    "            self._extent_y = self._ny * self._dy\n",
    "    \n",
    "    def get_extent(self):\n",
    "        return (self._extent_x, self._extent_y)\n",
    "        \n",
    "    def set_nxny(self, nx, ny):\n",
    "        self._nx = nx\n",
    "        self._ny = ny\n",
    "        self.update_extent()\n",
    "\n",
    "    def get_nxny(self):\n",
    "        return (self._nx, self._ny)\n",
    "        \n",
    "    def set_dxdy(self, dx, dy):\n",
    "        self._dx = dx\n",
    "        self._dy = dy\n",
    "        self.update_extent()\n",
    "\n",
    "    def get_dxdy(self):\n",
    "        return (self._dx, self._dy)"
   ]
  },
  {
   "cell_type": "markdown",
   "metadata": {},
   "source": [
    "Now, we can directly create an object with the grid information and the grid data:"
   ]
  },
  {
   "cell_type": "code",
   "execution_count": 125,
   "metadata": {
    "collapsed": false
   },
   "outputs": [
    {
     "name": "stdout",
     "output_type": "stream",
     "text": [
      "nx is not the right dimension!\n"
     ]
    },
    {
     "ename": "AttributeError",
     "evalue": "",
     "output_type": "error",
     "traceback": [
      "\u001b[1;31m---------------------------------------------------------------------------\u001b[0m",
      "\u001b[1;31mAttributeError\u001b[0m                            Traceback (most recent call last)",
      "\u001b[1;32m<ipython-input-125-410010a9453b>\u001b[0m in \u001b[0;36m<module>\u001b[1;34m()\u001b[0m\n\u001b[0;32m      1\u001b[0m grid_obj = Grid(nx = 10, ny = 10, \n\u001b[0;32m      2\u001b[0m                 \u001b[0mdx\u001b[0m \u001b[1;33m=\u001b[0m \u001b[1;36m100.\u001b[0m\u001b[1;33m,\u001b[0m \u001b[0mdy\u001b[0m \u001b[1;33m=\u001b[0m \u001b[1;36m100.\u001b[0m\u001b[1;33m,\u001b[0m\u001b[1;33m\u001b[0m\u001b[0m\n\u001b[1;32m----> 3\u001b[1;33m                 grid_data = np.random.randint(1,10,size=(nx,ny)))\n\u001b[0m\u001b[0;32m      4\u001b[0m \u001b[1;32mprint\u001b[0m \u001b[0mgrid_obj\u001b[0m\u001b[1;33m\u001b[0m\u001b[0m\n",
      "\u001b[1;32m<ipython-input-124-0aff82d82d85>\u001b[0m in \u001b[0;36m__init__\u001b[1;34m(self, **kwds)\u001b[0m\n\u001b[0;32m      8\u001b[0m             \u001b[0mself\u001b[0m\u001b[1;33m.\u001b[0m\u001b[0mset_dxdy\u001b[0m\u001b[1;33m(\u001b[0m\u001b[0mkwds\u001b[0m\u001b[1;33m[\u001b[0m\u001b[1;34m'dx'\u001b[0m\u001b[1;33m]\u001b[0m\u001b[1;33m,\u001b[0m \u001b[0mkwds\u001b[0m\u001b[1;33m[\u001b[0m\u001b[1;34m'dy'\u001b[0m\u001b[1;33m]\u001b[0m\u001b[1;33m)\u001b[0m\u001b[1;33m\u001b[0m\u001b[0m\n\u001b[0;32m      9\u001b[0m         \u001b[1;32mif\u001b[0m \u001b[0mkwds\u001b[0m\u001b[1;33m.\u001b[0m\u001b[0mhas_key\u001b[0m\u001b[1;33m(\u001b[0m\u001b[1;34m'grid_data'\u001b[0m\u001b[1;33m)\u001b[0m\u001b[1;33m:\u001b[0m\u001b[1;33m\u001b[0m\u001b[0m\n\u001b[1;32m---> 10\u001b[1;33m             \u001b[0mself\u001b[0m\u001b[1;33m.\u001b[0m\u001b[0mset_grid\u001b[0m\u001b[1;33m(\u001b[0m\u001b[0mkwds\u001b[0m\u001b[1;33m[\u001b[0m\u001b[1;34m'grid_data'\u001b[0m\u001b[1;33m]\u001b[0m\u001b[1;33m)\u001b[0m\u001b[1;33m\u001b[0m\u001b[0m\n\u001b[0m\u001b[0;32m     11\u001b[0m \u001b[1;33m\u001b[0m\u001b[0m\n\u001b[0;32m     12\u001b[0m     \u001b[1;32mdef\u001b[0m \u001b[0m__repr__\u001b[0m\u001b[1;33m(\u001b[0m\u001b[0mself\u001b[0m\u001b[1;33m)\u001b[0m\u001b[1;33m:\u001b[0m\u001b[1;33m\u001b[0m\u001b[0m\n",
      "\u001b[1;32m<ipython-input-124-0aff82d82d85>\u001b[0m in \u001b[0;36mset_grid\u001b[1;34m(self, grid_data)\u001b[0m\n\u001b[0;32m     29\u001b[0m         \u001b[1;32mif\u001b[0m \u001b[0mnew_nx\u001b[0m \u001b[1;33m!=\u001b[0m \u001b[0mself\u001b[0m\u001b[1;33m.\u001b[0m\u001b[0m_nx\u001b[0m\u001b[1;33m:\u001b[0m\u001b[1;33m\u001b[0m\u001b[0m\n\u001b[0;32m     30\u001b[0m             \u001b[1;32mprint\u001b[0m\u001b[1;33m(\u001b[0m\u001b[1;34m\"nx is not the right dimension!\"\u001b[0m\u001b[1;33m)\u001b[0m\u001b[1;33m\u001b[0m\u001b[0m\n\u001b[1;32m---> 31\u001b[1;33m             \u001b[1;32mraise\u001b[0m \u001b[0mAttributeError\u001b[0m\u001b[1;33m\u001b[0m\u001b[0m\n\u001b[0m\u001b[0;32m     32\u001b[0m         \u001b[1;32mif\u001b[0m \u001b[0mnew_ny\u001b[0m \u001b[1;33m!=\u001b[0m \u001b[0mself\u001b[0m\u001b[1;33m.\u001b[0m\u001b[0m_ny\u001b[0m\u001b[1;33m:\u001b[0m\u001b[1;33m\u001b[0m\u001b[0m\n\u001b[0;32m     33\u001b[0m             \u001b[1;32mprint\u001b[0m\u001b[1;33m(\u001b[0m\u001b[1;34m\"nx is not the right dimension!\"\u001b[0m\u001b[1;33m)\u001b[0m\u001b[1;33m\u001b[0m\u001b[0m\n",
      "\u001b[1;31mAttributeError\u001b[0m: "
     ]
    }
   ],
   "source": [
    "grid_obj = Grid(nx = 10, ny = 10, \n",
    "                dx = 100., dy = 100., \n",
    "                grid_data = np.random.randint(1,10,size=(nx,ny)))\n",
    "print grid_obj"
   ]
  },
  {
   "cell_type": "markdown",
   "metadata": {},
   "source": [
    "There are many more ways to initialise objects - we will leave it here for now, "
   ]
  },
  {
   "cell_type": "markdown",
   "metadata": {},
   "source": [
    "## OOP-sepcific features (3): Operator overloading of +,-,\\*,/\n",
    "\n",
    "Getting information easily and intuitively is useful - but there are some much more useful possibilities: we can define the behaviour of an object when it is accessed with the standard arithmetic operators! This is now where object-oriented methods are becoming extremely powerful.\n",
    "\n",
    "The idea is now similar to before: we want to implement a behaviour of a grid object that is *intuitive* when we access it with a standard arithmetic operator. \n",
    "\n",
    "\n"
   ]
  },
  {
   "cell_type": "code",
   "execution_count": 126,
   "metadata": {
    "collapsed": false
   },
   "outputs": [],
   "source": [
    "class Grid():\n",
    "    \n",
    "    # operator overloading\n",
    "    def __add__(self, rhs):\n",
    "        self._grid_data = self._grid_data + rhs\n",
    "        # now we return the updated object entirely:\n",
    "        return self\n",
    "\n",
    "    def __init__(self, **kwds):\n",
    "        if kwds.has_key('nx') and kwds.has_key('ny'):\n",
    "            self.set_nxny(kwds['nx'], kwds['ny'])\n",
    "        if kwds.has_key('dx') and kwds.has_key('dy'):\n",
    "            self.set_dxdy(kwds['dx'], kwds['dy'])\n",
    "        if kwds.has_key('grid_data'):\n",
    "            self.set_grid(kwds['grid_data'])\n",
    "        \n",
    "    # function that provides information when used with print statement\n",
    "    def __repr__(self):\n",
    "        # Idea: we construct a string with the information and return it:\n",
    "        # (1) basic information:\n",
    "        info_string = \"Grid object with 2-D grid data\\n\"\n",
    "        # (2) info on grid cells, spacing, extent:\n",
    "        info_string += \"Number of cells\\t= (%d, %d)\\n\" % (self._nx, self._ny)\n",
    "        info_string += \"Cell dimension\\t= (%.1f, %.1f)\\n\" % (self._dx, self._dy)\n",
    "        info_string += \"Grid extent\\t= (%.1f, %.1f)\\n\" % (self._extent_x, self._extent_y)\n",
    "        # (3) add some information and statistics on grid values:\n",
    "        info_string += \"Grid data is of type %s with:\\n\" % type(self._grid_data[0,0])\n",
    "        info_string += \"Min value = %.1f\\n\" % (np.min(self._grid_data))\n",
    "        info_string += \"Max value = %.1f\\n\" % (np.max(self._grid_data))\n",
    "        info_string += \"Mean value = %.1f\\n\" % (np.mean(self._grid_data))\n",
    "        return info_string\n",
    "\n",
    "    def set_grid(self,grid_data):\n",
    "        new_nx, new_ny = grid_data.shape\n",
    "        if new_nx != self._nx: \n",
    "            print(\"nx is not the right dimension!\")\n",
    "            raise AttributeError\n",
    "        if new_ny != self._ny: \n",
    "            print(\"nx is not the right dimension!\")\n",
    "            raise AttributeError\n",
    "        self._grid_data = grid_data\n",
    "\n",
    "    def get_grid(self):\n",
    "        return self._grid_data\n",
    "        \n",
    "    def update_extent(self):\n",
    "        # first: check if both number of cells and cell widths are already defined\n",
    "        if hasattr(self, '_dx') and hasattr(self, '_nx'):\n",
    "            self._extent_x = self._nx * self._dx\n",
    "            self._extent_y = self._ny * self._dy\n",
    "    \n",
    "    def get_extent(self):\n",
    "        return (self._extent_x, self._extent_y)\n",
    "        \n",
    "    def set_nxny(self, nx, ny):\n",
    "        self._nx = nx\n",
    "        self._ny = ny\n",
    "        self.update_extent()\n",
    "\n",
    "    def get_nxny(self):\n",
    "        return (self._nx, self._ny)\n",
    "        \n",
    "    def set_dxdy(self, dx, dy):\n",
    "        self._dx = dx\n",
    "        self._dy = dy\n",
    "        self.update_extent()\n",
    "\n",
    "    def get_dxdy(self):\n",
    "        return (self._dx, self._dy)"
   ]
  },
  {
   "cell_type": "code",
   "execution_count": 127,
   "metadata": {
    "collapsed": false
   },
   "outputs": [
    {
     "name": "stdout",
     "output_type": "stream",
     "text": [
      "nx is not the right dimension!\n"
     ]
    },
    {
     "ename": "AttributeError",
     "evalue": "",
     "output_type": "error",
     "traceback": [
      "\u001b[1;31m---------------------------------------------------------------------------\u001b[0m",
      "\u001b[1;31mAttributeError\u001b[0m                            Traceback (most recent call last)",
      "\u001b[1;32m<ipython-input-127-0fac9ad321e4>\u001b[0m in \u001b[0;36m<module>\u001b[1;34m()\u001b[0m\n\u001b[1;32m----> 1\u001b[1;33m \u001b[0mgrid_obj\u001b[0m \u001b[1;33m=\u001b[0m \u001b[0mGrid\u001b[0m\u001b[1;33m(\u001b[0m\u001b[0mnx\u001b[0m \u001b[1;33m=\u001b[0m \u001b[0mnx\u001b[0m\u001b[1;33m,\u001b[0m \u001b[0mny\u001b[0m \u001b[1;33m=\u001b[0m \u001b[0mny\u001b[0m\u001b[1;33m,\u001b[0m \u001b[0mdx\u001b[0m \u001b[1;33m=\u001b[0m \u001b[0mdx\u001b[0m\u001b[1;33m,\u001b[0m \u001b[0mdy\u001b[0m \u001b[1;33m=\u001b[0m \u001b[0mdy\u001b[0m\u001b[1;33m,\u001b[0m \u001b[0mgrid_data\u001b[0m \u001b[1;33m=\u001b[0m \u001b[0mgrid_data\u001b[0m\u001b[1;33m)\u001b[0m\u001b[1;33m\u001b[0m\u001b[0m\n\u001b[0m\u001b[0;32m      2\u001b[0m \u001b[1;33m\u001b[0m\u001b[0m\n\u001b[0;32m      3\u001b[0m \u001b[1;31m# Let's have a look at our grid data:\u001b[0m\u001b[1;33m\u001b[0m\u001b[1;33m\u001b[0m\u001b[0m\n\u001b[0;32m      4\u001b[0m \u001b[1;32mprint\u001b[0m \u001b[0mgrid_obj\u001b[0m\u001b[1;33m\u001b[0m\u001b[0m\n\u001b[0;32m      5\u001b[0m \u001b[1;33m\u001b[0m\u001b[0m\n",
      "\u001b[1;32m<ipython-input-126-16d0ca3a45bc>\u001b[0m in \u001b[0;36m__init__\u001b[1;34m(self, **kwds)\u001b[0m\n\u001b[0;32m     13\u001b[0m             \u001b[0mself\u001b[0m\u001b[1;33m.\u001b[0m\u001b[0mset_dxdy\u001b[0m\u001b[1;33m(\u001b[0m\u001b[0mkwds\u001b[0m\u001b[1;33m[\u001b[0m\u001b[1;34m'dx'\u001b[0m\u001b[1;33m]\u001b[0m\u001b[1;33m,\u001b[0m \u001b[0mkwds\u001b[0m\u001b[1;33m[\u001b[0m\u001b[1;34m'dy'\u001b[0m\u001b[1;33m]\u001b[0m\u001b[1;33m)\u001b[0m\u001b[1;33m\u001b[0m\u001b[0m\n\u001b[0;32m     14\u001b[0m         \u001b[1;32mif\u001b[0m \u001b[0mkwds\u001b[0m\u001b[1;33m.\u001b[0m\u001b[0mhas_key\u001b[0m\u001b[1;33m(\u001b[0m\u001b[1;34m'grid_data'\u001b[0m\u001b[1;33m)\u001b[0m\u001b[1;33m:\u001b[0m\u001b[1;33m\u001b[0m\u001b[0m\n\u001b[1;32m---> 15\u001b[1;33m             \u001b[0mself\u001b[0m\u001b[1;33m.\u001b[0m\u001b[0mset_grid\u001b[0m\u001b[1;33m(\u001b[0m\u001b[0mkwds\u001b[0m\u001b[1;33m[\u001b[0m\u001b[1;34m'grid_data'\u001b[0m\u001b[1;33m]\u001b[0m\u001b[1;33m)\u001b[0m\u001b[1;33m\u001b[0m\u001b[0m\n\u001b[0m\u001b[0;32m     16\u001b[0m \u001b[1;33m\u001b[0m\u001b[0m\n\u001b[0;32m     17\u001b[0m     \u001b[1;31m# function that provides information when used with print statement\u001b[0m\u001b[1;33m\u001b[0m\u001b[1;33m\u001b[0m\u001b[0m\n",
      "\u001b[1;32m<ipython-input-126-16d0ca3a45bc>\u001b[0m in \u001b[0;36mset_grid\u001b[1;34m(self, grid_data)\u001b[0m\n\u001b[0;32m     35\u001b[0m         \u001b[1;32mif\u001b[0m \u001b[0mnew_nx\u001b[0m \u001b[1;33m!=\u001b[0m \u001b[0mself\u001b[0m\u001b[1;33m.\u001b[0m\u001b[0m_nx\u001b[0m\u001b[1;33m:\u001b[0m\u001b[1;33m\u001b[0m\u001b[0m\n\u001b[0;32m     36\u001b[0m             \u001b[1;32mprint\u001b[0m\u001b[1;33m(\u001b[0m\u001b[1;34m\"nx is not the right dimension!\"\u001b[0m\u001b[1;33m)\u001b[0m\u001b[1;33m\u001b[0m\u001b[0m\n\u001b[1;32m---> 37\u001b[1;33m             \u001b[1;32mraise\u001b[0m \u001b[0mAttributeError\u001b[0m\u001b[1;33m\u001b[0m\u001b[0m\n\u001b[0m\u001b[0;32m     38\u001b[0m         \u001b[1;32mif\u001b[0m \u001b[0mnew_ny\u001b[0m \u001b[1;33m!=\u001b[0m \u001b[0mself\u001b[0m\u001b[1;33m.\u001b[0m\u001b[0m_ny\u001b[0m\u001b[1;33m:\u001b[0m\u001b[1;33m\u001b[0m\u001b[0m\n\u001b[0;32m     39\u001b[0m             \u001b[1;32mprint\u001b[0m\u001b[1;33m(\u001b[0m\u001b[1;34m\"nx is not the right dimension!\"\u001b[0m\u001b[1;33m)\u001b[0m\u001b[1;33m\u001b[0m\u001b[0m\n",
      "\u001b[1;31mAttributeError\u001b[0m: "
     ]
    }
   ],
   "source": [
    "grid_obj = Grid(nx = nx, ny = ny, dx = dx, dy = dy, grid_data = grid_data)\n",
    "\n",
    "# Let's have a look at our grid data:\n",
    "print grid_obj\n",
    "\n",
    "# now: add a scalar value to the grid:\n",
    "grid_obj_new = grid_obj + 10\n",
    "print grid_obj_new"
   ]
  },
  {
   "cell_type": "markdown",
   "metadata": {},
   "source": [
    "We can see from the min/max grid values that the scalar value was correctly added to the grid values!\n",
    "\n",
    "Here another option: we can check which type of object is passed after the standard \"+\"-operator and react accordingly. For example, we might want to add the values of two grids together. How we can do this: \n",
    "\n",
    "1. Check if the passed object is of type \"Grid\"\n",
    "2. Create a copy of the existing object (stored in the class \"self\" variable in the class definition)\n",
    "3. Perform the addition operation and return the new grid:\n"
   ]
  },
  {
   "cell_type": "code",
   "execution_count": 128,
   "metadata": {
    "collapsed": false
   },
   "outputs": [],
   "source": [
    "# library copy is required to create a full copy of the object itself\n",
    "import copy\n",
    "class Grid():\n",
    "    \n",
    "    # operator overloading\n",
    "    def __add__(self, rhs):\n",
    "        # (1) Check the type of the \"rhs\" variable\n",
    "        if isinstance(rhs, Grid):\n",
    "            # (2) create a copy of the \n",
    "            new_grid = copy.deepcopy(self)\n",
    "            # (3) perform addition of grid data\n",
    "            new_grid._grid_data = self._grid_data + rhs._grid_data\n",
    "        else:\n",
    "            new_grid = copy.deepcopy(self)\n",
    "            new_grid._grid_data = self._grid_data + rhs\n",
    "        # now we return the updated object entirely:\n",
    "        return new_grid\n",
    "\n",
    "    def __init__(self, **kwds):\n",
    "        if kwds.has_key('nx') and kwds.has_key('ny'):\n",
    "            self.set_nxny(kwds['nx'], kwds['ny'])\n",
    "        if kwds.has_key('dx') and kwds.has_key('dy'):\n",
    "            self.set_dxdy(kwds['dx'], kwds['dy'])\n",
    "        if kwds.has_key('grid_data'):\n",
    "            self.set_grid(kwds['grid_data'])\n",
    "        \n",
    "    # function that provides information when used with print statement\n",
    "    def __repr__(self):\n",
    "        # Idea: we construct a string with the information and return it:\n",
    "        # (1) basic information:\n",
    "        info_string = \"Grid object with 2-D grid data\\n\"\n",
    "        # (2) info on grid cells, spacing, extent:\n",
    "        info_string += \"Number of cells\\t= (%d, %d)\\n\" % (self._nx, self._ny)\n",
    "        info_string += \"Cell dimension\\t= (%.1f, %.1f)\\n\" % (self._dx, self._dy)\n",
    "        info_string += \"Grid extent\\t= (%.1f, %.1f)\\n\" % (self._extent_x, self._extent_y)\n",
    "        # (3) add some information and statistics on grid values:\n",
    "        info_string += \"Grid data is of type %s with:\\n\" % type(self._grid_data[0,0])\n",
    "        info_string += \"Min value = %.1f\\n\" % (np.min(self._grid_data))\n",
    "        info_string += \"Max value = %.1f\\n\" % (np.max(self._grid_data))\n",
    "        info_string += \"Mean value = %.1f\\n\" % (np.mean(self._grid_data))\n",
    "        return info_string\n",
    "\n",
    "    def set_grid(self,grid_data):\n",
    "        new_nx, new_ny = grid_data.shape\n",
    "        if new_nx != self._nx: \n",
    "            print(\"nx is not the right dimension!\")\n",
    "            raise AttributeError\n",
    "        if new_ny != self._ny: \n",
    "            print(\"nx is not the right dimension!\")\n",
    "            raise AttributeError\n",
    "        self._grid_data = grid_data\n",
    "\n",
    "    def get_grid(self):\n",
    "        return self._grid_data\n",
    "        \n",
    "    def update_extent(self):\n",
    "        # first: check if both number of cells and cell widths are already defined\n",
    "        if hasattr(self, '_dx') and hasattr(self, '_nx'):\n",
    "            self._extent_x = self._nx * self._dx\n",
    "            self._extent_y = self._ny * self._dy\n",
    "    \n",
    "    def get_extent(self):\n",
    "        return (self._extent_x, self._extent_y)\n",
    "        \n",
    "    def set_nxny(self, nx, ny):\n",
    "        self._nx = nx\n",
    "        self._ny = ny\n",
    "        self.update_extent()\n",
    "\n",
    "    def get_nxny(self):\n",
    "        return (self._nx, self._ny)\n",
    "        \n",
    "    def set_dxdy(self, dx, dy):\n",
    "        self._dx = dx\n",
    "        self._dy = dy\n",
    "        self.update_extent()\n",
    "\n",
    "    def get_dxdy(self):\n",
    "        return (self._dx, self._dy)"
   ]
  },
  {
   "cell_type": "markdown",
   "metadata": {},
   "source": [
    "Now, we can simply create a new grid with the added values:"
   ]
  },
  {
   "cell_type": "code",
   "execution_count": 129,
   "metadata": {
    "collapsed": false
   },
   "outputs": [
    {
     "name": "stdout",
     "output_type": "stream",
     "text": [
      "nx is not the right dimension!\n"
     ]
    },
    {
     "ename": "AttributeError",
     "evalue": "",
     "output_type": "error",
     "traceback": [
      "\u001b[1;31m---------------------------------------------------------------------------\u001b[0m",
      "\u001b[1;31mAttributeError\u001b[0m                            Traceback (most recent call last)",
      "\u001b[1;32m<ipython-input-129-85b633f3f303>\u001b[0m in \u001b[0;36m<module>\u001b[1;34m()\u001b[0m\n\u001b[0;32m      1\u001b[0m g1 = Grid(nx = nx, ny = ny, dx = dx, dy = dy, \n\u001b[1;32m----> 2\u001b[1;33m           grid_data = np.random.randint(1,10,size=(10,10)))\n\u001b[0m\u001b[0;32m      3\u001b[0m g2 = Grid(nx = nx, ny = ny, dx = dx, dy = dy, \n\u001b[0;32m      4\u001b[0m           grid_data = np.random.randint(1,10,size=(10,10)))\n\u001b[0;32m      5\u001b[0m \u001b[1;33m\u001b[0m\u001b[0m\n",
      "\u001b[1;32m<ipython-input-128-bae02762e80d>\u001b[0m in \u001b[0;36m__init__\u001b[1;34m(self, **kwds)\u001b[0m\n\u001b[0;32m     23\u001b[0m             \u001b[0mself\u001b[0m\u001b[1;33m.\u001b[0m\u001b[0mset_dxdy\u001b[0m\u001b[1;33m(\u001b[0m\u001b[0mkwds\u001b[0m\u001b[1;33m[\u001b[0m\u001b[1;34m'dx'\u001b[0m\u001b[1;33m]\u001b[0m\u001b[1;33m,\u001b[0m \u001b[0mkwds\u001b[0m\u001b[1;33m[\u001b[0m\u001b[1;34m'dy'\u001b[0m\u001b[1;33m]\u001b[0m\u001b[1;33m)\u001b[0m\u001b[1;33m\u001b[0m\u001b[0m\n\u001b[0;32m     24\u001b[0m         \u001b[1;32mif\u001b[0m \u001b[0mkwds\u001b[0m\u001b[1;33m.\u001b[0m\u001b[0mhas_key\u001b[0m\u001b[1;33m(\u001b[0m\u001b[1;34m'grid_data'\u001b[0m\u001b[1;33m)\u001b[0m\u001b[1;33m:\u001b[0m\u001b[1;33m\u001b[0m\u001b[0m\n\u001b[1;32m---> 25\u001b[1;33m             \u001b[0mself\u001b[0m\u001b[1;33m.\u001b[0m\u001b[0mset_grid\u001b[0m\u001b[1;33m(\u001b[0m\u001b[0mkwds\u001b[0m\u001b[1;33m[\u001b[0m\u001b[1;34m'grid_data'\u001b[0m\u001b[1;33m]\u001b[0m\u001b[1;33m)\u001b[0m\u001b[1;33m\u001b[0m\u001b[0m\n\u001b[0m\u001b[0;32m     26\u001b[0m \u001b[1;33m\u001b[0m\u001b[0m\n\u001b[0;32m     27\u001b[0m     \u001b[1;31m# function that provides information when used with print statement\u001b[0m\u001b[1;33m\u001b[0m\u001b[1;33m\u001b[0m\u001b[0m\n",
      "\u001b[1;32m<ipython-input-128-bae02762e80d>\u001b[0m in \u001b[0;36mset_grid\u001b[1;34m(self, grid_data)\u001b[0m\n\u001b[0;32m     45\u001b[0m         \u001b[1;32mif\u001b[0m \u001b[0mnew_nx\u001b[0m \u001b[1;33m!=\u001b[0m \u001b[0mself\u001b[0m\u001b[1;33m.\u001b[0m\u001b[0m_nx\u001b[0m\u001b[1;33m:\u001b[0m\u001b[1;33m\u001b[0m\u001b[0m\n\u001b[0;32m     46\u001b[0m             \u001b[1;32mprint\u001b[0m\u001b[1;33m(\u001b[0m\u001b[1;34m\"nx is not the right dimension!\"\u001b[0m\u001b[1;33m)\u001b[0m\u001b[1;33m\u001b[0m\u001b[0m\n\u001b[1;32m---> 47\u001b[1;33m             \u001b[1;32mraise\u001b[0m \u001b[0mAttributeError\u001b[0m\u001b[1;33m\u001b[0m\u001b[0m\n\u001b[0m\u001b[0;32m     48\u001b[0m         \u001b[1;32mif\u001b[0m \u001b[0mnew_ny\u001b[0m \u001b[1;33m!=\u001b[0m \u001b[0mself\u001b[0m\u001b[1;33m.\u001b[0m\u001b[0m_ny\u001b[0m\u001b[1;33m:\u001b[0m\u001b[1;33m\u001b[0m\u001b[0m\n\u001b[0;32m     49\u001b[0m             \u001b[1;32mprint\u001b[0m\u001b[1;33m(\u001b[0m\u001b[1;34m\"nx is not the right dimension!\"\u001b[0m\u001b[1;33m)\u001b[0m\u001b[1;33m\u001b[0m\u001b[0m\n",
      "\u001b[1;31mAttributeError\u001b[0m: "
     ]
    }
   ],
   "source": [
    "g1 = Grid(nx = nx, ny = ny, dx = dx, dy = dy, \n",
    "          grid_data = np.random.randint(1,10,size=(10,10)))\n",
    "g2 = Grid(nx = nx, ny = ny, dx = dx, dy = dy, \n",
    "          grid_data = np.random.randint(1,10,size=(10,10)))\n",
    "\n",
    "# and now: this is all we have to do to create a new grid with added values:\n",
    "g_combined = g1 + g2\n",
    "print \"\\n\\tNew grid:\\n\"\n",
    "print g_combined\n",
    "print \"\\n\\tOriginal grid:\\n\"\n",
    "print g1"
   ]
  },
  {
   "cell_type": "markdown",
   "metadata": {},
   "source": [
    "Now we get what we expected: we get back a new grid with the values of the two other grids added together.\n",
    "\n",
    "More ideas to make the \"+\" operator even more powerful:\n",
    "\n",
    "1. We could first check if the grids are actually defined on the same range (same number of cells, dimensions, etc.);\n",
    "2. We could define the addition with a simple numpy 2-D array: if this type of array is passed, then add it to the grid data;\n",
    "\n",
    "Here some more Python operators that can be overloaded in a similar way:\n",
    "\n",
    "Subtract values:\n",
    "\n",
    "    __sub__(self, other)\n",
    "    \n",
    "Multiply:\n",
    "\n",
    "    __mul__(self, other)\n",
    "    \n",
    "Divide:\n",
    "\n",
    "    __div__(self, other)\n",
    "    \n",
    "Power:\n",
    "\n",
    "    __pow__(self, other)\n",
    "\n",
    "Technical detail: these previous operators are called \"regular binary operators\" they perform a binary operation for the object itself and another object *after* the operator. If you want to obtain an operator with the reversed order, i.e.: first the *other* object, then operator, then the own object (for example: `2 + g1`), you can define \"reversed binary operator\". For the addition, this is:\n",
    "\n",
    "    __radd__(self, other)\n",
    "\n",
    "There are many more operators and standard actions that can be defined for your own class! Here a list: http://www.siafoo.net/article/57\n",
    "\n",
    "A note on the comparison to the procedural approach:\n",
    "\n",
    "Again - you could replicate a similar behaviour with a purely procedural approach and write a function, maybe called (`add_grids()`) that adds the grid values of two grid-dictionaries. However, you would have to:\n",
    "\n",
    "1. Remember the name of the function to perform the operation;\n",
    "2. Write one separate function (and remember its name!) for each type of operation\n",
    "\n",
    "Whereas, in the case of object overloading, you can intuitively \"guess\" that the addition operator performs a grid operation and that other operators (-, \\*, / etc) work accordingly.\n"
   ]
  },
  {
   "cell_type": "markdown",
   "metadata": {},
   "source": [
    "## Intuitive functions in object namespace\n",
    "\n",
    "Apart from overloading common operators, we can, of course, define our own functions to perform objet-specific operations that go beyond the simple \"get\" and \"set\" methods that we used so far. \n",
    "\n",
    "For example, for our grid we might want to define functions to create plot of the grid with imshow. You know quite well by now that you have to combine a couple of commands to create the image: \n",
    "\n",
    "1. open a figure, \n",
    "2. plot the data, \n",
    "3. adjust extent, \n",
    "4. and, of course: add labels and a title. \n",
    "\n",
    "We can combine all these steps into one object function and give it an intuitive name - for example `plot()`. The relevant information can be obtained from the grid variables:\n",
    "\n"
   ]
  },
  {
   "cell_type": "code",
   "execution_count": 130,
   "metadata": {
    "collapsed": false
   },
   "outputs": [],
   "source": [
    "import matplotlib.pyplot as plt\n",
    "import copy\n",
    "class Grid():\n",
    "    \n",
    "    # include the plot function here:\n",
    "    def plot(self):\n",
    "        # (1) open figure, add axis\n",
    "        plt.figure(figsize=(8,8))\n",
    "        # x = fig.add_subplot(111)\n",
    "        # (3+4) create plot with automatically adjusted extent and some other\n",
    "        # useful settings\n",
    "        extent = [0., self._extent_x, 0., self._extent_y]\n",
    "        im = plt.imshow(self._grid_data, extent = extent,\n",
    "                  interpolation = 'nearest', cmap = 'viridis')\n",
    "        cbar = plt.colorbar(im, orientation = 'horizontal', fraction=0.042, pad=0.14)\n",
    "        cbar.set_label(\"Grid data\")\n",
    "        plt.xlabel(\"X\")\n",
    "        plt.ylabel(\"Y\")\n",
    "        plt.title(\"2D grid\")\n",
    "        plt.show()\n",
    "    \n",
    "    \n",
    "    # operator overloading\n",
    "    def __add__(self, rhs):\n",
    "        # (1) Check the type of the \"rhs\" variable\n",
    "        if isinstance(rhs, Grid):\n",
    "            # (2) create a copy of the \n",
    "            new_grid = copy.deepcopy(self)\n",
    "            # (3) perform addition of grid data\n",
    "            new_grid._grid_data = self._grid_data + rhs._grid_data\n",
    "        else:\n",
    "            new_grid = copy.deepcopy(self)\n",
    "            new_grid._grid_data = self._grid_data + rhs\n",
    "        # now we return the updated object entirely:\n",
    "        return new_grid\n",
    "\n",
    "    def __init__(self, **kwds):\n",
    "        if kwds.has_key('nx') and kwds.has_key('ny'):\n",
    "            self.set_nxny(kwds['nx'], kwds['ny'])\n",
    "        if kwds.has_key('dx') and kwds.has_key('dy'):\n",
    "            self.set_dxdy(kwds['dx'], kwds['dy'])\n",
    "        if kwds.has_key('grid_data'):\n",
    "            self.set_grid(kwds['grid_data'])\n",
    "        \n",
    "    # function that provides information when used with print statement\n",
    "    def __repr__(self):\n",
    "        # Idea: we construct a string with the information and return it:\n",
    "        # (1) basic information:\n",
    "        info_string = \"Grid object with 2-D grid data\\n\"\n",
    "        # (2) info on grid cells, spacing, extent:\n",
    "        info_string += \"Number of cells\\t= (%d, %d)\\n\" % (self._nx, self._ny)\n",
    "        info_string += \"Cell dimension\\t= (%.1f, %.1f)\\n\" % (self._dx, self._dy)\n",
    "        info_string += \"Grid extent\\t= (%.1f, %.1f)\\n\" % (self._extent_x, self._extent_y)\n",
    "        # (3) add some information and statistics on grid values:\n",
    "        info_string += \"Grid data is of type %s with:\\n\" % type(self._grid_data[0,0])\n",
    "        info_string += \"Min value = %.1f\\n\" % (np.min(self._grid_data))\n",
    "        info_string += \"Max value = %.1f\\n\" % (np.max(self._grid_data))\n",
    "        info_string += \"Mean value = %.1f\\n\" % (np.mean(self._grid_data))\n",
    "        return info_string\n",
    "\n",
    "    def set_grid(self, grid_data):\n",
    "        new_nx, new_ny = grid_data.shape\n",
    "        if new_nx != self._nx: \n",
    "            print(\"nx is not the right dimension!\")\n",
    "            raise AttributeError\n",
    "        if new_ny != self._ny: \n",
    "            print(\"nx is not the right dimension!\")\n",
    "            raise AttributeError\n",
    "        self._grid_data = grid_data\n",
    "\n",
    "    def get_grid(self):\n",
    "        return self._grid_data\n",
    "        \n",
    "    def update_extent(self):\n",
    "        # first: check if both number of cells and cell widths are already defined\n",
    "        if hasattr(self, '_dx') and hasattr(self, '_nx'):\n",
    "            self._extent_x = self._nx * self._dx\n",
    "            self._extent_y = self._ny * self._dy\n",
    "    \n",
    "    def get_extent(self):\n",
    "        return (self._extent_x, self._extent_y)\n",
    "        \n",
    "    def set_nxny(self, nx, ny):\n",
    "        self._nx = nx\n",
    "        self._ny = ny\n",
    "        self.update_extent()\n",
    "\n",
    "    def get_nxny(self):\n",
    "        return (self._nx, self._ny)\n",
    "        \n",
    "    def set_dxdy(self, dx, dy):\n",
    "        self._dx = dx\n",
    "        self._dy = dy\n",
    "        self.update_extent()\n",
    "\n",
    "    def get_dxdy(self):\n",
    "        return (self._dx, self._dy)"
   ]
  },
  {
   "cell_type": "code",
   "execution_count": 131,
   "metadata": {
    "collapsed": false
   },
   "outputs": [
    {
     "data": {
      "image/png": "[encoded data removed]",
      "text/plain": [
       "<matplotlib.figure.Figure at 0xb599be0>"
      ]
     },
     "metadata": {},
     "output_type": "display_data"
    }
   ],
   "source": [
    "# define a grid with random values and create plot\n",
    "nx = 10\n",
    "ny = 10\n",
    "dx = 100\n",
    "dy = 100\n",
    "g1 = Grid(nx = nx, ny = ny, \n",
    "          dx = dx, dy = dy, \n",
    "          grid_data = np.random.randint(1,10,size=(nx,ny)))\n",
    "\n",
    "# create the plot\n",
    "g1.plot()"
   ]
  },
  {
   "cell_type": "markdown",
   "metadata": {},
   "source": [
    "The definition of this plot function within the object is not only useful because it combines a lot of commands into one function (we could do the same, of course, for a standard procedural approach with one function!), but because we gave it a very simple, intuitive and easy to remember name: `plot`! \n",
    "\n",
    "Here a bit of more thought on this point: the function `plot` is defined as an object function - so it is available only to the object and strictly defined in its \"namespace\". This means that we can, without causing any problem, have another object that *also* has a function `plot()` - for example: think about a class definition for a line plot, maybe for a gamma-ray borehole log: an object of this class can have a `plot()` method as well - which creates an appropriate plot for this type of data!"
   ]
  },
  {
   "cell_type": "markdown",
   "metadata": {},
   "source": [
    "## Exercise: extend the grid class\n",
    "\n",
    "Of course, it would be nice if we would get a proper name for the grid (in the title) and for the meaning of the grid data in the colorbar label. Here a little exercise for you:\n",
    "\n",
    "Extend the Grid class definition:\n",
    "\n",
    "1. Add a function to provide a name for the grid (as title) and store it in a local variable (e.g. \"Temperature distribution\")\n",
    "2. Add a function to provide a name for the data type and unit and store it in variables (e.g. type: Temperature, unit: C)\n",
    "3. Extend the '__init__()' function to optionally set these variables during object generation (like dx, dy etc.)\n",
    "4. Extend the `plot()` function to set plot title and colorbar label accordingly - if these names are defined!\n",
    "\n",
    "I included the template for you - now add the required features:\n"
   ]
  },
  {
   "cell_type": "code",
   "execution_count": 132,
   "metadata": {
    "collapsed": false
   },
   "outputs": [],
   "source": [
    "import matplotlib.pyplot as plt\n",
    "import copy\n",
    "class Grid():\n",
    "    \n",
    "    \n",
    "    #\n",
    "    # To Do (1): include appropriate checks for keywords and set variables, if provided:\n",
    "    #\n",
    "    # Add the keywords as:\n",
    "    # grid_title : the title of the grid (e.g. \"Temperature distrubution\")\n",
    "    # var_name : name of data type (e.g. \"Temperature\")\n",
    "    # var_unit : unit of data (e.g. \"C\")\n",
    "    def __init__(self, **kwds):\n",
    "        if kwds.has_key('nx') and kwds.has_key('ny'):\n",
    "            self.set_nxny(kwds['nx'], kwds['ny'])\n",
    "        if kwds.has_key('dx') and kwds.has_key('dy'):\n",
    "            self.set_dxdy(kwds['dx'], kwds['dy'])\n",
    "        if kwds.has_key('grid_data'):\n",
    "            self.set_grid(kwds['grid_data'])\n",
    "\n",
    "\n",
    "    #\n",
    "    # To Do (2): complete the following functions to set title, name and unit:\n",
    "    #\n",
    "    def set_grid_title(self, grid_title):\n",
    "        # delete pass and enter your code:\n",
    "        pass\n",
    "    \n",
    "    def set_variable_name(self, var_name):\n",
    "        # delete pass and enter your code:\n",
    "        pass\n",
    "\n",
    "    def set_variable_unit(self, var_unit):\n",
    "        # delete pass and enter your code:\n",
    "        pass\n",
    "    \n",
    "    # include the plot function here:\n",
    "    def plot(self):\n",
    "        plt.figure(figsize=(8,8))\n",
    "        extent = [0., self._extent_x, 0., self._extent_y]\n",
    "        im = plt.imshow(self._grid_data, extent = extent,\n",
    "                  interpolation = 'nearest', cmap = 'viridis')\n",
    "        cbar = plt.colorbar(im, orientation = 'horizontal', fraction=0.042, pad=0.14)\n",
    "        #\n",
    "        # To Do (3): check if variable name and unit are defined, and if so: adjust label\n",
    "        #\n",
    "        cbar.set_label(\"Grid data\")\n",
    "        plt.xlabel(\"X\")\n",
    "        plt.ylabel(\"Y\")\n",
    "        #\n",
    "        # To Do (4): check if grid title is defined, and if so: adjust title\n",
    "        #\n",
    "        plt.title(\"2D grid\")\n",
    "        plt.show()\n",
    "    \n",
    "    \n",
    "    # operator overloading\n",
    "    def __add__(self, rhs):\n",
    "        # (1) Check the type of the \"rhs\" variable\n",
    "        if isinstance(rhs, Grid):\n",
    "            # (2) create a copy of the \n",
    "            new_grid = copy.deepcopy(self)\n",
    "            # (3) perform addition of grid data\n",
    "            new_grid._grid_data = self._grid_data + rhs._grid_data\n",
    "        else:\n",
    "            new_grid = copy.deepcopy(self)\n",
    "            new_grid._grid_data = self._grid_data + rhs\n",
    "        # now we return the updated object entirely:\n",
    "        return new_grid\n",
    "        \n",
    "    # function that provides information when used with print statement\n",
    "    def __repr__(self):\n",
    "        # Idea: we construct a string with the information and return it:\n",
    "        # (1) basic information:\n",
    "        info_string = \"Grid object with 2-D grid data\\n\"\n",
    "        # (2) info on grid cells, spacing, extent:\n",
    "        info_string += \"Number of cells\\t= (%d, %d)\\n\" % (self._nx, self._ny)\n",
    "        info_string += \"Cell dimension\\t= (%.1f, %.1f)\\n\" % (self._dx, self._dy)\n",
    "        info_string += \"Grid extent\\t= (%.1f, %.1f)\\n\" % (self._extent_x, self._extent_y)\n",
    "        # (3) add some information and statistics on grid values:\n",
    "        info_string += \"Grid data is of type %s with:\\n\" % type(self._grid_data[0,0])\n",
    "        info_string += \"Min value = %.1f\\n\" % (np.min(self._grid_data))\n",
    "        info_string += \"Max value = %.1f\\n\" % (np.max(self._grid_data))\n",
    "        info_string += \"Mean value = %.1f\\n\" % (np.mean(self._grid_data))\n",
    "        return info_string\n",
    "\n",
    "    def set_grid(self,grid_data):\n",
    "        new_nx, new_ny = grid_data.shape\n",
    "        if new_nx != self._nx: \n",
    "            print(\"nx is not the right dimension!\")\n",
    "            raise AttributeError\n",
    "        if new_ny != self._ny: \n",
    "            print(\"nx is not the right dimension!\")\n",
    "            raise AttributeError\n",
    "        self._grid_data = grid_data\n",
    "\n",
    "    def get_grid(self):\n",
    "        return self._grid_data\n",
    "        \n",
    "    def update_extent(self):\n",
    "        # first: check if both number of cells and cell widths are already defined\n",
    "        if hasattr(self, '_dx') and hasattr(self, '_nx'):\n",
    "            self._extent_x = self._nx * self._dx\n",
    "            self._extent_y = self._ny * self._dy\n",
    "    \n",
    "    def get_extent(self):\n",
    "        return (self._extent_x, self._extent_y)\n",
    "        \n",
    "    def set_nxny(self, nx, ny):\n",
    "        self._nx = nx\n",
    "        self._ny = ny\n",
    "        self.update_extent()\n",
    "\n",
    "    def get_nxny(self):\n",
    "        return (self._nx, self._ny)\n",
    "        \n",
    "    def set_dxdy(self, dx, dy):\n",
    "        self._dx = dx\n",
    "        self._dy = dy\n",
    "        self.update_extent()\n",
    "\n",
    "    def get_dxdy(self):\n",
    "        return (self._dx, self._dy)"
   ]
  },
  {
   "cell_type": "markdown",
   "metadata": {},
   "source": [
    "And if you implemented everything correctly, then the commands in the next cell should work well:"
   ]
  },
  {
   "cell_type": "code",
   "execution_count": 133,
   "metadata": {
    "collapsed": false
   },
   "outputs": [
    {
     "data": {
      "image/png": "[encoded data removed]",
      "text/plain": [
       "<matplotlib.figure.Figure at 0xc0c84a8>"
      ]
     },
     "metadata": {},
     "output_type": "display_data"
    }
   ],
   "source": [
    "# define a grid with random values\n",
    "g1 = Grid(nx = nx, ny = ny, dx = dx, dy = dy,\n",
    "          grid_title = \"Temperature distribution\",\n",
    "          var_name = \"Temperature\",\n",
    "          var_unit = \"C\",\n",
    "          grid_data = np.random.randint(1,10,size=(nx,ny)))\n",
    "\n",
    "# create the plot\n",
    "g1.plot()"
   ]
  },
  {
   "cell_type": "markdown",
   "metadata": {},
   "source": [
    "## Inheritance - and a (hopefully) familiar example\n",
    "\n",
    "Inheritance is a fundamental concept of object-oriented programming and one of the aspects that might feel a bit strange at the beginning - but it does also become quite powerful once you are used to it.\n",
    "\n",
    "The basic idea is the following: you can create a new class on the basis of an existing class by taking over all the information of that existing class (the \"parent\") into your new class (the \"child\") - and then adding more features to it.\n",
    "\n",
    "Here an example for our Grid class: let's assume that, for some reason (maybe because you have an assignment to do...), you want to calculate the drawdown due to pumping in one or multiple wells for a given model range. \n",
    "\n",
    "So, we might want to define a class `DrawdownGrid`. Of course, we need to define the grid range, number of grid cells in each direction, cell sizes, title, etc. - just as before. Well, we have already written quite ab bit of code above and it would be nice to re-use it!\n",
    "\n",
    "Luckily, this is exactly what inheritance is good for!\n",
    "\n",
    "We can create our new class and take over all the basic information from our Grid class by inheritance:\n"
   ]
  },
  {
   "cell_type": "code",
   "execution_count": 134,
   "metadata": {
    "collapsed": false
   },
   "outputs": [],
   "source": [
    "# simply write the class you want to inherite from within the round brackets:\n",
    "class DrawdownGrid(Grid):\n",
    "    pass\n",
    "\n"
   ]
  },
  {
   "cell_type": "markdown",
   "metadata": {},
   "source": [
    "Without any further things, we can now already create a new objects with the functions from the original grid class:"
   ]
  },
  {
   "cell_type": "code",
   "execution_count": 135,
   "metadata": {
    "collapsed": false
   },
   "outputs": [
    {
     "data": {
      "image/png": "[encoded data removed]",
      "text/plain": [
       "<matplotlib.figure.Figure at 0xc0deba8>"
      ]
     },
     "metadata": {},
     "output_type": "display_data"
    }
   ],
   "source": [
    "# define the grid range\n",
    "nx = 10\n",
    "ny = 10\n",
    "dx = 100\n",
    "dy = 100\n",
    "\n",
    "# create object\n",
    "drawdown_obj = DrawdownGrid(nx = nx, ny = nx, dx = dx, dy = dy,\n",
    "          grid_title = \"Temperature distribution\",\n",
    "          var_name = \"Temperature\",\n",
    "          var_unit = \"C\",\n",
    "          grid_data = np.random.randint(1,10,size=(nx,ny)))\n",
    "\n",
    "# create plot\n",
    "drawdown_obj.plot()"
   ]
  },
  {
   "cell_type": "markdown",
   "metadata": {},
   "source": [
    "Up to now, our new class simply acts like a copy of the grid class. Now, let's start to add some features for our pumping experiment!\n",
    "\n",
    "We need to think about the new features that we want to add to this class:\n",
    "\n",
    "1. Set a base hydraulic head for the entire model\n",
    "2. Define aquifer properties (Transmissivity, Storativity) as those are equal for the entire range.\n",
    "3. Add a function to calculate the effect of wells on the resulting hydraulic head in the model\n",
    "\n",
    "In addition, we could consider the following extensions:\n",
    "\n",
    "1. Adjust the plot settings to give us a plot that we consider meaningful in this context (maybe: interpolated values with overlying contour plot - also another colour scheme might be nice: maybe blue?)\n",
    "\n",
    "### Define hydraulic head\n",
    "\n",
    "The first step is very easy to implement: simply add a function `set_hydraulic_head()` to the new class which updates the grid values for each cell with this base value:\n",
    "\n"
   ]
  },
  {
   "cell_type": "code",
   "execution_count": 136,
   "metadata": {
    "collapsed": false
   },
   "outputs": [],
   "source": [
    "# simply write the class you want to inherite from within the round brackets:\n",
    "class DrawdownGrid(Grid):\n",
    "\n",
    "    def set_hydraulic_head(self, head):\n",
    "        self._grid_data = np.ones((self._nx, self._ny)) * head\n",
    "        "
   ]
  },
  {
   "cell_type": "code",
   "execution_count": 137,
   "metadata": {
    "collapsed": false
   },
   "outputs": [
    {
     "data": {
      "image/png": "[encoded data removed]",
      "text/plain": [
       "<matplotlib.figure.Figure at 0xc0ded30>"
      ]
     },
     "metadata": {},
     "output_type": "display_data"
    }
   ],
   "source": [
    "# define the grid range\n",
    "nx = 10\n",
    "ny = 10\n",
    "dx = 100\n",
    "dy = 100\n",
    "\n",
    "# create object\n",
    "drawdown_obj = DrawdownGrid(nx = nx, ny = nx, dx = dx, dy = dy)\n",
    "\n",
    "# set hydraulic head\n",
    "drawdown_obj.set_hydraulic_head(100)\n",
    "\n",
    "# create plot - which is now looking a bit boring\n",
    "drawdown_obj.plot()"
   ]
  },
  {
   "cell_type": "markdown",
   "metadata": {},
   "source": [
    "Of course, this new function is now only available for objects of the type `DrawdownGrid` - and not for the objects of type `Grid`!"
   ]
  },
  {
   "cell_type": "markdown",
   "metadata": {},
   "source": [
    "### Add functions to set aquifer properties\n",
    "\n",
    "Adding these values is straight-forward, just as in several examples before:"
   ]
  },
  {
   "cell_type": "code",
   "execution_count": 138,
   "metadata": {
    "collapsed": false
   },
   "outputs": [],
   "source": [
    "class DrawdownGrid(Grid):\n",
    "\n",
    "    def set_hydraulic_head(self, head):\n",
    "        self._grid_data = np.ones((self._nx, self._ny)) * head\n",
    "        \n",
    "    def set_transmissivity(self, transmissivity):\n",
    "        self._transmissivity = transmissivity\n",
    "    \n",
    "    def set_storativity(self, storativity):\n",
    "        self._storativity = storativity\n"
   ]
  },
  {
   "cell_type": "markdown",
   "metadata": {},
   "source": [
    "### Add a well\n",
    "\n",
    "Next step: add function to consider drawdown of a well. This a bit more tricky because we need to perform several steps - just as in the assignment. There are, of course, several ways to do this, here the steps I am taking:\n",
    "\n",
    "- I am creating a function to add a well at a position (x,y) in the grid. \n",
    "- Based on this position, I am calculating a \"distance grid\", as in our assignment. - Then, I calculate the drawdown. The function to calculate the drawdown itself is also defined as a class function.\n",
    "- The calculation of the \"distance grid\" requires one more consideration: it is logical that the value of a grid cell, as we defined them in our main `Grid` class, is assigned to the center of the cell. So, we need to define a grid of these cell center first - and then use it to calculate the distance grid. \n",
    "- Finally, the drawdown values are subtracted from the grid values to consider the effect of this well.\n",
    "\n",
    "Here all those steps in the class:\n"
   ]
  },
  {
   "cell_type": "code",
   "execution_count": 139,
   "metadata": {
    "collapsed": false
   },
   "outputs": [],
   "source": [
    "import math # for math.factorial function\n",
    "import scipy.special\n",
    "class DrawdownGrid(Grid):\n",
    "\n",
    "    def set_hydraulic_head(self, head):\n",
    "        self._grid_data = np.ones((self._nx, self._ny)) * head\n",
    "        \n",
    "    def set_transmissivity(self, transmissivity):\n",
    "        self._transmissivity = transmissivity\n",
    "    \n",
    "    def set_storativity(self, storativity):\n",
    "        self._storativity = storativity\n",
    "\n",
    "    # Define drawdown functions - just as in the assignment, but\n",
    "    # now as class functions:\n",
    "    def w_approx(self, u):\n",
    "        \"\"\"Approximation of well function\"\"\"\n",
    "        return 0.5772 - np.log(u) + u - u**2 / (2 * math.factorial(2)) + \\\n",
    "                u**3 / (3 * math.factorial(3)) - u**4 / (4 * math.factorial(4))\n",
    "        \n",
    "    def w(self, u):\n",
    "        return 1 - scipy.special.expi(-u)\n",
    "\n",
    "    # define the theis function - note that we don't need to pass\n",
    "    # transmissivity and storativity as they are defined for the entire\n",
    "    # grid as class variables!\n",
    "    def theis(self, Q, t, r):\n",
    "\n",
    "        u = r**2 * self._storativity / (4 * self._transmissivity * t)\n",
    "        # calculate well function\n",
    "        return Q / (4 * np.pi * self._transmissivity) * self.w(u)\n",
    "    \n",
    "    # Calculate the cell centers in each axis direction\n",
    "    # Suggestion: to better understand the following commands: draw a figure\n",
    "    # of the grid and the cell centers\n",
    "    def calc_cell_centers(self):\n",
    "        self._cell_centers_x = np.arange(self._dx/2., self._extent_x, self._dx)\n",
    "        self._cell_centers_y = np.arange(self._dy/2., self._extent_y, self._dy)\n",
    "\n",
    "    # Now, here finally the function to add the well:\n",
    "    def add_well(self, x_pos, y_pos, Q, t):\n",
    "        \"\"\"Add well at position (x_pos, y_pos) with pumping rate Q and consider\n",
    "        effect after a pumping of time t\"\"\"\n",
    "        # Check first if the cell centers are already calculated - if not, do so:\n",
    "        if not hasattr(self, '_cell_centers_x'):\n",
    "            self.calc_cell_centers()\n",
    "            \n",
    "        # (1) determine initial grid for cell centers\n",
    "        X,Y = np.meshgrid(self._cell_centers_x, self._cell_centers_y)\n",
    "        \n",
    "        # (2) determine distance grid\n",
    "        r = np.sqrt((x_pos - X)**2 + (y_pos - Y)**2)\n",
    "        \n",
    "        # (3) calculate drawdown\n",
    "        s = self.theis(Q, t, r)\n",
    "        \n",
    "        # (4) subtract drawdown from hydraulic head field:\n",
    "        self._grid_data -= s\n",
    "        "
   ]
  },
  {
   "cell_type": "markdown",
   "metadata": {},
   "source": [
    "Here now an example:"
   ]
  },
  {
   "cell_type": "code",
   "execution_count": 140,
   "metadata": {
    "collapsed": false
   },
   "outputs": [
    {
     "data": {
      "image/png": "[encoded data removed]",
      "text/plain": [
       "<matplotlib.figure.Figure at 0xb63ac50>"
      ]
     },
     "metadata": {},
     "output_type": "display_data"
    }
   ],
   "source": [
    "# define the grid range\n",
    "nx = 100\n",
    "ny = 100\n",
    "dx = 10\n",
    "dy = 10\n",
    "\n",
    "# create object\n",
    "drawdown_field = DrawdownGrid(nx = nx, ny = nx, dx = dx, dy = dy)\n",
    "\n",
    "# set aquifer properties\n",
    "drawdown_field.set_hydraulic_head(100)\n",
    "drawdown_field.set_transmissivity(1E0)\n",
    "drawdown_field.set_storativity(0.1)\n",
    "\n",
    "# Define and add the well:\n",
    "well_x_pos = 500\n",
    "well_y_pos = 500\n",
    "Q = 1.\n",
    "t = 3600.\n",
    "drawdown_field.add_well(well_x_pos, well_y_pos, Q, t)\n",
    "\n",
    "# Create a plot\n",
    "drawdown_field.plot()\n"
   ]
  },
  {
   "cell_type": "markdown",
   "metadata": {},
   "source": [
    "Imagine you now want to add the effect of another producing well - and in addition maybe even an injection well. These steps are now very simply:\n"
   ]
  },
  {
   "cell_type": "code",
   "execution_count": 141,
   "metadata": {
    "collapsed": false
   },
   "outputs": [
    {
     "data": {
      "image/png": "[encoded data removed]",
      "text/plain": [
       "<matplotlib.figure.Figure at 0xd35e2e8>"
      ]
     },
     "metadata": {},
     "output_type": "display_data"
    }
   ],
   "source": [
    "# First steps as before:\n",
    "\n",
    "# define the grid range\n",
    "nx = 100\n",
    "ny = 100\n",
    "dx = 10\n",
    "dy = 10\n",
    "\n",
    "# create object\n",
    "drawdown_field = DrawdownGrid(nx = nx, ny = nx, dx = dx, dy = dy)\n",
    "\n",
    "# set aquifer properties\n",
    "drawdown_field.set_hydraulic_head(100)\n",
    "drawdown_field.set_transmissivity(1E0)\n",
    "drawdown_field.set_storativity(0.1)\n",
    "\n",
    "# Define the first producing well, at an arbitrary position:\n",
    "well_x_pos = 199.2\n",
    "well_y_pos = 114.0\n",
    "Q = 1.\n",
    "t = 3600.\n",
    "drawdown_field.add_well(well_x_pos, well_y_pos, Q, t)\n",
    "\n",
    "# Second producer - has only been active for some less time but with double the pumping rate\n",
    "well_x_pos = 321.0\n",
    "well_y_pos = 801.12\n",
    "Q = 2.\n",
    "t = 7200.\n",
    "drawdown_field.add_well(well_x_pos, well_y_pos, Q, t)\n",
    "\n",
    "# Let's now add an injecting well near the center:\n",
    "well_x_pos = 455,\n",
    "well_y_pos = 510.\n",
    "Q = -3. # negative \"pumping\" for injection\n",
    "t = 1800.\n",
    "drawdown_field.add_well(well_x_pos, well_y_pos, Q, t)\n",
    "\n",
    "\n",
    "# Create a plot\n",
    "drawdown_field.plot()\n",
    "\n"
   ]
  },
  {
   "cell_type": "markdown",
   "metadata": {},
   "source": [
    "We now obtained a method to determine the resulting hydraulic head for an entire field with multiple extraction and injection wells at arbitrary positions!\n",
    "\n",
    "Of course, our \"drawdown grid\" is based on many, many simplifying assumptions (where the strongest probably is the assumption of complete homogeneity and the constant thickness over the entire range). Still, the method that we used here is not so terribly far away from methods that are still commonly used in engineering applications! \n",
    "\n",
    "Actually, this type of modelling - superposing drawdown fields of multiple wells - has been used quite a bit at some stage. It is known as \"analytic modelling\" and I am sure you can see where this name comes from.\n",
    "\n",
    "\n",
    "\n",
    "\n",
    "\n"
   ]
  },
  {
   "cell_type": "markdown",
   "metadata": {},
   "source": [
    "## Summary\n",
    "\n",
    "This exercise notebook has been quite intense - congratulations if you made it all the way to here!\n",
    "\n",
    "The aim of this notebook is to provide you with an introduction to object-oriented programming - exemplified with something useful. "
   ]
  },
  {
   "cell_type": "code",
   "execution_count": null,
   "metadata": {
    "collapsed": false
   },
   "outputs": [],
   "source": []
  },
  {
   "cell_type": "code",
   "execution_count": null,
   "metadata": {
    "collapsed": true
   },
   "outputs": [],
   "source": []
  }
 ],
 "metadata": {
  "kernelspec": {
   "display_name": "Python 2",
   "language": "python",
   "name": "python2"
  },
  "language_info": {
   "codemirror_mode": {
    "name": "ipython",
    "version": 2
   },
   "file_extension": ".py",
   "mimetype": "text/x-python",
   "name": "python",
   "nbconvert_exporter": "python",
   "pygments_lexer": "ipython2",
   "version": "2.7.10"
  }
 },
 "nbformat": 4,
 "nbformat_minor": 0
}
