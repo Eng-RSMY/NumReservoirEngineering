{
 "cells": [
  {
   "cell_type": "markdown",
   "metadata": {},
   "source": [
    "Exercise 1: First example of an IPython in a Jupyter notebook\n",
    "=============\n",
    "\n",
    "Welcome to IPyhton! IPython is an extension to Python that includes a whole set of new features. One of those are the IPython notebooks (or, actually in the meantime: running IPython in Jupyter notebooks) - and you are (obviously) in one, now!\n",
    "\n",
    "These notebooks are a convenient front-end to IPython, but also enable the inclusion of inline plots and, as you can see, text. Notebooks are very versatile. It is, for example, possible to convert an entire notebook into a PDF document, or to create a (javascript based) slide show from a notebook.\n",
    "\n",
    "We will use notebooks in this class as the main programming \"environment\". So let's have a look at a couple of features.\n",
    "\n"
   ]
  },
  {
   "cell_type": "markdown",
   "metadata": {},
   "source": [
    "## Notebook cells"
   ]
  },
  {
   "cell_type": "markdown",
   "metadata": {},
   "source": [
    "Basically, notebooks consist of cells that are either code cells or text cells. A code cell can contain multiple code lines. If you want to execute code in a cell, press: <br> `Shift + Enter`.\n",
    "Try it out:"
   ]
  },
  {
   "cell_type": "code",
   "execution_count": 1,
   "metadata": {
    "collapsed": false
   },
   "outputs": [],
   "source": [
    "a = 2 "
   ]
  },
  {
   "cell_type": "code",
   "execution_count": 2,
   "metadata": {
    "collapsed": false
   },
   "outputs": [],
   "source": [
    "b = 3"
   ]
  },
  {
   "cell_type": "code",
   "execution_count": 3,
   "metadata": {
    "collapsed": false
   },
   "outputs": [
    {
     "name": "stdout",
     "output_type": "stream",
     "text": [
      "2 + 3 is 5\n"
     ]
    }
   ],
   "source": [
    "c = a + b\n",
    "print(\"%d + %d is %d\" % (a,b,c))"
   ]
  },
  {
   "cell_type": "markdown",
   "metadata": {},
   "source": [
    "Note: the last command is the standard way to print text to the screen - or, in a notebook, below the cell that was executed. the `%d` commands in the print function transform the numerical value of a variable into a string variable that can be represented with the string function."
   ]
  },
  {
   "cell_type": "markdown",
   "metadata": {},
   "source": [
    "Customising notebooks\n",
    "----------\n",
    "\n",
    "Just as a side note: the standard look of notebooks can be adjusted through cascading style sheets (css). We have a standard layout for this class, simply execute the following cell and the layout should be adjusted:"
   ]
  },
  {
   "cell_type": "code",
   "execution_count": 6,
   "metadata": {
    "collapsed": false
   },
   "outputs": [
    {
     "data": {
      "text/html": [
       "<link href='https://fonts.googleapis.com/css?family=Marvel' rel='stylesheet' type='text/css'>\n",
       "<link href='https://fonts.googleapis.com/css?family=Lato' rel='stylesheet' type='text/css'>\n",
       "<link href='https://fonts.googleapis.com/css?family=Source+Code+Pro' rel='stylesheet' type='text/css'>\n",
       "<link href='https://fonts.googleapis.com/css?family=Open+Sans' rel='stylesheet' type='text/css'>\n",
       "<link href='https://fonts.googleapis.com/css?family=Raleway' rel='stylesheet' type='text/css'>\n",
       "<style>\n",
       "    div.cell{\n",
       "        width:700px;\n",
       "        margin-left:13%;\n",
       "        margin-right:auto;\n",
       "    }\n",
       "    h1 {\n",
       "        font-family: 'Marvel', sans-serif;\n",
       "    }\n",
       "    h2 {\n",
       "        font-family: 'Marvel', sans-serif;\n",
       "    }\n",
       "    h3 {\n",
       "        font-family: 'Marvel', sans-serif;\n",
       "        !margin-top: 10px;\n",
       "        !margin-bottom: 2px;\n",
       "    }\n",
       "    h4 {\n",
       "        font-family: 'Marvel', sans-serif;\n",
       "    }\n",
       "    h5 {\n",
       "        font-family: 'Marvel', sans-serif;\n",
       "    }\n",
       "    div.text_cell_render{\n",
       "        font-family: 'Open Sans', 'Lato', 'Raleway', sans-serif;\n",
       "        line-height: 120%;\n",
       "        font-size: 105%;\n",
       "        width: 500px;\n",
       "        margin-left: auto;\n",
       "        margin-right: auto;\n",
       "    }\n",
       "    .CodeMirror{\n",
       "        font-family: 'Source Code Pro';\n",
       "        font-size: 100%;\n",
       "    }\n",
       "/*    .prompt{\n",
       "        display: None;\n",
       "    }*/\n",
       "    .text_cell_render h1 {\n",
       "        font-weight: 100;\n",
       "        font-size: 44pt;\n",
       "        line-height: 90%;\n",
       "        color: #0168B3;\n",
       "        margin-bottom: 0.7em;\n",
       "        margin-top: 0.7em;\n",
       "        display: block;\n",
       "    }\n",
       "    .text_cell_render h2 {\n",
       "        font-weight: 100;\n",
       "        font-size: 24pt;\n",
       "        line-height: 100%;\n",
       "        color: #799096;\n",
       "        margin-bottom: 0.5em;\n",
       "        margin-top: 0.5em;\n",
       "        display: block;\n",
       "    }\n",
       "    .text_cell_render h3 {\n",
       "        font-weight: 100;\n",
       "        font-size: 20pt;\n",
       "        line-height: 100%;\n",
       "        color: #bd131c;\n",
       "        margin-bottom: 0.5em;\n",
       "        margin-top: 0.5em;\n",
       "        display: block;\n",
       "    }\n",
       "    .text_cell_render h4 {\n",
       "        font-weight: 100;\n",
       "        font-size: 18pt;\n",
       "        line-height: 100%;\n",
       "        color: #d64911;\n",
       "        margin-bottom: 0.7em;\n",
       "        margin-top: 0.7em;\n",
       "        display: block;\n",
       "    }\n",
       "    .text_cell_render h5 {\n",
       "        font-weight: 100;\n",
       "        font-size: 14pt;\n",
       "        color: #88add9;\n",
       "        margin-bottom: 0.5em;\n",
       "        margin-top: 0.5em;\n",
       "        display: block;\n",
       "    }\n",
       "    .warning{\n",
       "        color: rgb(189, 19,28)\n",
       "    }\n",
       "</style>\n",
       "<script>\n",
       "    MathJax.Hub.Config({\n",
       "                        TeX: {\n",
       "                            extensions: [\"AMSmath.js\"]\n",
       "                        },\n",
       "                tex2jax: {\n",
       "                    inlineMath: [ ['$','$'], [\"\\\\(\",\"\\\\)\"] ],\n",
       "                    displayMath: [ ['$$','$$'], [\"\\\\[\",\"\\\\]\"] ]\n",
       "                },\n",
       "                displayAlign: 'center', \n",
       "                \"HTML-CSS\": {\n",
       "                    styles: {'.MathJax_Display': {\"margin\": 4}}\n",
       "                }\n",
       "            });\n",
       "</script>\n",
       "        \n",
       "\n"
      ],
      "text/plain": [
       "<IPython.core.display.HTML object>"
      ]
     },
     "execution_count": 6,
     "metadata": {},
     "output_type": "execute_result"
    }
   ],
   "source": [
    "from IPython.core.display import HTML\n",
    "css_file = 'nre2_style.css'\n",
    "HTML(open(css_file, \"r\").read())"
   ]
  },
  {
   "cell_type": "markdown",
   "metadata": {},
   "source": [
    "Magic functions\n",
    "---------\n",
    "\n",
    "IPython enables so-called \"magic functions\" that are actually quite well named as they enable a couple of very useful additional features. The funtion names are preceeded with a `%`. For more information on the functions, simply execute `%magic` in a notebook cell:"
   ]
  },
  {
   "cell_type": "code",
   "execution_count": 6,
   "metadata": {
    "collapsed": false
   },
   "outputs": [],
   "source": [
    "%magic"
   ]
  },
  {
   "cell_type": "markdown",
   "metadata": {},
   "source": [
    "Have a look at some of the magic functions and try them out. Very useful are functions to access the computer directory structure, e.g. the (unix-style) commands `%pwd` to get the present working direcory, or `%ls -l` to get the directory list. Another very useful command is `%timeit` to evaluate the computation time of a function. We will discuss more examples at a later stage in the course."
   ]
  },
  {
   "cell_type": "code",
   "execution_count": 28,
   "metadata": {
    "collapsed": false
   },
   "outputs": [
    {
     "data": {
      "text/plain": [
       "u'C:\\\\Users\\\\Kittiphon\\\\Anaconda\\\\ReservoirEngineeringEx'"
      ]
     },
     "execution_count": 28,
     "metadata": {},
     "output_type": "execute_result"
    }
   ],
   "source": [
    "%pwd"
   ]
  },
  {
   "cell_type": "markdown",
   "metadata": {},
   "source": [
    "More information on IPython notebooks\n",
    "------------\n",
    "For more information in IPython notebook cells, the mouse functions and keyboard shortcuts for faster editing of cells, see:\n",
    "\n",
    "http://nbviewer.ipython.org/github/ipython/ipython/blob/2.x/examples/Notebook/User%20Interface.ipynb\n",
    "\n",
    "and\n",
    "\n",
    "http://ipython.org/ipython-doc/2/interactive/tutorial.html\n"
   ]
  },
  {
   "cell_type": "markdown",
   "metadata": {},
   "source": [
    "Getting help\n",
    "--------\n",
    "\n",
    "After executing the `%magic` command, a separate sub-window with help information should have been opened. You can also display help on other standard python functions in this window. Say, you need more information the function `range`, simply type"
   ]
  },
  {
   "cell_type": "code",
   "execution_count": 29,
   "metadata": {
    "collapsed": false
   },
   "outputs": [],
   "source": [
    "range??"
   ]
  },
  {
   "cell_type": "markdown",
   "metadata": {},
   "source": [
    "Tab-completion\n",
    "--------\n",
    "Yet another useful feature of IPython is the so-called \"tab-completion\" (a concept that is well-known to any Unix/Linux terminal user): when typing the first letters of a function, the name can be completed by tabbing the tabulator button. If several names are possible, a list is displayed and the appropriate command can be selected.\n",
    "\n",
    "For example, try typing the first three letters of the `range` function and press tab:"
   ]
  },
  {
   "cell_type": "code",
   "execution_count": 3,
   "metadata": {
    "collapsed": false
   },
   "outputs": [],
   "source": [
    "very_long_variable_name = 2."
   ]
  },
  {
   "cell_type": "code",
   "execution_count": 4,
   "metadata": {
    "collapsed": false
   },
   "outputs": [
    {
     "data": {
      "text/plain": [
       "2.0"
      ]
     },
     "execution_count": 4,
     "metadata": {},
     "output_type": "execute_result"
    }
   ],
   "source": [
    "very_long_variable_name"
   ]
  },
  {
   "cell_type": "markdown",
   "metadata": {},
   "source": [
    "Including plots in notebooks\n",
    "-----------\n",
    "Now to one of the best features of IPython notebooks: plots can directly be displayed in the notebook. Several ways exist to tell IPython that we want to use this functionality, for example with the following magic command:"
   ]
  },
  {
   "cell_type": "code",
   "execution_count": 7,
   "metadata": {
    "collapsed": false
   },
   "outputs": [],
   "source": [
    "%matplotlib inline"
   ]
  },
  {
   "cell_type": "markdown",
   "metadata": {},
   "source": [
    "After executing this command, we can directly display plots inside the notebook. Let's genrate some random integers and create plots:"
   ]
  },
  {
   "cell_type": "code",
   "execution_count": 8,
   "metadata": {
    "collapsed": false
   },
   "outputs": [
    {
     "data": {
      "text/plain": [
       "[<matplotlib.lines.Line2D at 0xb138da0>]"
      ]
     },
     "execution_count": 8,
     "metadata": {},
     "output_type": "execute_result"
    },
    {
     "data": {
      "image/png": "[encoded data removed]",
      "text/plain": [
       "<matplotlib.figure.Figure at 0xb28c6a0>"
      ]
     },
     "metadata": {},
     "output_type": "display_data"
    }
   ],
   "source": [
    "from numpy.random import randint\n",
    "from pylab import *\n",
    "random_numbers = randint(0,10,50)\n",
    "plot(random_numbers, 'o')"
   ]
  },
  {
   "cell_type": "markdown",
   "metadata": {},
   "source": [
    "The `plot` command above generates a simple 2-D plot as a standard where, in this case, the values stored in the `random_numbers`-list are plotted against their position in the array (zero-based).\n",
    "\n",
    "We can also generate a quick histogram of those values:"
   ]
  },
  {
   "cell_type": "code",
   "execution_count": 9,
   "metadata": {
    "collapsed": false
   },
   "outputs": [
    {
     "data": {
      "text/plain": [
       "(array([ 10.,   3.,   3.,   3.,   2.,   6.,   7.,   7.,   5.,   4.]),\n",
       " array([ 0. ,  0.9,  1.8,  2.7,  3.6,  4.5,  5.4,  6.3,  7.2,  8.1,  9. ]),\n",
       " <a list of 10 Patch objects>)"
      ]
     },
     "execution_count": 9,
     "metadata": {},
     "output_type": "execute_result"
    },
    {
     "data": {
      "image/png": "[encoded data removed]",
      "text/plain": [
       "<matplotlib.figure.Figure at 0x4587da0>"
      ]
     },
     "metadata": {},
     "output_type": "display_data"
    }
   ],
   "source": [
    "hist(random_numbers)"
   ]
  },
  {
   "cell_type": "markdown",
   "metadata": {},
   "source": [
    "Note: if you want to surpress the text output of the functions (above the plots), you can add a semicolon after the command:"
   ]
  },
  {
   "cell_type": "code",
   "execution_count": 10,
   "metadata": {
    "collapsed": false
   },
   "outputs": [
    {
     "data": {
      "image/png": "[encoded data removed]",
      "text/plain": [
       "<matplotlib.figure.Figure at 0x46f9b38>"
      ]
     },
     "metadata": {},
     "output_type": "display_data"
    }
   ],
   "source": [
    "hist(random_numbers);"
   ]
  },
  {
   "cell_type": "markdown",
   "metadata": {},
   "source": [
    "Feels like Matlab?\n",
    "---------\n",
    "\n",
    "If you know Matlab, then the functions above will seem very familiar to you. This is no coincidence - the syntax of the plotting library `pylab` that we used here is intended very similar to the Matlab plotting functions (see, for example, http://en.wikipedia.org/wiki/Matplotlib).\n",
    "\n",
    "The similarity between Python commands and Matlab actually goes a lot further. We will have a look at more similarities later when we get more into efficient scientific calculations with the Python libraries `numpy` and `scipy`."
   ]
  },
  {
   "cell_type": "markdown",
   "metadata": {},
   "source": [
    "A function and a first \"real\" graph\n",
    "-------------\n",
    "\n",
    "After learning the basics of IPython notebook, we will now create our first graph with a little bit of a scientific \"feel\" to it: the trigonometric functions on a range between 0 and 2$\\pi$.\n",
    "\n",
    "We will now write a function to calculate sine and cosine for multiple values in a list. We will then define an appropriate range, calculate the values, and plot the functions.\n",
    "\n",
    "Note: the way we are implementing the sine and cosine functions in the following is very (very, very) inefficient and we will talk about that later in more detail. However, it is more instructive and easier to understand than the more advanced functions that we will use later. \n",
    "\n",
    "1.) Define functions"
   ]
  },
  {
   "cell_type": "code",
   "execution_count": 30,
   "metadata": {
    "collapsed": false
   },
   "outputs": [],
   "source": [
    "# sine function\n",
    "def sin_func(xvals):\n",
    "    # create an empty list to store the results\n",
    "    sin_vals = [] \n",
    "    for xx in xvals: # iterate over all values in this list\n",
    "        sin_vals.append(math.sin(xx)) # append calculated value to our results list\n",
    "    return sin_vals # return the values\n",
    "\n",
    "# same for cosine function\n",
    "def cos_func(xvals):\n",
    "    cos_vals = []\n",
    "    for xx in xvals:\n",
    "        cos_vals.append(math.cos(xx))\n",
    "    return cos_vals        "
   ]
  },
  {
   "cell_type": "markdown",
   "metadata": {},
   "source": [
    "2.) Set x-range: we are creating a list between 0 and 2$\\pi$ with $n$ entries:"
   ]
  },
  {
   "cell_type": "code",
   "execution_count": 31,
   "metadata": {
    "collapsed": false
   },
   "outputs": [],
   "source": [
    "# empty list to store values\n",
    "xvals = []\n",
    "n = 100 # number of x-values\n",
    "import math\n",
    "for i in range(n):\n",
    "    i_scaled = 2*math.pi / float(n) * float(i)\n",
    "    xvals.append(i_scaled)\n"
   ]
  },
  {
   "cell_type": "markdown",
   "metadata": {},
   "source": [
    "3.) Calculate sine and cosine values:"
   ]
  },
  {
   "cell_type": "code",
   "execution_count": 32,
   "metadata": {
    "collapsed": false
   },
   "outputs": [],
   "source": [
    "sin_vals = sin_func(xvals)\n",
    "cos_vals = cos_func(xvals)"
   ]
  },
  {
   "cell_type": "markdown",
   "metadata": {},
   "source": [
    "4.) Create the plot"
   ]
  },
  {
   "cell_type": "code",
   "execution_count": 35,
   "metadata": {
    "collapsed": false
   },
   "outputs": [
    {
     "data": {
      "text/plain": [
       "[<matplotlib.lines.Line2D at 0x3d99a90>]"
      ]
     },
     "execution_count": 35,
     "metadata": {},
     "output_type": "execute_result"
    },
    {
     "data": {
      "image/png": "[encoded data removed]",
      "text/plain": [
       "<matplotlib.figure.Figure at 0x3ccd780>"
      ]
     },
     "metadata": {},
     "output_type": "display_data"
    }
   ],
   "source": [
    "%matplotlib inline\n",
    "from pylab import *\n",
    "plot(sin_vals, 'b')\n",
    "plot(cos_vals, 'r')"
   ]
  },
  {
   "cell_type": "markdown",
   "metadata": {},
   "source": [
    "Adding plot features\n",
    "------------\n",
    "\n",
    "Ok, we generated a plot in the last example - but it would hardly pass any masters thesis revision (let alone a journal paper review process!). Let's make the plot a bit more meaningful proper axes labels, titles, and a legend:"
   ]
  },
  {
   "cell_type": "code",
   "execution_count": 60,
   "metadata": {
    "collapsed": false
   },
   "outputs": [
    {
     "data": {
      "text/plain": [
       "<matplotlib.legend.Legend at 0x1c233da0>"
      ]
     },
     "execution_count": 60,
     "metadata": {},
     "output_type": "execute_result"
    },
    {
     "data": {
      "image/png": "[encoded data removed]",
      "text/plain": [
       "<matplotlib.figure.Figure at 0xc171630>"
      ]
     },
     "metadata": {},
     "output_type": "display_data"
    }
   ],
   "source": [
    "# figsize(10,6) # set the size - a little bit bigger than before\n",
    "plot(xvals, sin_vals, 'b', label = 'sin') # now including the plot label for the legend\n",
    "plot(xvals, cos_vals, 'r', label = 'cos')\n",
    "xlabel('x')\n",
    "ylabel('y')\n",
    "grid()\n",
    "title('A plot showing the functions sin(x) and cos(x)')\n",
    "legend(loc = 'lower left')"
   ]
  },
  {
   "cell_type": "markdown",
   "metadata": {},
   "source": [
    "This plot is a little bit better - but still not great. For example, we would probably like to have minor ticks, a proper labelling along the x-axis in multiples of $\\pi$, adjust the x-range to 2$\\pi$ and use a different font size. \n",
    "\n",
    "More functionality is enabled in the library `matplotlib.pyplot`. A brief introduction is available here: http://matplotlib.org/users/pyplot_tutorial.html\n",
    "\n",
    "We will have a look at these features later in the course."
   ]
  },
  {
   "cell_type": "markdown",
   "metadata": {},
   "source": [
    "Do you know XKCD and think this plot looks boring?\n",
    "-----------\n",
    "\n",
    "Then have a look at this:\n",
    "\n",
    "http://nbviewer.ipython.org/url/jakevdp.github.com/downloads/notebooks/XKCD_plots.ipynb\n"
   ]
  },
  {
   "cell_type": "markdown",
   "metadata": {},
   "source": [
    "Exercise\n",
    "-------\n",
    "\n",
    "Now that you had a look at a way to use functions and create plots, have a go yourself: create a plot of the exponential function:\n",
    "\n",
    "$$f(x) = a\\,e^{bx}$$\n",
    "\n",
    "In an appropriate range for given parameters $a$ and $b$.\n",
    "\n",
    "Note: if you don't feel challenged enough, define a function for heat production due to radioactive decay of the main (long-lived) radiogenic nucleids (K_40, Th_232, U_235, U_238) and create a plot for the change of heat production for the history of the Earth."
   ]
  },
  {
   "cell_type": "code",
   "execution_count": 56,
   "metadata": {
    "collapsed": false
   },
   "outputs": [
    {
     "data": {
      "image/png": "[encoded data removed]",
      "text/plain": [
       "<matplotlib.figure.Figure at 0xc185ef0>"
      ]
     },
     "metadata": {},
     "output_type": "display_data"
    }
   ],
   "source": [
    "import numpy as np\n",
    "%matplotlib inline\n",
    "\n",
    "def f_func(x, a, b):\n",
    "    return a * np.exp(b * x) \n",
    "\n",
    "x = np.linspace(0,4,50)\n",
    "y = f_func(x, 2.5, 1.3)\n",
    "\n",
    "plot(x, y, 'r')\n",
    "xlabel('x')\n",
    "ylabel('y')\n",
    "title('A plot of an exponential function')\n",
    "grid()"
   ]
  },
  {
   "cell_type": "markdown",
   "metadata": {},
   "source": [
    "Easter Egg\n",
    "--------\n",
    "\n",
    "So, now that you did get a little feel for programming in Python, have a look at this nice little \"easter egg\" hidden in the Python standard imports (about \"the way\" to program Python):"
   ]
  },
  {
   "cell_type": "code",
   "execution_count": 57,
   "metadata": {
    "collapsed": false
   },
   "outputs": [
    {
     "name": "stdout",
     "output_type": "stream",
     "text": [
      "The Zen of Python, by Tim Peters\n",
      "\n",
      "Beautiful is better than ugly.\n",
      "Explicit is better than implicit.\n",
      "Simple is better than complex.\n",
      "Complex is better than complicated.\n",
      "Flat is better than nested.\n",
      "Sparse is better than dense.\n",
      "Readability counts.\n",
      "Special cases aren't special enough to break the rules.\n",
      "Although practicality beats purity.\n",
      "Errors should never pass silently.\n",
      "Unless explicitly silenced.\n",
      "In the face of ambiguity, refuse the temptation to guess.\n",
      "There should be one-- and preferably only one --obvious way to do it.\n",
      "Although that way may not be obvious at first unless you're Dutch.\n",
      "Now is better than never.\n",
      "Although never is often better than *right* now.\n",
      "If the implementation is hard to explain, it's a bad idea.\n",
      "If the implementation is easy to explain, it may be a good idea.\n",
      "Namespaces are one honking great idea -- let's do more of those!\n"
     ]
    }
   ],
   "source": [
    "import this"
   ]
  },
  {
   "cell_type": "markdown",
   "metadata": {},
   "source": [
    "Bonus: how to speed-up things\n",
    "---------------\n",
    "\n",
    "I mentioned above that the way we did the calculation of the trigonometric functions is terribly inefficient. What do you think might be the reason? If you know Matlab, you most likely know the answer.\n",
    "\n",
    "Hints:\n",
    "- You can measure performance of a function with the magic function %timeit func-call\n",
    "- Compare the function `sin` that we used before with the function `math.sin` from the math library (`import math` first!). \n",
    "- Have a look at the according function from the library `numpy` and see if you can get a better efficiency!\n",
    "\n",
    "If you don't get anywhere with these questions, don't despair - we will talk about these things in the next exercise!"
   ]
  },
  {
   "cell_type": "markdown",
   "metadata": {},
   "source": [
    "More Information\n",
    "-----------\n",
    "\n",
    "A good tutorial in IPython notebooks explaining some more features is available here:\n",
    "\n",
    "http://opentechschool.github.io/python-data-intro/core/notebook.html"
   ]
  },
  {
   "cell_type": "code",
   "execution_count": null,
   "metadata": {
    "collapsed": false
   },
   "outputs": [],
   "source": []
  }
 ],
 "metadata": {
  "kernelspec": {
   "display_name": "Python 2",
   "language": "python",
   "name": "python2"
  },
  "language_info": {
   "codemirror_mode": {
    "name": "ipython",
    "version": 2
   },
   "file_extension": ".py",
   "mimetype": "text/x-python",
   "name": "python",
   "nbconvert_exporter": "python",
   "pygments_lexer": "ipython2",
   "version": "2.7.10"
  }
 },
 "nbformat": 4,
 "nbformat_minor": 0
}
