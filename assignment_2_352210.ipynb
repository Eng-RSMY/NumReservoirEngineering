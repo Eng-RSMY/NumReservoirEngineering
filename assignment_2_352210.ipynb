{
 "cells": [
  {
   "cell_type": "markdown",
   "metadata": {},
   "source": [
    "Before you submit this assignment, make sure everything runs as you expect it to.  \n",
    "* **restart the kernel** (in the menubar, select Kernel -> Restart)\n",
    "* **run all cells** (in the menubar, select Cell -> Run All)\n",
    "\n",
    "Make sure to fill in any place that says \n",
    "```python\n",
    "# YOUR CODE HERE\n",
    "```\n",
    "and fill in your name (and of your fellow students, if you submit together), and according matriculation number below. If you are more than one student, separate by a comma **,**"
   ]
  },
  {
   "cell_type": "code",
   "execution_count": 1,
   "metadata": {
    "collapsed": true
   },
   "outputs": [],
   "source": [
    "NAME = \"Kittiphon Boonma\"\n",
    "MATNUM = \"352210\""
   ]
  },
  {
   "cell_type": "markdown",
   "metadata": {},
   "source": [
    "# Assignment 2: Finite Difference models\n",
    "##### (30 Points)\n",
    "\n",
    "After the introduction to scientific computing with Python in the exercise - and the fundamentals of fluid mechanics and porous media flow in the lecture - we are now ready to bring those two things closer together to get closer to solving actual reservoir engineering problems with numerical methods! \n",
    "\n",
    "During this exercise, we will first have a look at several methods to solve the types of algebraic systems that we obtain for 1-D Laplace and Poisson equations. Starting from the matrix we developed at the end of the last exercise, we will move from direct solvers to iterative solvers. Finally, we will have a look at the implementation of different boundary conditions and sources and sinks.\n",
    "\n",
    "If you follow these examples carefully and implement the code correctly for the 1-D example that we consider here, then you are well prepared for the assignment!\n"
   ]
  },
  {
   "cell_type": "code",
   "execution_count": 2,
   "metadata": {
    "collapsed": false
   },
   "outputs": [
    {
     "data": {
      "text/html": [
       "<link href='https://fonts.googleapis.com/css?family=Marvel' rel='stylesheet' type='text/css'>\n",
       "<link href='https://fonts.googleapis.com/css?family=Lato' rel='stylesheet' type='text/css'>\n",
       "<link href='https://fonts.googleapis.com/css?family=Source+Code+Pro' rel='stylesheet' type='text/css'>\n",
       "<link href='https://fonts.googleapis.com/css?family=Open+Sans' rel='stylesheet' type='text/css'>\n",
       "<link href='https://fonts.googleapis.com/css?family=Raleway' rel='stylesheet' type='text/css'>\n",
       "<style>\n",
       "    div.cell{\n",
       "        width:900px;\n",
       "        margin-left:1.5%;\n",
       "        margin-right:1.5%;\n",
       "    }\n",
       "    h1 {\n",
       "        font-family: 'Marvel', sans-serif;\n",
       "    }\n",
       "    h2 {\n",
       "        font-family: 'Marvel', sans-serif;\n",
       "    }\n",
       "    h3 {\n",
       "        font-family: 'Marvel', sans-serif;\n",
       "        margin-top: 10px;\n",
       "        margin-bottom: 2px;\n",
       "    }\n",
       "    h4 {\n",
       "        font-family: 'Mavel', sans-serif;\n",
       "    }\n",
       "    h5 {\n",
       "        font-family: 'Marvel', sans-serif;\n",
       "    }\n",
       "    div.text_cell_render{\n",
       "        font-family: 'Open Sans', 'Raleway', 'Helvetica Neue', 'Lato', sans-serif;\n",
       "        line-height: 120%;\n",
       "        font-size: 110%;\n",
       "        width: 775px;\n",
       "        margin-left: auto;\n",
       "        margin-right: auto;\n",
       "    }\n",
       "    div.cell.code_cell{\n",
       "        background-color: rgb(240,240,240);\n",
       "        border-radius: 5px;\n",
       "        width: 775px;\n",
       "        margin-top: .7em;\n",
       "        margin-left: 9.5em;\n",
       "        margin-right: auto;\n",
       "    }\n",
       "    .CodeMirror{\n",
       "        font-family: 'Source Code Pro';\n",
       "        font-size: 100%;\n",
       "    }\n",
       "/*    .prompt{\n",
       "        display: None;\n",
       "    }*/\n",
       "    .text_cell_render h1 {\n",
       "        font-weight: 100;\n",
       "        font-size: 48pt;\n",
       "        line-height: 100%;\n",
       "        color: #0168B3;\n",
       "        margin-bottom: 0.7em;\n",
       "        margin-top: 0.7em;\n",
       "        display: block;\n",
       "    }\n",
       "    .text_cell_render h2 {\n",
       "        font-weight: 100;\n",
       "        font-size: 28pt;\n",
       "        line-height: 100%;\n",
       "        color: #799096;\n",
       "        margin-bottom: 0.7em;\n",
       "        margin-top: 0.7em;\n",
       "        display: block;\n",
       "    }\n",
       "    .text_cell_render h3 {\n",
       "        font-weight: 100;\n",
       "        font-size: 24pt;\n",
       "        line-height: 100%;\n",
       "        color: #bd131c;\n",
       "        margin-bottom: 0.7em;\n",
       "        margin-top: 0.7em;\n",
       "        display: block;\n",
       "    }\n",
       "    .text_cell_render h4 {\n",
       "        font-weight: 100;\n",
       "        font-size: 20pt;\n",
       "        line-height: 100%;\n",
       "        color: #d64911;\n",
       "        margin-bottom: 0.7em;\n",
       "        margin-top: 0.7em;\n",
       "        display: block;\n",
       "    }\n",
       "    .text_cell_render h5 {\n",
       "        font-weight: 330;\n",
       "        font-size: 15pt;\n",
       "        color: #799096;\n",
       "        margin-bottom: 0.5em;\n",
       "        margin-top: 0.5em;\n",
       "        display: block;\n",
       "    }\n",
       "    .warning{\n",
       "        color: rgb(189, 19,28)\n",
       "    }\n",
       "    /*div #notebook{\n",
       "        background: #fff;\n",
       "        width: 1000px;\n",
       "        padding-left: 1em;\n",
       "        margin: auto;\n",
       "    }*/\n",
       "</style>\n",
       "<script>\n",
       "    MathJax.Hub.Config({\n",
       "                        TeX: {\n",
       "                            extensions: [\"AMSmath.js\"]\n",
       "                        },\n",
       "                tex2jax: {\n",
       "                    inlineMath: [ ['$','$'], [\"\\\\(\",\"\\\\)\"] ],\n",
       "                    displayMath: [ ['$$','$$'], [\"\\\\[\",\"\\\\]\"] ]\n",
       "                },\n",
       "                displayAlign: 'center', \n",
       "                \"HTML-CSS\": {\n",
       "                    styles: {'.MathJax_Display': {\"margin\": 4}}\n",
       "                }\n",
       "            });\n",
       "</script>\n",
       "        \n",
       "\n"
      ],
      "text/plain": [
       "<IPython.core.display.HTML object>"
      ]
     },
     "execution_count": 2,
     "metadata": {},
     "output_type": "execute_result"
    }
   ],
   "source": [
    "# use this cell to import further needed libraries. \n",
    "#But generally, these should suffice.\n",
    "\n",
    "import numpy as np\n",
    "import math as mt\n",
    "import matplotlib.pyplot as plt\n",
    "%matplotlib inline\n",
    "\n",
    "\n",
    "import colormaps as cmaps\n",
    "plt.register_cmap(name='viridis', cmap=cmaps.viridis)\n",
    "\n",
    "\n",
    "from IPython.core.display import HTML\n",
    "css_file = 'nre2_style.css'\n",
    "HTML(open(css_file,'r').read())"
   ]
  },
  {
   "cell_type": "markdown",
   "metadata": {},
   "source": [
    "## Solving the tridiagonal matrix\n",
    "##### (10 Points)\n",
    "\n",
    "During the last lecture, you have seen the meaning of the tridiagonal matrix that we developed at the end of the last exercise: the matrix can be used to solve a problem that can be described with the Laplace equation in 1-D (for Dirichlet boundary conditions).\n",
    "\n",
    "Here the matrix as a reminder:\n",
    "\n",
    "$A = \\begin{bmatrix}\n",
    "-2 & 1 & 0 & 0 & \\cdots & 0\\\\\n",
    "1 & -2 & 1 &  0 & \\cdots & 0\\\\\n",
    "0 & 1 & -2 & 1 & \\cdots & 0\\\\\n",
    "\\vdots & & & & & \\vdots \\\\\n",
    "0 & \\cdots & 0 & 1 & -2 & 1 \\\\\n",
    "0 & \\cdots & 0 & 0 & 1 & -2\n",
    "\\end{bmatrix}$\n",
    "\n",
    "And the system of algebraic equations that we want to solve:\n",
    "\n",
    "$$A u = b$$ \n",
    "\n",
    "where $u$ is the vector with the (unknown) state variables that we want to know, and $b$ encapsulates the boundary conditions.\n",
    "\n",
    "The straight-forward way to solve this equation is to use the inverted matrix $A^{-1}$. \n",
    "\n",
    "**Exercise**:\n",
    "\n",
    "* write function to create the tridiagonal matrix **(2 Points)**\n",
    "```python\n",
    "def tridiag_121(n):\n",
    "    \"\"\"\n",
    "    Create a tridiagonal matrix of 1 -2 1 form of size n x n \n",
    "    \"\"\"\n",
    "```\n",
    "* extend it to solve the following problem:  **(3 Points)**  \n",
    "solve for temperatures (in a steady-state temperature field without sources and sinks) on 10 nodes, considering $b$ with values of of $T_0 = 10^o$C and $T_1 = 20^o$C (These are Dirichlet boundary conditions, which we will get to know later)\n",
    "```python\n",
    "def inv_tridiag_121_b(n,b0,b1):\n",
    "    \"\"\"\n",
    "    Make a matrix inversion of a tridiagonal matrix of size \n",
    "    n x n with the boundary conditions b (array of size n)\n",
    "    returns the array u\n",
    "    \"\"\"\n",
    "```"
   ]
  },
  {
   "cell_type": "code",
   "execution_count": 3,
   "metadata": {
    "collapsed": true
   },
   "outputs": [],
   "source": [
    "n = 10\n",
    "dx = n\n",
    "b0 = 10.\n",
    "b1 = 20.\n",
    "max_iter = 10000\n",
    "epsilon_tol = 1e-6"
   ]
  },
  {
   "cell_type": "code",
   "execution_count": 4,
   "metadata": {
    "collapsed": true
   },
   "outputs": [],
   "source": [
    "def tridiag_121(n):\n",
    "    \"\"\"\n",
    "    Create a tridiagonal matrix of 1 -2 1 form of size n x n\n",
    "    \"\"\"\n",
    "    # YOUR CODE HERE\n",
    "    A = np.zeros(shape=(n,n))\n",
    "    i,j = np.indices(A.shape)\n",
    "    A[i==j] = -2.\n",
    "    A[i==j-1] = 1.\n",
    "    A[i==j+1] = 1.\n",
    "    return  A"
   ]
  },
  {
   "cell_type": "code",
   "execution_count": 5,
   "metadata": {
    "collapsed": true
   },
   "outputs": [],
   "source": [
    "from numpy.testing import assert_array_equal\n",
    "assert_array_equal(tridiag_121(10)[7],[ 0.,  0.,  0.,  0.,  0.,  0.,  1., -2.,  1.,  0.])"
   ]
  },
  {
   "cell_type": "code",
   "execution_count": 6,
   "metadata": {
    "collapsed": true
   },
   "outputs": [],
   "source": [
    "def inv_tridiag_121_b(n,b0,b1):\n",
    "    \"\"\"\n",
    "    Make a matrix inversion of a tridiagonal matrix of size n x n with the \n",
    "    boundary conditions b (also of size n x n)\n",
    "    \"\"\"\n",
    "    # YOUR CODE HERE\n",
    "    A = tridiag_121(n)\n",
    "    b = np.zeros(n)\n",
    "    b[0] = -b0\n",
    "    b[-1] =-b1\n",
    "    return np.dot(np.linalg.inv(A), b)"
   ]
  },
  {
   "cell_type": "code",
   "execution_count": 7,
   "metadata": {
    "collapsed": true
   },
   "outputs": [],
   "source": [
    "from numpy.testing import assert_array_almost_equal\n",
    "assert_array_almost_equal(inv_tridiag_121_b(10,10.,20.),[ 10.90909091,  11.81818182,  12.72727273,  13.63636364,\n",
    "        14.54545455,  15.45454545,  16.36363636,  17.27272727,\n",
    "        18.18181818,  19.09090909])"
   ]
  },
  {
   "cell_type": "markdown",
   "metadata": {},
   "source": [
    "Now, create a plot of the results: What do you observe? **(Plot: 3 Points, Text answer: 2 Points)**"
   ]
  },
  {
   "cell_type": "code",
   "execution_count": 8,
   "metadata": {
    "collapsed": false
   },
   "outputs": [
    {
     "data": {
      "image/png": "[encoded data removed]",
      "text/plain": [
       "<matplotlib.figure.Figure at 0xa62dba8>"
      ]
     },
     "metadata": {},
     "output_type": "display_data"
    }
   ],
   "source": [
    "# YOUR CODE HERE\n",
    "plt.plot(inv_tridiag_121_b(10,10.,20.),'ro--')\n",
    "plt.xlim([-1,10])\n",
    "plt.title('Solutions from direct solver (matrix inversion)')\n",
    "plt.xlabel(\"Discretisation 'n'\")\n",
    "plt.ylabel(\"Output values\")\n",
    "plt.grid()"
   ]
  },
  {
   "cell_type": "markdown",
   "metadata": {},
   "source": [
    "The plot show a linear trend. This linear interpolation is similar to the characteristic arose from physical problems such as Diffusion Problem where we have two heat sources of different temperatures on each of the two sides of a block --> Laplace del^2 T = 0 --> meaning that the edge values take on the values of boundary conditions."
   ]
  },
  {
   "cell_type": "markdown",
   "metadata": {},
   "source": [
    "\n",
    "We have seen the previous example before and discussed it in the solution notebook to the last exercise. We will now have a look at other ways to solve the equation."
   ]
  },
  {
   "cell_type": "markdown",
   "metadata": {},
   "source": [
    "## Iterative solvers\n",
    "\n",
    "We didn't discuss iterative methods in the lecture yet (you'll have to wait until next Monday for that), but the basic idea is pretty simple: instead of solving the system of equations at once (as with direct solvers), we start with an initial guess of the solution and then use the algebraic equations to iteratively refine our guess until we reach a solution that is close to the true result.\n",
    "\n",
    "So, let's first go back one step from the matrix equation above and look again at the underlying equations. We will start with the discretisation of a 1-D Poisson equation (more on this equation as well in the next lecture!) into a central finite difference scheme, considering constant $\\Delta x$.\n",
    "\n",
    "The partial differential equation is:\n",
    "\n",
    "$$\\frac{d^2 u}{d x^2} = q$$\n",
    "\n",
    "And the central difference discretisation:\n",
    "\n",
    "$$\\frac{u_{i-1} - 2 u_i + u_{i+1}}{\\Delta x^2} = q_i$$\n",
    "\n",
    "We can solve the discrete equation for $u_i$:\n",
    "\n",
    "$$u_i = \\frac{1}{2} \\left( u_{i-1} + u_{i+1} - \\Delta x^2 q_i\\right)$$\n",
    "\n",
    "If we now consider iterative solution methods, then we basically want to use this expression to obtain a new estimate for $u$ at a time $n+1$ from the values at the previous iteration step $n$. There are two standard ways of doing this that we are now implementing in this exercise.\n",
    "\n",
    "In addition to defining the iteration methods to solve the problem, we need a way to determine if we converge towards a solution. As we discussed during the lecture, in a general numerical modelling context, we can not actually determine the true convergence because we do not know the true answer. So, what we usually do instead is to check if the solutions do not change anymore from iteration to iteration. This check can be performed in several ways (see lecture). We will here use the L2-norm for convergence, calculated as:\n",
    "\n",
    "$$\\epsilon = \\sqrt{\\sum_{i,j} \\left(u_{i,j}^{n+1} - u_{i,j}^n \\right)^2}$$\n",
    "\n",
    "We stop the iterations when we reach a certain tolerance level so that\n",
    "\n",
    "$$\\epsilon < \\epsilon_{tol}$$\n"
   ]
  },
  {
   "cell_type": "markdown",
   "metadata": {},
   "source": [
    "## The Jacobi method\n",
    "##### (10 Points)\n",
    "\n",
    "The straight-forward way to solve for $u_i$ at a new iteration step is to use the values from the previous iteration, i.e.:\n",
    "\n",
    "$$u_i^{n+1} = \\frac{1}{2} \\left( u_{i-1}^n + u_{i+1}^n - \\Delta x^2 q_i\\right)$$\n",
    "\n",
    "This method is called the Jacobi method.\n",
    "\n",
    "**Exercise**: solve the 1-D Laplace problem of before (note: no sources/sinks, so $q$ = 0!) with the Jacobi method with the following steps:\n",
    "\n",
    "- Write a function for a single iteration **(2 Points)**  \n",
    "```python\n",
    "    def jacobi_iter(u,q,dx):\n",
    "```\n",
    "- Write a function to update a value $u_i$ **(3 Points)**\n",
    "\n",
    "These steps will take some work, so here the base construct that you could use:\n",
    "```python\n",
    "def solve_laplace_jac(b0,b1,dx,max_iter,epsilon_tol):\n",
    "    # initialize u with all ones\n",
    "    u = \n",
    "    # Set boundary conditions b0 and b1 at beginning and end of u\n",
    "    # set parameters\n",
    "    # no sources / sinks, so set q to 0\n",
    "    # do a for loop for jacobi iterations\n",
    "        # copy results from previous iteration\n",
    "        # perform iteration\n",
    "        # check for convergence by calculating epsilon\n",
    "        # if epsilon is smaller than epsilon_tol, break for loop\n",
    "    return u,i # i being the current iteration\n",
    "```\n",
    "- Apply this function __solve_laplace_jac__ iteratively until a convergence criteria is met\n",
    "- The function should return u and the current iteration i_jac:\n",
    "    - *u,i_jac = solve_laplace_jac(b0,b1,dx,max_iter,epsilon_tol)*\n",
    "- Plot the results **(3 Points)**\n",
    "- Compare them to the direct solution **(2 Points)**"
   ]
  },
  {
   "cell_type": "code",
   "execution_count": 9,
   "metadata": {
    "collapsed": true
   },
   "outputs": [],
   "source": [
    "# First step: define the function for a single iteration:\n",
    "\n",
    "def jacobi_iter(u, q, dx):\n",
    "    \"\"\"Function to perform the Jacobi iteration for all values in the array u\n",
    "    \n",
    "    u = 1-D np.array with values of previous iteration\n",
    "    q = 1-D np.array with source/sink terms (not required for Laplace solution!)\n",
    "    dx = float : node spacing (not required for Laplace solution!)\n",
    "    \"\"\"   \n",
    "    # Hint: do not forget to create a copy of u before you overwrite the values!!\n",
    "    \n",
    "    # YOUR CODE HERE\n",
    "    u_iter=u.copy()\n",
    "    for i in range(1,dx-1):\n",
    "        u[i] = 0.5 * (u_iter[i-1] + u_iter[i+1] - (dx**2 * q[i]))\n",
    "    return u"
   ]
  },
  {
   "cell_type": "code",
   "execution_count": 10,
   "metadata": {
    "collapsed": false
   },
   "outputs": [
    {
     "data": {
      "text/plain": [
       "(array([ 30.        ,  32.22221993,  34.44444006,  36.66666086,\n",
       "         38.88888218,  41.11110451,  43.33332743,  45.55555125,\n",
       "         47.77777545,  50.        ]), 253)"
      ]
     },
     "execution_count": 10,
     "metadata": {},
     "output_type": "execute_result"
    }
   ],
   "source": [
    "def solve_laplace_jac(b0,b1,dx,max_iter,epsilon_tol):\n",
    "    \"\"\"\n",
    "    Function to solve the 1D problem in iterations until \n",
    "    convergence is met\n",
    "    Initialize u within this function!\n",
    "    b0 = boundary condition 1\n",
    "    b1 = boundaray condition 2\n",
    "    dx = discretization (= n)\n",
    "    max_iter = maximum iteration number\n",
    "    epsilon_tol = convergence limit\n",
    "    \"\"\"\n",
    "    \n",
    "    # YOUR CODE HERE\n",
    "    # initialize u with all ones\n",
    "    u = np.ones(dx)\n",
    "    \n",
    "    # Set boundary conditions b0 and b1 at beginning and end of u\n",
    "    u[0] = b0\n",
    "    u[-1] = b1\n",
    "    \n",
    "    # set parameters\n",
    "    \n",
    "   \n",
    "    # no sources / sinks, so set q to 0\n",
    "    q = np.zeros(dx)\n",
    "    \n",
    "        \n",
    "    # do a for loop for jacobi iterations\n",
    "    for iter in range(max_iter):\n",
    "\n",
    "        # copy results from previous iteration\n",
    "        u_previous = u.copy()\n",
    "                  \n",
    "        # perform iteration\n",
    "        u_current = jacobi_iter(u, q, dx)\n",
    "        u = u_current\n",
    "               \n",
    "        # check for convergence by calculating epsilon\n",
    "        epsilon = np.sqrt(np.sum((u - u_previous)**2))\n",
    "                      \n",
    "        # if epsilon is smaller than epsilon_tol, break for loop\n",
    "        if epsilon < epsilon_tol:\n",
    "            break\n",
    "        \n",
    "    return u, iter\n",
    "\n",
    "####################################################################\n",
    "\n",
    "solve_laplace_jac(30.,50.,10,10000,1e-6)"
   ]
  },
  {
   "cell_type": "code",
   "execution_count": 11,
   "metadata": {
    "collapsed": true
   },
   "outputs": [],
   "source": [
    "assert_array_almost_equal(solve_laplace_jac(30.,50.,10,10000,1e-6)[0],[ 30.,32.22221993,34.44444006,36.66666086,\n",
    "                                                                        38.88888218, 41.11110451,  43.33332743,\n",
    "                                                                        45.55555125, 47.77777545,  50.])"
   ]
  },
  {
   "cell_type": "markdown",
   "metadata": {},
   "source": [
    "Now: create a plot and compare the result for the direct solution you obtained before:\n",
    "*Note* Your function should return two parameters, $u\\_jac$ and the current iteration $iter\\_jac$, so be called:\n",
    "```python\n",
    "u_jac,iter_jac = solve_laplace_jac(b0,b1,dx,max_iter,epsilon_tol)\n",
    "```"
   ]
  },
  {
   "cell_type": "code",
   "execution_count": 12,
   "metadata": {
    "collapsed": false
   },
   "outputs": [
    {
     "data": {
      "image/png": "[encoded data removed]",
      "text/plain": [
       "<matplotlib.figure.Figure at 0xa728e48>"
      ]
     },
     "metadata": {},
     "output_type": "display_data"
    }
   ],
   "source": [
    "# YOUR CODE HERE\n",
    "n = 10\n",
    "dx = n\n",
    "b0 = 30.\n",
    "b1 = 50.\n",
    "max_iter = 10000\n",
    "epsilon_tol = 1e-6\n",
    "\n",
    "#Direct Solution\n",
    "direct = plt.plot(inv_tridiag_121_b(n,b0,b1),'bo--', label='Direct Soln.')\n",
    "#plt.xlim([-1,10])\n",
    "\n",
    "#Jacobi Method\n",
    "u_jac,iter_jac = solve_laplace_jac(b0,b1,dx,max_iter,epsilon_tol)\n",
    "jacobi = plt.plot(u_jac,'ro-', label='Jacobi Soln.')\n",
    "\n",
    "\n",
    "plt.title('Comparing solutions from different solvers')\n",
    "plt.legend(loc = 'upper left')\n",
    "plt.xlabel(\"Discretisation 'n'\")\n",
    "plt.ylabel(\"Output values\")\n",
    "plt.grid()"
   ]
  },
  {
   "cell_type": "markdown",
   "metadata": {},
   "source": [
    "The first obvious observation would be the difference in gradients of the two methods.  In Jacobi iteration, the start and end values fixed and only the nodes inbetween were updated by the loops whereas in the direct solver, all the nodes, including the boundary nodes, were updated as the iteration progressed.  "
   ]
  },
  {
   "cell_type": "markdown",
   "metadata": {},
   "source": [
    "## The Gauss-Seidel method\n",
    "##### (10 Points)\n",
    "\n",
    "You probably noticed one aspect when you wrote the function for the Jacobi method above: when you iterate along the unknown values $u_i$ you actually have already updated information about $u_{i+-1}$ because you calculated it in the previous step! So: why not use this newer information instead of the one from the last time step?\n",
    "\n",
    "This is exactly the idea of the Gauss-Seidel method, a simple extension to the Jacobi method. Instead of using the previous value for $u_{i+1}$, we simply use the already updated value:\n",
    "\n",
    "$$u_i^{n+1} = \\frac{1}{2} \\left( u_{i-1}^{\\color{red}{n+1}} + u_{i+1}^n - \\Delta x^2 q_i \\right)$$\n",
    "\n",
    "This is a simple adaptation, but leads to a faster convergence of the problem!\n",
    "\n",
    "**Exercise**: \n",
    "\n",
    "- Implement a function to perform one Gauss-Seidel iteration **(2 Points)**  \n",
    "\n",
    "```python\n",
    "def gauss_seidel_iter(u,q,dx):\n",
    "```\n",
    "\n",
    "- Adapt your *solve_laplace_jac* function from above to use the Gauss-Seidel method as function *solve_laplace_gs* **(3 Points)**  \n",
    "    These steps will take some work, so here the base construct that you could use:\n",
    "```python\n",
    "def solve_laplace_gs(b0,b1,dx,max_iter,epsilon_tol):\n",
    "    # initialize u with all ones\n",
    "    u = \n",
    "    # Set boundary conditions b0 and b1 at beginning and end of u\n",
    "    # set parameters\n",
    "    # no sources / sinks, so set q to 0\n",
    "    # do a for loop for jacobi iterations\n",
    "        # copy results from previous iteration\n",
    "        # perform iteration\n",
    "        # check for convergence by calculating epsilon\n",
    "        # if epsilon is smaller than epsilon_tol, break for loop\n",
    "    return u,i # i being the current iteration\n",
    "```\n",
    "- Apply the function **solve_laplace_gs** iteratively until a convergence criteria is met\n",
    "- The function should return u and the current iteration i_gs:\n",
    "    - *u,i_gs = solve_laplace_gs(b0,b1,dx,max_iter,epsilon_tol)*\n",
    "- Plot the results **(3 Points)**\n",
    "- Check if my claim that it converges faster is actually true! **(2 Points)**\n"
   ]
  },
  {
   "cell_type": "code",
   "execution_count": 13,
   "metadata": {
    "collapsed": true
   },
   "outputs": [],
   "source": [
    "def gauss_seidel_iter(u, q, dx):\n",
    "    \"\"\"Function to perform the Gauss-Seidel iteration for all values in the array u\n",
    "    u = 1-D np.array with values of previous iteration\n",
    "    q = 1-D np.array with source/sink terms (not required for Laplace solution!)\n",
    "    dx = float : node spacing (not required for Laplace solution!)\n",
    "    \"\"\"  \n",
    "    # Note: copy of u not required (as we operate always on updated array!)\n",
    "    \n",
    "    # YOUR CODE HERE\n",
    "    \n",
    "    for i in range(1,dx-1):\n",
    "        u[i] = 0.5 * (u[i-1] + u[i+1] - (dx**2 * q[i]))\n",
    "    return u"
   ]
  },
  {
   "cell_type": "code",
   "execution_count": 14,
   "metadata": {
    "collapsed": false
   },
   "outputs": [
    {
     "data": {
      "text/plain": [
       "(array([ 40.        ,  42.22222075,  44.44444185,  46.66666338,\n",
       "         48.88888537,  51.11110781,  53.3333306 ,  55.55555365,\n",
       "         57.77777683,  60.        ]), 135)"
      ]
     },
     "execution_count": 14,
     "metadata": {},
     "output_type": "execute_result"
    }
   ],
   "source": [
    "def solve_laplace_gs(b0,b1,dx,max_iter,epsilon_tol):\n",
    "    \"\"\"\n",
    "    Function to solve the 1D problem in iterations until \n",
    "    convergence is met\n",
    "    Initialize u within this function!\n",
    "    b0 = boundary condition 1\n",
    "    b1 = boundaray condition 2\n",
    "    dx = discretization (= n)\n",
    "    max_iter = maximum iteration number\n",
    "    epsilon_tol = convergence limit\n",
    "    \"\"\"\n",
    "    # YOUR CODE HERE\n",
    "    # initialize u with all ones\n",
    "    u = np.ones(dx)\n",
    "    \n",
    "    # Set boundary conditions b0 and b1 at beginning and end of u\n",
    "    u[0] = b0\n",
    "    u[-1] = b1\n",
    "    \n",
    "    # set parameters\n",
    "    \n",
    "   \n",
    "    # no sources / sinks, so set q to 0\n",
    "    q = np.zeros(dx)\n",
    "    \n",
    "        \n",
    "    # do a for loop for jacobi iterations\n",
    "    for iter in range(1,max_iter):\n",
    "\n",
    "        # copy results from previous iteration\n",
    "        u_previous = u.copy()\n",
    "                    \n",
    "        # perform iteration\n",
    "        u_current = gauss_seidel_iter(u, q, dx)\n",
    "             \n",
    "        # check for convergence by calculating epsilon\n",
    "        epsilon = np.sqrt(np.sum((u - u_previous)**2))\n",
    "                      \n",
    "        # if epsilon is smaller than epsilon_tol, break for loop\n",
    "        if epsilon < epsilon_tol:\n",
    "            break\n",
    "        \n",
    "    return u, iter\n",
    "\n",
    "#########################################################\n",
    "\n",
    "solve_laplace_gs(40.,60.,10,10000,1e-6)"
   ]
  },
  {
   "cell_type": "code",
   "execution_count": 15,
   "metadata": {
    "collapsed": true
   },
   "outputs": [],
   "source": [
    "assert_array_almost_equal(solve_laplace_gs(40.,60.,10,10000,1e-6)[0],[ 40.,42.22222075,44.44444185,46.66666338,\n",
    "                                                                      48.88888537,51.11110781,53.3333306 ,\n",
    "                                                                      55.55555365,57.77777683,  60.])"
   ]
  },
  {
   "cell_type": "markdown",
   "metadata": {},
   "source": [
    "Plot $u$ from the Gauss-Seidel Iteration as you did for the Jacobian.\n",
    "*Note* Your function should return two parameters, $u\\_gs$ and the current iteration $iter\\_gs$, so be called:\n",
    "```python\n",
    "u_gs,iter_gs = solve_laplace_gs(b0,b1,dx,max_iter,epsilon_tol)\n",
    "```"
   ]
  },
  {
   "cell_type": "code",
   "execution_count": 16,
   "metadata": {
    "collapsed": false
   },
   "outputs": [
    {
     "data": {
      "image/png": "[encoded data removed]",
      "text/plain": [
       "<matplotlib.figure.Figure at 0xb58df98>"
      ]
     },
     "metadata": {},
     "output_type": "display_data"
    }
   ],
   "source": [
    "# YOUR CODE HERE\n",
    "n = 10\n",
    "dx = n\n",
    "b0 = 30.\n",
    "b1 = 50.\n",
    "max_iter = 10000\n",
    "epsilon_tol = 1e-6\n",
    "\n",
    "#Direct Solution\n",
    "direct = plt.plot(inv_tridiag_121_b(n,b0,b1),'bo--', label='Direct Soln.')\n",
    "#plt.xlim([-1,10])\n",
    "\n",
    "#Jacobi Method\n",
    "u_jac,iter_jac = solve_laplace_jac(b0,b1,dx,max_iter,epsilon_tol)\n",
    "jacobi = plt.plot(u_jac,'ro-', label='Jacobi Soln.')\n",
    "\n",
    "\n",
    "#Gauss-Seidel\n",
    "u_gs,iter_gs = solve_laplace_gs(b0,b1,dx,max_iter,epsilon_tol)\n",
    "gauss_seidel = plt.plot(u_jac,'k*--', label='Gauss-Seidel Soln.')\n",
    "\n",
    "plt.title('Comparing solutions from different solvers')\n",
    "plt.legend(loc = 'upper left')\n",
    "plt.xlabel(\"Discretisation 'n'\")\n",
    "plt.ylabel(\"Output values\")\n",
    "plt.grid()"
   ]
  },
  {
   "cell_type": "markdown",
   "metadata": {},
   "source": [
    "Print in the following code cell the number of iterations required for conergence by the two solvers"
   ]
  },
  {
   "cell_type": "code",
   "execution_count": 17,
   "metadata": {
    "collapsed": false
   },
   "outputs": [
    {
     "name": "stdout",
     "output_type": "stream",
     "text": [
      "The number of iteration required for convergence (Jacobi): 253\n",
      "The number of iteration required for convergence (Gauss-Seidel): 134\n"
     ]
    }
   ],
   "source": [
    "# YOUR CODE HERE\n",
    "print('The number of iteration required for convergence (Jacobi): %d'%iter_jac)\n",
    "print('The number of iteration required for convergence (Gauss-Seidel): %d' %iter_gs)"
   ]
  },
  {
   "cell_type": "markdown",
   "metadata": {},
   "source": [
    "Describe and interpret the results, and explain why Gauss-Seidel converges with less iterations."
   ]
  },
  {
   "cell_type": "markdown",
   "metadata": {},
   "source": [
    "Despite having produced the same results (as seen in the graph above), the solutions reach convergence almost half the time quicker with Gauss-Seidel method (134 iterations) than with Jacobi method (253 iterations). \n",
    "\n",
    "The difference between the Jacobi and Gauss-Seidel rule appears in the moment of updating. The calculation of a new nodal value depends on the values of the surrounding nodes.\n",
    "\n",
    "Jacobi method uses the value of the previous iteration cycle, whereas Gauss-Seidel mehtos uses the newly found value. \n",
    "\n",
    "Thus, in Jacobi iteration, the updating occurs when all nodes have been recalculated (have to store a whole set of values/data), while in Gauss-Seidel iteration each node is updated directly when its new value is found (only storing a few relevant value in the process). Therefore, Gausess-Seidel method converges with a lot less iterations compared to Jacobi method."
   ]
  },
  {
   "cell_type": "code",
   "execution_count": null,
   "metadata": {
    "collapsed": true
   },
   "outputs": [],
   "source": []
  }
 ],
 "metadata": {
  "kernelspec": {
   "display_name": "Python 2",
   "language": "python",
   "name": "python2"
  },
  "language_info": {
   "codemirror_mode": {
    "name": "ipython",
    "version": 2
   },
   "file_extension": ".py",
   "mimetype": "text/x-python",
   "name": "python",
   "nbconvert_exporter": "python",
   "pygments_lexer": "ipython2",
   "version": "2.7.11"
  }
 },
 "nbformat": 4,
 "nbformat_minor": 0
}
