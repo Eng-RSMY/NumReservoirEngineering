{
 "cells": [
  {
   "cell_type": "markdown",
   "metadata": {},
   "source": [
    "# Final Assignment\n",
    "\n",
    "# Due date: 27/03/2016"
   ]
  },
  {
   "cell_type": "markdown",
   "metadata": {},
   "source": [
    "## Introduction\n",
    "\n",
    "We worked on several aspects of numerical reservoir engineering in separate assignments over the last couple of weeks - and here, we will now finally put things together and solve a combined fluid flow and transport problem!\n",
    "\n",
    "The problem is conceptually still quite simple and you should be able to re-use a lot of the code you previously generated for the other assignments. \n",
    "\n",
    "### Assignment overview\n",
    "\n",
    "**Note**: The main difference to previous assignments is that **you have to work on this assignment on your own** - not any more in a small group as before. When finished, please submit the finished notebook to:\n",
    "\n",
    "<wellmann@aices.rwth-aachen.de>\n",
    "\n",
    "Whenever possible, use the provided function definitions and return values that are given below. You are free to write more/ additional functions, but the provided functions are the ones that will be used for grading.\n",
    "\n",
    "### Points\n",
    "\n",
    "This assingment counts **50% to the final mark** of the exercise class.\n"
   ]
  },
  {
   "cell_type": "code",
   "execution_count": 1,
   "metadata": {
    "collapsed": false
   },
   "outputs": [],
   "source": [
    "#from IPython.core.display import HTML\n",
    "#css_file = 'nre2_style.css'\n",
    "#HTML(open(css_file, \"r\").read())"
   ]
  },
  {
   "cell_type": "code",
   "execution_count": 2,
   "metadata": {
    "collapsed": false
   },
   "outputs": [],
   "source": [
    "import numpy as np\n",
    "import matplotlib.pyplot as plt"
   ]
  },
  {
   "cell_type": "code",
   "execution_count": 3,
   "metadata": {
    "collapsed": false
   },
   "outputs": [],
   "source": [
    "%matplotlib inline"
   ]
  },
  {
   "cell_type": "code",
   "execution_count": 4,
   "metadata": {
    "collapsed": false
   },
   "outputs": [],
   "source": [
    "from __future__ import division"
   ]
  },
  {
   "cell_type": "code",
   "execution_count": 5,
   "metadata": {
    "collapsed": false
   },
   "outputs": [],
   "source": [
    "plt.rcParams['figure.figsize'] = [8, 6.]\n",
    "plt.rcParams['font.size'] = 12"
   ]
  },
  {
   "cell_type": "markdown",
   "metadata": {},
   "source": [
    "## Problem description\n",
    "\n",
    "### Scenario\n",
    "\n",
    "We are investigating here a problem of fluid flow and contaminant transport. Imagine the following scenario:\n",
    "\n",
    "**Scenario 1**: A driver in a car along a beautiful lakeside in your favorite imaginative country takes a picture of the lake *while driving* because he (she) wants to share it with all his (her) friends on facebook. Distracted from driving, the car unfortunately drives into a ditch next to the road. Nothing really happens, but the phone is broken (oh no!) and the petrol tank damaged - and fuel leaks into the ground! This is a major problem (not the phone!) as we are in the middle of a drinking water catchment and a drinking water source is close by. You, as an expert modeller, are asked to investigate if there is a risk that the leaked fuel contaminates the source. As you are new to this type of study, you really want to get a good result, so you decide to write all the code yourself to make sure you understand how reliable your analysis is.\n",
    "\n",
    "-----\n",
    "\n",
    "Alternatively, consider **scenario 2**: imagine you live in King's Landing on Westeros (If you don't know what Westeros is, then don't worry and go back to scenario 1). An exhausted pyromaster accidentally spilled <a href = \"http://awoiaf.westeros.org/index.php/Wildfire\">Wildfire</a> during production and it leaked into the ground. The King asks you for the favor to investigate if there is a risk that the wildfire could reach his personal favorite hot water pool where he likes to enjoy moments at candlelight. As you know what happens to people who do not fulfill the King's favors, you happily agree to do so - and *really, really* don't want to mess it up...\n",
    "\n",
    "-----\n",
    "\n",
    "\n",
    "Luckily, the hydrogeological setting that we have to investigate seems to be quite simple:\n",
    "\n",
    "1. The main flow field is down-slope from the hight of the source to the water table of the lake, without significant lateral flow: we can treat it as a 1-D case.\n",
    "2. The water level at the source location and at the lake is known and we can treat these two points as Dirichlet boundary conditions.\n",
    "3. We are primarily interested in the transport of the contaminant and can neglect fluctuations of the groundwater, so we treat the problem as steady-state.\n",
    "4. However, we have to consider the effect of rainfall in the area as a significant factor.\n",
    "\n",
    "### Simulation Set-up and parameters\n",
    "\n",
    "The width of the simulated domain (between water source/ hot pool and lake/ blackwater rush) is 150 m. You quickly perform measurements of rock properties and obtain the following values:\n",
    "\n",
    "| Property | Variable name | value | unit | \n",
    "|----------|-------|------|-------------|\n",
    "| Transmissivity | T | 0.01 | [m^2/s] |\n",
    "| Hydraulic conductivity | K | 0.001 | [m/s] |\n",
    "| Porosity | por | 0.2 | [] |\n",
    "\n",
    "You decide to set-up the 1-D model domain for the simulation with the following settings:\n",
    "\n",
    "| Property | Variable name | value | unit | \n",
    "|----------|-------|------|-------------|\n",
    "| Domain width | L | 150 | [m] |\n",
    "| Number of cells | nx | 300 | [m] |\n",
    "\n",
    "The lake/ blackwater is situated at $x = 0$ m, and the source/ pool at $x = 150m$. \n",
    "The spill occurred at a distance of $x = 90$ m. \n",
    "\n",
    "Measurements of boundary conditions and source terms (rainfall!) reveal:\n",
    "\n",
    "| Property | Variable name | value | unit | \n",
    "|----------|-------|------|-------------|\n",
    "| Hydraulic head of lake | bc_0 | 10 | [m] |\n",
    "| Hydraulic head of water source | bc_1 | 12 | [m] |\n",
    "| Specific recharge per meter (rainfall) | q | 2E-4 | [m/s] |\n",
    "\n",
    "Note that recharge $q$ as a flux has units of velocity (think of it as volume of water infiltrating through an area of the land surface). \n",
    "\n",
    "With these parameters, we will now set up the model.\n"
   ]
  },
  {
   "cell_type": "markdown",
   "metadata": {},
   "source": [
    "## 1-D Simulation of fluid flow and contaminant transport (10 pts)\n",
    "\n",
    "The first step in the analysis is now to perform a simulation to determine the position of the hydraulic head in the subsurface. With the simplifications given above, the groundwater flow equation becomes:\n",
    "\n",
    "$${T} \\, \\frac{\\partial^2 h}{\\partial x^2} - q = 0$$ \n",
    "\n",
    "**Your task**: Determine the steady-state position of the hydraulic head $h(x)$ in the investigated domain and create a plot of the results:"
   ]
  },
  {
   "cell_type": "code",
   "execution_count": 6,
   "metadata": {
    "collapsed": false
   },
   "outputs": [],
   "source": [
    "#Property \n",
    "T = 0.01 #Transmissivity\n",
    "K = 0.001 #Hydraulic conductivity\n",
    "por = 0.2 #porosity\n",
    "\n",
    "#Domain\n",
    "L = 150 #Domain width\n",
    "nx = 300 #Number of cells\n",
    "dx = L/nx\n",
    "\n",
    "#Fluid-related property\n",
    "bc_0 = 10 #Hydraulic head of the lake\n",
    "bc_1 = 12 #Hydraulic head of the water source\n",
    "qsource = 1e-5 #Specific recharge per meter (rainfall)\n",
    "\n",
    "\n",
    "#Loop parameters\n",
    "max_iter = 1000000.\n",
    "epsilon_tol = 1e-6"
   ]
  },
  {
   "cell_type": "code",
   "execution_count": 7,
   "metadata": {
    "collapsed": false
   },
   "outputs": [],
   "source": [
    "def hydraulic_head_iterative(h,T,q,dx):\n",
    "\n",
    "    h[1:-1] = 0.5 * (h[0:-2] + h[2:] - (q[1:-1]*dx**2)/T)\n",
    "  \n",
    "    return h\n",
    "    "
   ]
  },
  {
   "cell_type": "code",
   "execution_count": 8,
   "metadata": {
    "collapsed": false
   },
   "outputs": [
    {
     "name": "stdout",
     "output_type": "stream",
     "text": [
      "166126\n",
      "<type 'numpy.ndarray'>\n"
     ]
    },
    {
     "data": {
      "image/png": "[encoded data removed]",
      "text/plain": [
       "<matplotlib.figure.Figure at 0x3d4cdd8>"
      ]
     },
     "metadata": {},
     "output_type": "display_data"
    }
   ],
   "source": [
    "#Solving for hydraulic head\n",
    "def hydraulic_head(bc_0,bc_1,dx,nx,max_iter, epsilon_tol):\n",
    "\n",
    "    #Set up 1D array\n",
    "    h = np.ones(nx)\n",
    "\n",
    "\n",
    "    #Boundary Condition\n",
    "    h[0] = bc_0\n",
    "    h[-1] = bc_1\n",
    "\n",
    "    \n",
    "    #Source\n",
    "    q = np.ones(nx)*((-qsource)*dx)\n",
    "    \n",
    "\n",
    "    #Solve\n",
    "    for iter in range(1,int(max_iter)):\n",
    "    \n",
    "        # copy results from previous iteration\n",
    "        h_previous = h.copy()\n",
    "                    \n",
    "        # perform iteration\n",
    "        h =  hydraulic_head_iterative(h,T,q,dx)\n",
    "        \n",
    "        # check for convergence by calculating epsilon\n",
    "        epsilon = np.sqrt(np.sum((h - h_previous)**2))\n",
    "                      \n",
    "        # if epsilon is smaller than epsilon_tol, break for loop\n",
    "        if epsilon < epsilon_tol:\n",
    "            break\n",
    "             \n",
    "    return h, iter\n",
    "\n",
    "\n",
    "##################################\n",
    "\n",
    "h, iter = hydraulic_head(bc_0,bc_1,dx,nx,max_iter,epsilon_tol)\n",
    "print iter\n",
    "print (type(h))\n",
    "\n",
    "\n",
    "x = np.arange(0,L,dx)\n",
    "plt.plot(x,h)\n",
    "plt.title('Steady-state Hydraulic Head')\n",
    "plt.xlabel(\"Distance [m]\")\n",
    "plt.ylabel(\"Hydraulic Head [m]\")\n",
    "plt.grid()\n"
   ]
  },
  {
   "cell_type": "markdown",
   "metadata": {},
   "source": [
    "## Determine velocities (10 pts)\n",
    "\n",
    "Determine now velocities from the determined head distribution and hydraulic conductivities. We discussed this step during the lecture. Perform the following steps for the analysis:\n",
    "\n",
    "$$w_{1-\\frac{1}{2}} = -K \\frac{h_{i} - h_{i-1}}{\\Delta x}$$\n",
    "$$w_{1+\\frac{1}{2}} = -K \\frac{h_{i+1} - h_i}{\\Delta x}$$\n",
    "\n",
    "An obvious question when considering this equation is how to determine the value at the boundaries (w[0], w[-1]), as the calculation would require a value outside of the domain. There are several possibilities to deal with this problem. We will here simple perform a linear extrapolation from the inside nodes:\n",
    "\n",
    "```w[0] = 2 * w[1] - w[2]\n",
    "w[-1] = 2 * w[-2] - w[-3]```\n",
    "\n",
    "And we then take arithmetic average at the node point as representative velocity value:\n",
    "\n",
    "$$w_i = \\frac{w_{1-\\frac{1}{2}} + w_{1+\\frac{1}{2}}}{2}$$\n",
    "\n",
    "Note that we determine the Darcy flux (also called specific discharge, or seepage velocity) with this equation, and *not* the fluid velocity $v$! However, as we learned in the lecture, the relationship between the two velocities is rather simple:\n",
    "\n",
    "$$v = \\frac{w}{\\phi}$$\n",
    "\n",
    "Where $\\phi$ is the aquifer porosity.\n",
    "\n",
    "**Your task**: Write a function to determine specific discharge and fluid velocity:\n"
   ]
  },
  {
   "cell_type": "code",
   "execution_count": 9,
   "metadata": {
    "collapsed": true
   },
   "outputs": [],
   "source": [
    "def fluid_velocity(h,dx,K,por):\n",
    "    \n",
    "    #Determine Darcy's Flux (Specific Discharge)\n",
    "    for i in range(1,len(h)-1):  \n",
    "        w_minus = -K * ((h[i] - h[i-1])/dx) \n",
    "        w_plus = -K * ((h[i+1] - h[i])/dx) \n",
    "        w[i] = (w_plus + w_minus) / 2\n",
    "        \n",
    "    #Linear extrapolation at the boundaries    \n",
    "    w[0] = 2 * w[1] - w[2]\n",
    "    w[-1] = 2 * w[-2] - w[-3]\n",
    "      \n",
    "    #Determine fluid velocity    \n",
    "    v = w/por\n",
    "        \n",
    "    return v"
   ]
  },
  {
   "cell_type": "code",
   "execution_count": 10,
   "metadata": {
    "collapsed": false
   },
   "outputs": [
    {
     "data": {
      "image/png": "[encoded data removed]",
      "text/plain": [
       "<matplotlib.figure.Figure at 0xcfa3c88>"
      ]
     },
     "metadata": {},
     "output_type": "display_data"
    }
   ],
   "source": [
    "K = 0.001 #Hydraulic conductivity\n",
    "por = 0.2 #porosity\n",
    "L = 150 #Domain width\n",
    "nx = 300 #Number of cells\n",
    "dx = L/nx\n",
    "w = np.empty(nx)\n",
    "v = fluid_velocity(h,dx,K,por)\n",
    "\n",
    "#print v\n",
    "\n",
    "x = np.arange(0,L,dx)\n",
    "plt.figure()\n",
    "plt.plot(x,v)\n",
    "plt.title('Fluid velocity profile')\n",
    "plt.xlabel(\"Distance [m]\")\n",
    "plt.ylabel(\"Fluid Velocity [m/s]\")\n",
    "plt.grid()\n",
    "\n"
   ]
  },
  {
   "cell_type": "markdown",
   "metadata": {},
   "source": [
    "## Simulate contaminant transport (10 pts)\n",
    "\n",
    "You now have the velocity distribution and should be able to calculate the contaminant transport in the system. We are interested in a short-term prediction and will evaluate the transport for a duration of **40 days**.\n",
    "\n",
    "We are modelling the spill as a gaussian distribution to account for the fact that the contaminant is already spreading slightly at the surface and while traveling down through the soil into the groundwater.\n",
    "\n",
    "Relevant properties for the behaviour of the solute and the initial distribution of the spill are:\n",
    "\n",
    "| Property | Variable name | value | unit | \n",
    "|----------|-------|------|-------------|\n",
    "| Diffusivity | kappa | 6E-5 | [m$^2$] |\n",
    "| Maximum concentration | c_max | 10 | [mol/m$^3$] |\n",
    "| Spread | sigma | 5 | [m] |\n",
    "| Simulation time | t_total | 30 | [days]|\n",
    "\n",
    "**Your task**: write a function to solve the transport problem. I suggest you use a Crank-Nicolson scheme to avoid problems of stability - but make sure you check the criterion for the Peclet number (Pe < 2) to avoid spatial oscillations."
   ]
  },
  {
   "cell_type": "code",
   "execution_count": 124,
   "metadata": {
    "collapsed": false
   },
   "outputs": [
    {
     "data": {
      "image/png": "[encoded data removed]",
      "text/plain": [
       "<matplotlib.figure.Figure at 0x10658a58>"
      ]
     },
     "metadata": {},
     "output_type": "display_data"
    }
   ],
   "source": [
    "plt.figure(figsize=(6,3))\n",
    "plt.plot([0,2],[0,0],'k')\n",
    "plt.plot([0,2],[1,1],'k')\n",
    "plt.plot([1,1],[0,1],'k')\n",
    "plt.plot([0,1,2,0,1,2],[0,0,0,1,1,1],'ko',markersize=10)\n",
    "plt.text(0.1,0.1,'T[n,j-1]')\n",
    "plt.text(1.1,0.1,'T[n,j]')\n",
    "plt.text(2.1,0.1,'T[n,j+1]')\n",
    "plt.text(0.1,1.1,'T[n+1,j-1]')\n",
    "plt.text(1.1,1.1,'T[n+1,j]')\n",
    "plt.text(2.1,1.1,'T[n+1,j+1]')\n",
    "plt.xlabel('space')\n",
    "plt.ylabel('time')\n",
    "plt.axis('equal')\n",
    "plt.yticks([0.0,1.0],[])\n",
    "plt.xticks([0.0,1.0],[])\n",
    "plt.title('Crank-Nicolson scheme',fontsize=12)\n",
    "plt.axis([-0.5,2.5,-0.5,1.5]);"
   ]
  },
  {
   "cell_type": "code",
   "execution_count": 108,
   "metadata": {
    "collapsed": false
   },
   "outputs": [],
   "source": [
    "def crank_nicholson(u,Cr,Ne):\n",
    "\n",
    "    u_prev = u.copy()\n",
    "    for i in range(1,len(u)-1):\n",
    "        \n",
    "        u[i] = (0.5*Cr[i]+Ne[i])*u[i-1] - (0.5*Cr[i]-Ne[i])*u[i+1] + (0.5*Cr[i]+Ne[i])*u_prev[i-1] + \\\n",
    "                (2-2*Ne[i])*u_prev[i] - (0.5*Cr[i]-Ne[i])*u_prev[i+1]\n",
    "        \n",
    "        return u"
   ]
  },
  {
   "cell_type": "code",
   "execution_count": 109,
   "metadata": {
    "collapsed": false
   },
   "outputs": [],
   "source": [
    "def gaussian(bins,sigma,mu):\n",
    "    \n",
    "    f = 1/(sigma * np.sqrt(2 * np.pi)) * np.exp( - (bins - mu)**2 / (2 * sigma**2))\n",
    "    \n",
    "    return f"
   ]
  },
  {
   "cell_type": "code",
   "execution_count": 125,
   "metadata": {
    "collapsed": false
   },
   "outputs": [
    {
     "ename": "SyntaxError",
     "evalue": "invalid syntax (<ipython-input-125-7c806c2722c2>, line 34)",
     "output_type": "error",
     "traceback": [
      "\u001b[1;36m  File \u001b[1;32m\"<ipython-input-125-7c806c2722c2>\"\u001b[1;36m, line \u001b[1;32m34\u001b[0m\n\u001b[1;33m    for Pe.any() <2:\u001b[0m\n\u001b[1;37m                 ^\u001b[0m\n\u001b[1;31mSyntaxError\u001b[0m\u001b[1;31m:\u001b[0m invalid syntax\n"
     ]
    }
   ],
   "source": [
    "def concentration(nx):\n",
    "\n",
    "    #Set up domain\n",
    "    L = 150 # Domain width\n",
    "    nx = 300 # Number of cells\n",
    "    dx = L/nx\n",
    "    w = np.empty(nx)\n",
    "\n",
    "    # Parameters\n",
    "    kappa = 6e-5 # Diffusivity [m^2]\n",
    "    c_max = 10 # maximum concentration [mol/m^3]\n",
    "    t_total = 40 # simulation time [days]\n",
    "    v = fluid_velocity(h,dx,K,por)\n",
    "    t = np.arange(0,t_total,1)\n",
    "    dt = 2*kappa / (v**2)#0.5*(dx**2)/kappa\n",
    "    \n",
    "    c = np.empty(nx)\n",
    "    \n",
    "    Ne = kappa*dt/(dx**2)\n",
    "    Cr = v*dt/dx\n",
    "    \n",
    "    #Initial concentration --> Gaussian distribution\n",
    "    mu = 90 #centre of distribution [m]\n",
    "    sigma = 5 # spread [m]\n",
    "    bins = np.arange(0,L,dx)\n",
    "    c = gaussian(bins,mu,sigma)\n",
    "    \n",
    "   \n",
    "    \n",
    "    # Check Peclet number(Pe<2)\n",
    "    Pe = (v*dx)/kappa\n",
    "    \n",
    "    for t in xrange(t_total): \n",
    "        for Pe.any() <2:\n",
    "            c = crank_nicholson(c,Cr,Ne)\n",
    "        \n",
    "   \n",
    "    return c\n",
    "        \n",
    "        \n",
    "            \n",
    "   \n"
   ]
  },
  {
   "cell_type": "code",
   "execution_count": 114,
   "metadata": {
    "collapsed": false
   },
   "outputs": [
    {
     "name": "stdout",
     "output_type": "stream",
     "text": [
      "[  4.42585671e-03   3.31324890e+00   4.42831620e-03   4.42934139e-03\n",
      "   4.43023008e-03   4.43098219e-03   4.43159765e-03   4.43207640e-03\n",
      "   4.43241839e-03   4.43262360e-03   4.43269200e-03   4.43262360e-03\n",
      "   4.43241839e-03   4.43207640e-03   4.43159765e-03   4.43098219e-03\n",
      "   4.43023008e-03   4.42934139e-03   4.42831620e-03   4.42715460e-03\n",
      "   4.42585671e-03   4.42442263e-03   4.42285251e-03   4.42114650e-03\n",
      "   4.41930474e-03   4.41732740e-03   4.41521468e-03   4.41296676e-03\n",
      "   4.41058386e-03   4.40806619e-03   4.40541399e-03   4.40262749e-03\n",
      "   4.39970696e-03   4.39665267e-03   4.39346490e-03   4.39014394e-03\n",
      "   4.38669009e-03   4.38310368e-03   4.37938503e-03   4.37553449e-03\n",
      "   4.37155240e-03   4.36743914e-03   4.36319508e-03   4.35882062e-03\n",
      "   4.35431614e-03   4.34968207e-03   4.34491882e-03   4.34002684e-03\n",
      "   4.33500657e-03   4.32985846e-03   4.32458299e-03   4.31918064e-03\n",
      "   4.31365190e-03   4.30799727e-03   4.30221726e-03   4.29631241e-03\n",
      "   4.29028324e-03   4.28413031e-03   4.27785416e-03   4.27145537e-03\n",
      "   4.26493452e-03   4.25829219e-03   4.25152899e-03   4.24464552e-03\n",
      "   4.23764239e-03   4.23052025e-03   4.22327973e-03   4.21592148e-03\n",
      "   4.20844615e-03   4.20085443e-03   4.19314697e-03   4.18532448e-03\n",
      "   4.17738765e-03   4.16933719e-03   4.16117380e-03   4.15289823e-03\n",
      "   4.14451119e-03   4.13601343e-03   4.12740570e-03   4.11868877e-03\n",
      "   4.10986340e-03   4.10093036e-03   4.09189045e-03   4.08274445e-03\n",
      "   4.07349316e-03   4.06413740e-03   4.05467799e-03   4.04511573e-03\n",
      "   4.03545148e-03   4.02568606e-03   4.01582033e-03   4.00585514e-03\n",
      "   3.99579134e-03   3.98562982e-03   3.97537144e-03   3.96501708e-03\n",
      "   3.95456763e-03   3.94402399e-03   3.93338706e-03   3.92265775e-03\n",
      "   3.91183696e-03   3.90092563e-03   3.88992467e-03   3.87883501e-03\n",
      "   3.86765759e-03   3.85639336e-03   3.84504326e-03   3.83360824e-03\n",
      "   3.82208926e-03   3.81048728e-03   3.79880327e-03   3.78703820e-03\n",
      "   3.77519305e-03   3.76326879e-03   3.75126642e-03   3.73918692e-03\n",
      "   3.72703128e-03   3.71480050e-03   3.70249559e-03   3.69011754e-03\n",
      "   3.67766736e-03   3.66514606e-03   3.65255466e-03   3.63989417e-03\n",
      "   3.62716561e-03   3.61437001e-03   3.60150839e-03   3.58858177e-03\n",
      "   3.57559120e-03   3.56253769e-03   3.54942228e-03   3.53624602e-03\n",
      "   3.52300993e-03   3.50971505e-03   3.49636244e-03   3.48295312e-03\n",
      "   3.46948815e-03   3.45596856e-03   3.44239541e-03   3.42876974e-03\n",
      "   3.41509259e-03   3.40136502e-03   3.38758808e-03   3.37376280e-03\n",
      "   3.35989025e-03   3.34597147e-03   3.33200750e-03   3.31799941e-03\n",
      "   3.30394823e-03   3.28985501e-03   3.27572081e-03   3.26154666e-03\n",
      "   3.24733362e-03   3.23308273e-03   3.21879503e-03   3.20447157e-03\n",
      "   3.19011338e-03   3.17572151e-03   3.16129699e-03   3.14684087e-03\n",
      "   3.13235417e-03   3.11783793e-03   3.10329319e-03   3.08872096e-03\n",
      "   3.07412227e-03   3.05949816e-03   3.04484964e-03   3.03017773e-03\n",
      "   3.01548344e-03   3.00076779e-03   2.98603179e-03   2.97127646e-03\n",
      "   2.95650278e-03   2.94171176e-03   2.92690440e-03   2.91208170e-03\n",
      "   2.89724464e-03   2.88239421e-03   2.86753140e-03   2.85265718e-03\n",
      "   2.83777252e-03   2.82287841e-03   2.80797579e-03   2.79306565e-03\n",
      "   2.77814893e-03   2.76322659e-03   2.74829958e-03   2.73336883e-03\n",
      "   2.71843530e-03   2.70349992e-03   2.68856361e-03   2.67362729e-03\n",
      "   2.65869190e-03   2.64375834e-03   2.62882753e-03   2.61390036e-03\n",
      "   2.59897773e-03   2.58406054e-03   2.56914967e-03   2.55424601e-03\n",
      "   2.53935042e-03   2.52446379e-03   2.50958697e-03   2.49472082e-03\n",
      "   2.47986620e-03   2.46502394e-03   2.45019489e-03   2.43537988e-03\n",
      "   2.42057974e-03   2.40579529e-03   2.39102734e-03   2.37627671e-03\n",
      "   2.36154418e-03   2.34683055e-03   2.33213662e-03   2.31746317e-03\n",
      "   2.30281096e-03   2.28818076e-03   2.27357334e-03   2.25898945e-03\n",
      "   2.24442984e-03   2.22989524e-03   2.21538639e-03   2.20090400e-03\n",
      "   2.18644881e-03   2.17202152e-03   2.15762283e-03   2.14325345e-03\n",
      "   2.12891405e-03   2.11460532e-03   2.10032794e-03   2.08608257e-03\n",
      "   2.07186987e-03   2.05769050e-03   2.04354509e-03   2.02943428e-03\n",
      "   2.01535871e-03   2.00131899e-03   1.98731574e-03   1.97334956e-03\n",
      "   1.95942106e-03   1.94553082e-03   1.93167942e-03   1.91786745e-03\n",
      "   1.90409547e-03   1.89036403e-03   1.87667370e-03   1.86302502e-03\n",
      "   1.84941851e-03   1.83585472e-03   1.82233416e-03   1.80885735e-03\n",
      "   1.79542479e-03   1.78203697e-03   1.76869439e-03   1.75539754e-03\n",
      "   1.74214687e-03   1.72894287e-03   1.71578598e-03   1.70267666e-03\n",
      "   1.68961536e-03   1.67660249e-03   1.66363851e-03   1.65072381e-03\n",
      "   1.63785882e-03   1.62504394e-03   1.61227956e-03   1.59956607e-03\n",
      "   1.58690385e-03   1.57429328e-03   1.56173471e-03   1.54922852e-03\n",
      "   1.53677504e-03   1.52437461e-03   1.51202758e-03   1.49973427e-03\n",
      "   1.48749500e-03   1.47531007e-03   1.46317980e-03   1.45110448e-03\n",
      "   1.43908440e-03   1.42711983e-03   1.41521106e-03   1.40335835e-03\n",
      "   1.39156196e-03   1.37982214e-03   1.36813913e-03   1.35651318e-03\n",
      "   1.34494451e-03   1.33343334e-03   1.32197989e-03   1.31058437e-03\n",
      "   1.29924698e-03   1.28796792e-03   1.27674736e-03   1.26558549e-03\n",
      "   1.25448248e-03   1.24343851e-03   1.23245372e-03   1.22152827e-03]\n"
     ]
    },
    {
     "data": {
      "text/plain": [
       "[<matplotlib.lines.Line2D at 0x11670dd8>]"
      ]
     },
     "execution_count": 114,
     "metadata": {},
     "output_type": "execute_result"
    },
    {
     "data": {
      "image/png": "[encoded data removed]",
      "text/plain": [
       "<matplotlib.figure.Figure at 0x1096fc88>"
      ]
     },
     "metadata": {},
     "output_type": "display_data"
    },
    {
     "data": {
      "image/png": "[encoded data removed]",
      "text/plain": [
       "<matplotlib.figure.Figure at 0x11255c88>"
      ]
     },
     "metadata": {},
     "output_type": "display_data"
    }
   ],
   "source": [
    "a = concentration(300)\n",
    "print a\n",
    "\n",
    "x = np.arange(0,L,dx)\n",
    "plt.figure()\n",
    "plt.plot(x,a)\n",
    "\n",
    "plt.figure()\n",
    "plt.plot(x, 1/(sigma * np.sqrt(2 * np.pi)) * np.exp( - (x - mu)**2 / (2 * sigma**2)))"
   ]
  },
  {
   "cell_type": "markdown",
   "metadata": {},
   "source": [
    "## Determine breakthrough curves (10 pts)\n",
    "\n",
    "In our problem description, we were mainly interested in the question if parts of the contaminant plume arrive at the source at the right side of the problem, rather than the distribution in space. \n",
    "\n",
    "Let's say that only a certain contaminant density actually leads to a problem, say once a critical value is reached:\n",
    "\n",
    "$$c(x) > c_{crit}$$\n",
    "\n",
    "As a critical value, we consider here as an example:\n",
    "\n",
    "| Property | Variable name | value | unit | \n",
    "|----------|-------|------|-------------|\n",
    "| Critical concentration | c$_{crit}$ | 0.01 | [mol/m$^3$] |\n",
    "\n",
    "We can determine this criterion on the basis of our simulation. A simple way is to determine if - and when - a contamination plume reaches a point is to plot \"breakthrough curves\" at a location: the concentration over time at a given position.\n",
    "\n",
    "\n",
    "**Your task**: extend your code to create a plot of concentration vs. time at a given location. Evaluate the breakthrough curves at both sides of the model domain (x = 1 and x = -1, to limit effect of boundary values):"
   ]
  },
  {
   "cell_type": "code",
   "execution_count": null,
   "metadata": {
    "collapsed": false
   },
   "outputs": [],
   "source": [
    "# your code here:\n"
   ]
  },
  {
   "cell_type": "markdown",
   "metadata": {},
   "source": [
    "## Analysis of model sensitivity (20 pts + 10 pts bonus)\n",
    "\n",
    "You obtained a result through your previous analysis and might now be tempted to bring the good (or bad?) news to your customer/ the king. As your motivation to get the results of the study correct is very high, you are interested to evaluate how robust your results are.\n",
    "\n",
    "The first step is to combine all the previous steps into a single function call to make testing of different parameters easier:\n",
    "\n",
    "**Your task (10 pts)**: combine all the previous steps into a single function call to enable the quick testing of different settings. The function should have all relevant rock  properties and boundary values as input, and produce plots of solute concentration over time and breakthrough curves at both ends.\n",
    "\n",
    "As an idea: your function call could look like this:\n",
    "\n",
    "```contamination_analysis(T=0.01, K=0.001, q_in=2.E-4, \n",
    "                          spill_loc=95,\n",
    "                          t_total=40 * 24 * 3600.,\n",
    "                          kappa=8E-5, nx=300, por=0.2,\n",
    "                          bc_0 = 10, bc_1=12.\n",
    "```\n"
   ]
  },
  {
   "cell_type": "code",
   "execution_count": null,
   "metadata": {
    "collapsed": false
   },
   "outputs": [],
   "source": [
    "# Your code here:\n"
   ]
  },
  {
   "cell_type": "markdown",
   "metadata": {},
   "source": [
    "Now that we have this function, we can test the sensitivity of the model output with respect to the defined rock properties and boundary conditions.\n",
    "\n",
    "If you consider again the set-up of our problem before: which parameters or boundary condition would you expect to be uncertain? Decide on (at least) one parameter and evaluate how sensitive the result are with respect to this parameter.\n",
    "\n",
    "Possible parameter changes are:\n",
    "\n",
    "- dirichlet boundary conditions: what if the head value at the source is lower (11 m) or higher (13 m)?\n",
    "- recharge/ rain fall: what happens if our estimate is wrong (half/ double the value that we used)?\n",
    "- how about the exact location of the spill and the estimated initial spread?\n",
    "\n",
    "**Your task (10 pts + 10 bonus pts)**: Test the influence of parameter uncertainties on the potential contamination at the water source/ pool. You get full points for the analysis and brief discussion of one parameter (examples in the list above).\n",
    "\n",
    "In addition, I am giving up to 10 bonus points to, for example, (a) a detailed discussion of several parameters, (b) creative ways to perform the analysis, or (c) a very good representation of the results!\n",
    "\n",
    "So: what are the implications of these results for the specific scenario above that you considered? "
   ]
  },
  {
   "cell_type": "code",
   "execution_count": null,
   "metadata": {
    "collapsed": false
   },
   "outputs": [],
   "source": [
    "# Your code here:\n"
   ]
  }
 ],
 "metadata": {
  "kernelspec": {
   "display_name": "Python 2",
   "language": "python",
   "name": "python2"
  },
  "language_info": {
   "codemirror_mode": {
    "name": "ipython",
    "version": 2
   },
   "file_extension": ".py",
   "mimetype": "text/x-python",
   "name": "python",
   "nbconvert_exporter": "python",
   "pygments_lexer": "ipython2",
   "version": "2.7.11"
  }
 },
 "nbformat": 4,
 "nbformat_minor": 0
}
