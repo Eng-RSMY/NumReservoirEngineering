{
 "cells": [
  {
   "cell_type": "markdown",
   "metadata": {},
   "source": [
    "# Exercise 6: Linear Algebra with Python\n",
    "\n",
    "You now have a good understanding of using Python for scientific calculations, so it is time to apply your knowledge to solve reservoir engineering problems with numerical methods!\n",
    "\n",
    "<As discussed in the lecture, the basics steps to solve practical problems, described with partial differential equations, with numerical methods are:\n",
    "\n",
    "1. Discretise the equation with a suitable method to derive a system of algebraic equations (SAE)\n",
    "2. Solve that system of algebraic equations for a given set of boundary (and initial) conditions.\n",
    "\n",
    "Today, we will actually start first with a look at the second step - and the extension to the first step will become clear during the next lecture!>\n",
    "\n",
    "We will first have a look at some basic linear algebra operations and how they can be implemented in Python, and then start to use those methods to solve equations. Finally, we will write a function to create a special type of matrix that we will encounter again in the lecture - and solve this matrix with the discussed methods."
   ]
  },
  {
   "cell_type": "code",
   "execution_count": 1,
   "metadata": {
    "collapsed": false
   },
   "outputs": [],
   "source": [
    "#from IPython.core.display import HTML\n",
    "#css_file = 'nre2_style.css'\n",
    "#HTML(open(css_file, \"r\").read())"
   ]
  },
  {
   "cell_type": "code",
   "execution_count": 7,
   "metadata": {
    "collapsed": true
   },
   "outputs": [],
   "source": [
    "from __future__ import print_function"
   ]
  },
  {
   "cell_type": "code",
   "execution_count": 8,
   "metadata": {
    "collapsed": false
   },
   "outputs": [],
   "source": [
    "%matplotlib inline"
   ]
  },
  {
   "cell_type": "code",
   "execution_count": 9,
   "metadata": {
    "collapsed": false
   },
   "outputs": [],
   "source": [
    "# the basic imports:\n",
    "import numpy as np\n",
    "import matplotlib.pyplot as plt"
   ]
  },
  {
   "cell_type": "markdown",
   "metadata": {},
   "source": [
    "## Linear algebra operations with Python\n",
    "\n",
    "The Python module `numpy` contains several methods to perform linear algebra operations. For a complete list, see:\n",
    "\n",
    "http://docs.scipy.org/doc/numpy/reference/routines.linalg.html\n",
    "\n",
    "Here some important operations:\n",
    "\n",
    "### Creating vectors and matrices\n",
    "\n",
    "Vectors can simply be represented as 1-d numpy arrays and matrices as multi-dimensional numpy arrays:"
   ]
  },
  {
   "cell_type": "code",
   "execution_count": 5,
   "metadata": {
    "collapsed": false
   },
   "outputs": [],
   "source": [
    "# create vectors as numpy arrays from a Python list:\n",
    "v1 = np.array([1,2])\n",
    "v2 = np.array([3,4])\n",
    "# create a matrix as 2-D numpy array from a nested Python list:\n",
    "A = np.array([[1,2],[3,4]])"
   ]
  },
  {
   "cell_type": "code",
   "execution_count": 6,
   "metadata": {
    "collapsed": false
   },
   "outputs": [
    {
     "name": "stdout",
     "output_type": "stream",
     "text": [
      "[1 2]\n",
      "[[1 2]\n",
      " [3 4]]\n"
     ]
    }
   ],
   "source": [
    "print(v1)\n",
    "print(A)"
   ]
  },
  {
   "cell_type": "markdown",
   "metadata": {},
   "source": [
    "We can use a variety of typical operations on these objects. The transpose of a matrix can be obtained with:"
   ]
  },
  {
   "cell_type": "code",
   "execution_count": 7,
   "metadata": {
    "collapsed": false
   },
   "outputs": [
    {
     "name": "stdout",
     "output_type": "stream",
     "text": [
      "[1 2]\n",
      "[[1 3]\n",
      " [2 4]]\n"
     ]
    }
   ],
   "source": [
    "# transpose - note: no effect on vector!\n",
    "print(v1.transpose())\n",
    "print(A.transpose())"
   ]
  },
  {
   "cell_type": "markdown",
   "metadata": {},
   "source": [
    "The dot product between two vectors can be calculated with the `numpy.dot` "
   ]
  },
  {
   "cell_type": "code",
   "execution_count": 8,
   "metadata": {
    "collapsed": false
   },
   "outputs": [
    {
     "name": "stdout",
     "output_type": "stream",
     "text": [
      "[1 2] [3 4]\n",
      "11\n"
     ]
    }
   ],
   "source": [
    "print(v1, v2)\n",
    "print(np.dot(v1, v2))"
   ]
  },
  {
   "cell_type": "markdown",
   "metadata": {},
   "source": [
    "**Exercise**: What is the difference between the dot product and a normal multiplication of vectors with the \"\\*\" operator? Try it out:"
   ]
  },
  {
   "cell_type": "code",
   "execution_count": 9,
   "metadata": {
    "collapsed": false
   },
   "outputs": [
    {
     "name": "stdout",
     "output_type": "stream",
     "text": [
      "[1 2] [3 4]\n",
      "[3 8]\n"
     ]
    }
   ],
   "source": [
    "# your code here:\n",
    "print(v1,v2)\n",
    "print(v1*v2)\n",
    "\n",
    "# The * operator multiply the vector component element-wise, and return in an array form\n"
   ]
  },
  {
   "cell_type": "markdown",
   "metadata": {},
   "source": [
    "The dot-product between a vector and a matrix can be calculated with:"
   ]
  },
  {
   "cell_type": "code",
   "execution_count": 10,
   "metadata": {
    "collapsed": false
   },
   "outputs": [
    {
     "name": "stdout",
     "output_type": "stream",
     "text": [
      "[1 2]\n",
      "[[1 2]\n",
      " [3 4]]\n"
     ]
    },
    {
     "data": {
      "text/plain": [
       "array([ 7, 10])"
      ]
     },
     "execution_count": 10,
     "metadata": {},
     "output_type": "execute_result"
    }
   ],
   "source": [
    "print(v1)\n",
    "print(A)\n",
    "np.dot(v1,A)"
   ]
  },
  {
   "cell_type": "markdown",
   "metadata": {},
   "source": [
    "**Exercise**: what happens if you swap the order in the dot operation? Think about it first - and then try it out. Do you understand what happens?"
   ]
  },
  {
   "cell_type": "code",
   "execution_count": 11,
   "metadata": {
    "collapsed": false
   },
   "outputs": [
    {
     "name": "stdout",
     "output_type": "stream",
     "text": [
      "[[1 2]\n",
      " [3 4]]\n",
      "[1 2]\n"
     ]
    },
    {
     "data": {
      "text/plain": [
       "array([ 5, 11])"
      ]
     },
     "execution_count": 11,
     "metadata": {},
     "output_type": "execute_result"
    }
   ],
   "source": [
    "# your code here\n",
    "print(A)\n",
    "print(v1)\n",
    "\n",
    "np.dot(A,v1)"
   ]
  },
  {
   "cell_type": "markdown",
   "metadata": {},
   "source": [
    "Matrix inversion: the inverse of a matrix can directly be obtained with the `numpy.linalg.inv()` method:"
   ]
  },
  {
   "cell_type": "code",
   "execution_count": 12,
   "metadata": {
    "collapsed": false
   },
   "outputs": [
    {
     "data": {
      "text/plain": [
       "array([[-2. ,  1. ],\n",
       "       [ 1.5, -0.5]])"
      ]
     },
     "execution_count": 12,
     "metadata": {},
     "output_type": "execute_result"
    }
   ],
   "source": [
    "np.linalg.inv(A)"
   ]
  },
  {
   "cell_type": "markdown",
   "metadata": {},
   "source": [
    "For today, we will leave it with symmetrical matrices - more complex cases will come, soon!"
   ]
  },
  {
   "cell_type": "markdown",
   "metadata": {},
   "source": [
    "## Applying these methods to solve equations\n",
    "\n",
    "We can directly use these methods to solve systems of linear equations (if the number of unknowns is equal to the number of equations), i.e.:\n",
    "\n",
    "$$ a_{11} x_1 + a_{12} x_2 = b_1$$\n",
    "$$ a_{21} x_1 + a_{22} x_2 = b_2$$\n",
    "\n",
    "gives us:\n",
    "\n",
    "$$A x = b$$\n",
    "\n",
    "**Exercise**: solve this system of the following linear equations using matrix inversion:\n",
    "\n",
    "$$ -2 x_1 + x_2 = -1$$\n",
    "$$ x_1 - 2 x_2 = -4$$\n",
    "\n"
   ]
  },
  {
   "cell_type": "code",
   "execution_count": 13,
   "metadata": {
    "collapsed": false
   },
   "outputs": [
    {
     "name": "stdout",
     "output_type": "stream",
     "text": [
      "[[-2  1]\n",
      " [ 1 -2]]\n",
      "[[ 2.  3.]]\n"
     ]
    }
   ],
   "source": [
    "# your code here:\n",
    "A = np.matrix([[-2, 1], [1,-2]])\n",
    "print(A)\n",
    "\n",
    "b = ([-1,-4])\n",
    "\n",
    "x = np.dot(np.linalg.inv(A),b)\n",
    "print(x)\n",
    "\n"
   ]
  },
  {
   "cell_type": "markdown",
   "metadata": {},
   "source": [
    "Make sure to check if you did get the correct result (hint: make sure you use the dot product for the vector-matrix product):"
   ]
  },
  {
   "cell_type": "code",
   "execution_count": 14,
   "metadata": {
    "collapsed": false
   },
   "outputs": [],
   "source": [
    "# your code here:"
   ]
  },
  {
   "cell_type": "markdown",
   "metadata": {},
   "source": [
    "**Spoiler alert**: Have a look at the result vector `x` that you calculated before: do you observe something interesting? Wait until you learn more about it in the lecture!"
   ]
  },
  {
   "cell_type": "markdown",
   "metadata": {},
   "source": [
    "## Better ways to solve equations\n",
    "\n",
    "<We discussed briefly in the lecture that calculating and using the inverse of a matrix can be very memory-intense and has a limited efficiency (and, in addition, it poses significant problems for high-performance computing on multiple separate computers).>\n",
    "\n",
    "`numpy` contains a dedicated method to solve these systems of equations, the `numpy.linalg.solve()` method. This method is based on routines of the famous computational linear algebra package LAPACK that I mentioned before (http://en.wikipedia.org/wiki/LAPACK).\n",
    "\n",
    "**Exercise**: use this function to solve the above system of equations:"
   ]
  },
  {
   "cell_type": "code",
   "execution_count": 15,
   "metadata": {
    "collapsed": false
   },
   "outputs": [
    {
     "name": "stdout",
     "output_type": "stream",
     "text": [
      "[ 2.  3.]\n"
     ]
    }
   ],
   "source": [
    "# your code here\n",
    "x = np.linalg.solve(A,b)\n",
    "print(x)"
   ]
  },
  {
   "cell_type": "markdown",
   "metadata": {},
   "source": [
    "I told you before that you should never trust anyone who claims that a certain code runs faster than another code - so check yourself if my claim above is true:\n",
    "\n",
    "**Exercise**: use the cell magic function `%%timit` to compare the execution times for both methods to solve the equation:"
   ]
  },
  {
   "cell_type": "code",
   "execution_count": 16,
   "metadata": {
    "collapsed": false
   },
   "outputs": [
    {
     "name": "stdout",
     "output_type": "stream",
     "text": [
      "The slowest run took 10.89 times longer than the fastest. This could mean that an intermediate result is being cached \n",
      "10000 loops, best of 3: 19.8 µs per loop\n"
     ]
    }
   ],
   "source": [
    "%%timeit\n",
    "x = np.dot(np.linalg.inv(A),b)\n"
   ]
  },
  {
   "cell_type": "code",
   "execution_count": 17,
   "metadata": {
    "collapsed": false
   },
   "outputs": [
    {
     "name": "stdout",
     "output_type": "stream",
     "text": [
      "The slowest run took 4.96 times longer than the fastest. This could mean that an intermediate result is being cached \n",
      "100000 loops, best of 3: 15.1 µs per loop\n"
     ]
    }
   ],
   "source": [
    "%%timeit\n",
    "x = np.linalg.solve(A,b)\n"
   ]
  },
  {
   "cell_type": "markdown",
   "metadata": {},
   "source": [
    "What did you observe? Do you have an explanation for this behaviour?"
   ]
  },
  {
   "cell_type": "markdown",
   "metadata": {},
   "source": [
    "## Creating a larger \"special\" matrix\n",
    "\n",
    "I still hold up my claim that the method `np.linalg.solve()` is more efficient - just not in the special case above, but for all general cases where we have to deal with matrices that are *a lot* larger than the one we created above!\n",
    "\n",
    "**Exercise**: To explore this behaviour, here is your task:\n",
    "\n",
    "1. Write a function that creates a square matrix (N x N) of the form:\n",
    "\n",
    "A = $\\begin{bmatrix}\n",
    "-2 & 1 & 0 & 0 & \\cdots & 0\\\\\n",
    "1 & -2 & 1 &  0 & \\cdots & 0\\\\\n",
    "0 & 1 & -2 & 1 & \\cdots & 0\\\\\n",
    "\\vdots & & & & & \\vdots \\\\\n",
    "0 & \\cdots & 0 & 1 & -2 & 1 \\\\\n",
    "0 & \\cdots & 0 & 0 & 1 & -2\n",
    "\\end{bmatrix}$\n",
    "\n",
    "2. Create an array `b` of length N with b[0] = -10, b[N] = -20, else 0\n",
    "3. Solve the equation Ax = b with both methods above\n",
    "4. Time and compare the results"
   ]
  },
  {
   "cell_type": "code",
   "execution_count": 10,
   "metadata": {
    "collapsed": false
   },
   "outputs": [],
   "source": [
    "# your code here:\n",
    "def tridiag_121(n):\n",
    "    A = np.zeros(shape=(n,n))\n",
    "    i,j = np.indices(A.shape)\n",
    "    A[i==j] = -2.\n",
    "    A[i==j-1] = 1.\n",
    "    A[i==j+1] = 1.\n",
    "    return  A"
   ]
  },
  {
   "cell_type": "code",
   "execution_count": 12,
   "metadata": {
    "collapsed": false
   },
   "outputs": [
    {
     "name": "stdout",
     "output_type": "stream",
     "text": [
      "[[-2.  1.  0.  0.  0.  0.  0.  0.  0.  0.]\n",
      " [ 1. -2.  1.  0.  0.  0.  0.  0.  0.  0.]\n",
      " [ 0.  1. -2.  1.  0.  0.  0.  0.  0.  0.]\n",
      " [ 0.  0.  1. -2.  1.  0.  0.  0.  0.  0.]\n",
      " [ 0.  0.  0.  1. -2.  1.  0.  0.  0.  0.]\n",
      " [ 0.  0.  0.  0.  1. -2.  1.  0.  0.  0.]\n",
      " [ 0.  0.  0.  0.  0.  1. -2.  1.  0.  0.]\n",
      " [ 0.  0.  0.  0.  0.  0.  1. -2.  1.  0.]\n",
      " [ 0.  0.  0.  0.  0.  0.  0.  1. -2.  1.]\n",
      " [ 0.  0.  0.  0.  0.  0.  0.  0.  1. -2.]]\n",
      "[-10.         -11.11111111 -12.22222222 -13.33333333 -14.44444444\n",
      " -15.55555556 -16.66666667 -17.77777778 -18.88888889 -20.        ]\n"
     ]
    }
   ],
   "source": [
    "n = 10\n",
    "A = tridiag_121(n)\n",
    "b = np.linspace(-10,-20,n)\n",
    "print(A)\n",
    "print(b)\n"
   ]
  },
  {
   "cell_type": "code",
   "execution_count": 49,
   "metadata": {
    "collapsed": false
   },
   "outputs": [
    {
     "name": "stdout",
     "output_type": "stream",
     "text": [
      "The slowest run took 5.42 times longer than the fastest. This could mean that an intermediate result is being cached \n",
      "100000 loops, best of 3: 18.1 µs per loop\n"
     ]
    }
   ],
   "source": [
    "%%timeit\n",
    "x = np.dot(np.linalg.inv(A),b)\n"
   ]
  },
  {
   "cell_type": "code",
   "execution_count": 50,
   "metadata": {
    "collapsed": false
   },
   "outputs": [
    {
     "name": "stdout",
     "output_type": "stream",
     "text": [
      "The slowest run took 4.96 times longer than the fastest. This could mean that an intermediate result is being cached \n",
      "100000 loops, best of 3: 15.2 µs per loop\n"
     ]
    }
   ],
   "source": [
    "\n",
    "%%timeit\n",
    "x = np.linalg.solve(A,b)"
   ]
  },
  {
   "cell_type": "code",
   "execution_count": 15,
   "metadata": {
    "collapsed": true
   },
   "outputs": [],
   "source": [
    "from scipy import sparse"
   ]
  },
  {
   "cell_type": "code",
   "execution_count": 34,
   "metadata": {
    "collapsed": false
   },
   "outputs": [],
   "source": [
    "def tridiag_121_sparse(n):\n",
    "    \n",
    "    d_main = np.ones(n) * (-2)\n",
    "    d_up = np.ones(n)\n",
    "    d_down = np.ones(n)\n",
    "    data = [d_down, d_main, d_up]\n",
    "    diags = [-1, 0, 1]\n",
    "    return sparse.spdiags(data, diags, n,n, format='csc')"
   ]
  },
  {
   "cell_type": "code",
   "execution_count": null,
   "metadata": {
    "collapsed": true
   },
   "outputs": [],
   "source": []
  },
  {
   "cell_type": "code",
   "execution_count": 43,
   "metadata": {
    "collapsed": false
   },
   "outputs": [],
   "source": [
    "n = 1000\n",
    "A = tridiag_121_sparse(n)\n",
    "b = np.zeros(n)\n",
    "b[0] = -10.\n",
    "b[-1] = -20."
   ]
  },
  {
   "cell_type": "code",
   "execution_count": 44,
   "metadata": {
    "collapsed": false
   },
   "outputs": [],
   "source": [
    "#print(A.todense()) "
   ]
  },
  {
   "cell_type": "code",
   "execution_count": 45,
   "metadata": {
    "collapsed": false
   },
   "outputs": [],
   "source": [
    "from scipy.sparse.linalg import spsolve"
   ]
  },
  {
   "cell_type": "code",
   "execution_count": 46,
   "metadata": {
    "collapsed": false
   },
   "outputs": [
    {
     "name": "stdout",
     "output_type": "stream",
     "text": [
      "1000 loops, best of 3: 507 µs per loop\n"
     ]
    }
   ],
   "source": [
    "%%timeit\n",
    "x = spsolve(A,b)\n"
   ]
  },
  {
   "cell_type": "code",
   "execution_count": 60,
   "metadata": {
    "collapsed": false
   },
   "outputs": [
    {
     "data": {
      "text/plain": [
       "(-1, 10)"
      ]
     },
     "execution_count": 60,
     "metadata": {},
     "output_type": "execute_result"
    },
    {
     "data": {
      "image/png": "[encoded data removed]",
      "text/plain": [
       "<matplotlib.figure.Figure at 0x22c6b0f0>"
      ]
     },
     "metadata": {},
     "output_type": "display_data"
    }
   ],
   "source": [
    "import matplotlib.pyplot as plt\n",
    "\n",
    "plt.plot(x,'ro--')\n",
    "plt.xlim([-1,10])\n",
    "\n",
    "# This linear interpolation --> e.g. Diffusion problems, Laplace del^2 T = 0"
   ]
  },
  {
   "cell_type": "code",
   "execution_count": 47,
   "metadata": {
    "collapsed": false
   },
   "outputs": [],
   "source": [
    "n = 1000\n",
    "A_dense = tridiag_121(n)\n",
    "b = np.zeros(n)\n",
    "A_sparse = tridiag_121_sparse(n)\n",
    "b = np.zeros(n)\n",
    "b[0] = -10.\n",
    "b[-1] = -20."
   ]
  },
  {
   "cell_type": "code",
   "execution_count": 51,
   "metadata": {
    "collapsed": false
   },
   "outputs": [
    {
     "name": "stdout",
     "output_type": "stream",
     "text": [
      "10 loops, best of 3: 125 ms per loop\n"
     ]
    }
   ],
   "source": [
    "%%timeit\n",
    "np.dot(np.linalg.inv(A_dense), b)"
   ]
  },
  {
   "cell_type": "code",
   "execution_count": 52,
   "metadata": {
    "collapsed": false
   },
   "outputs": [
    {
     "name": "stdout",
     "output_type": "stream",
     "text": [
      "10 loops, best of 3: 33.5 ms per loop\n"
     ]
    }
   ],
   "source": [
    "%%timeit\n",
    "x = np.linalg.solve(A_dense,b)"
   ]
  },
  {
   "cell_type": "code",
   "execution_count": 53,
   "metadata": {
    "collapsed": false
   },
   "outputs": [
    {
     "name": "stdout",
     "output_type": "stream",
     "text": [
      "1000 loops, best of 3: 505 µs per loop\n"
     ]
    }
   ],
   "source": [
    "%%timeit\n",
    "x_sparse = spsolve(A_sparse,b)"
   ]
  },
  {
   "cell_type": "code",
   "execution_count": null,
   "metadata": {
    "collapsed": false
   },
   "outputs": [],
   "source": []
  },
  {
   "cell_type": "code",
   "execution_count": null,
   "metadata": {
    "collapsed": true
   },
   "outputs": [],
   "source": []
  },
  {
   "cell_type": "code",
   "execution_count": 65,
   "metadata": {
    "collapsed": false
   },
   "outputs": [],
   "source": [
    "mmm = np.ones(1)"
   ]
  },
  {
   "cell_type": "code",
   "execution_count": null,
   "metadata": {
    "collapsed": true
   },
   "outputs": [],
   "source": []
  }
 ],
 "metadata": {
  "kernelspec": {
   "display_name": "Python 2",
   "language": "python",
   "name": "python2"
  },
  "language_info": {
   "codemirror_mode": {
    "name": "ipython",
    "version": 2
   },
   "file_extension": ".py",
   "mimetype": "text/x-python",
   "name": "python",
   "nbconvert_exporter": "python",
   "pygments_lexer": "ipython2",
   "version": "2.7.10"
  }
 },
 "nbformat": 4,
 "nbformat_minor": 0
}
