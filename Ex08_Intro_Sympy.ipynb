{
 "cells": [
  {
   "cell_type": "markdown",
   "metadata": {},
   "source": [
    "# Exercise 8: Introduction to SymPy\n",
    "\n",
    "SymPy is a Python package for symbolic computation. Instead of working only with variable values (as we did before in our programming exercises), in symbolic computation we actually work with mathematical objects, for example symbolic descriptions of functions. This enables us to do incredible things: we can, for example, use symbolic computations to perform complicated differentiation or integration operations symbolically! If you used Mathematica or Maple before, then you are probably familiar with this type of computation. \n",
    "\n",
    "Here a description from the [SymPy homepage](http://docs.sympy.org/dev/tutorial/intro.html):\n",
    "\n",
    "> \"Symbolic computation deals with the computation of mathematical objects symbolically. This means that the mathematical objects are represented exactly, not approximately, and mathematical expressions with unevaluated variables are left in symbolic form.\"\n",
    "\n",
    " \n",
    "\n",
    "You might not be impressed - but wait and see..."
   ]
  },
  {
   "cell_type": "markdown",
   "metadata": {},
   "source": [
    "## Taylor series expansion\n",
    "\n",
    "We will first discuss the Taylor series expansion as a way to formally determine the differential of a property. As a brief reminder, the Taylor series can be used to approximate the value of a function $f(x)$ at a location $f(x +h)$ with the help of a polynomial series:\n",
    "\n",
    "$$f(x+h) = \\sum_{i=1}^n \\frac{h^n}{n!} \\frac{d^nf}{dx^n}(h)$$\n",
    "\n",
    "As an example, we can approximate the sine function at several locations. This is pretty easy as the derivatives of $f(x) = \\sin(x)$ can easily be calculated.\n",
    "\n",
    "However, this is not always the case. Think about a tiny bit more complex function: $f(x) = \\sin(x^2)$. Determining higher-order differentials quickly gets quite tricky (i.e. dirty) - try it out, to convince yourself:\n",
    "\n",
    "$$f(x) = \\sin(x^2)$$\n",
    "\n",
    "$$\\frac{df}{dx} = 2x \\cos(x^2)$$\n",
    "\n",
    "$$\\frac{d^2f}{dx^2} = ?$$\n",
    "\n",
    "$$\\frac{d^3f}{dx^3} = ??$$\n",
    "\n",
    "Creating more differentials is a very systematic process and maybe not difficult - but requires quickly a lot of bookkeeping and is prone to errors - and it becomes very repetitive if you have to do it very often...\n",
    "\n",
    "As soon as you read things in descriptions like: \"requires bookkeeping\", \"not difficult systematic process\" and \"repetitive\", I hope you think by now: **we should do that in Python**! Yes, correct!\n",
    "\n",
    "So luckily, someone did the hard work of coding all these things into Python for us before: it is implemented in the sympy package for symbolic computation. \n",
    "\n",
    "We'll have a look at some of the basic features in this notebook - and then apply it to determine Taylor Series Expansions, and finally to the accuracy estimation that we will see again in the lecture.\n",
    "\n"
   ]
  },
  {
   "cell_type": "code",
   "execution_count": 1,
   "metadata": {
    "collapsed": true
   },
   "outputs": [],
   "source": [
    "#from IPython.core.display import HTML\n",
    "#css_file = 'nre2_style.css'\n",
    "#HTML(open(css_file, \"r\").read())"
   ]
  },
  {
   "cell_type": "code",
   "execution_count": 2,
   "metadata": {
    "collapsed": true
   },
   "outputs": [],
   "source": [
    "import sympy as sym\n",
    "import numpy as np\n",
    "import matplotlib.pyplot as plt"
   ]
  },
  {
   "cell_type": "code",
   "execution_count": 3,
   "metadata": {
    "collapsed": true
   },
   "outputs": [],
   "source": [
    "%matplotlib inline"
   ]
  },
  {
   "cell_type": "code",
   "execution_count": 4,
   "metadata": {
    "collapsed": true
   },
   "outputs": [],
   "source": [
    "# to get LaTeX function rendereing:\n",
    "sym.init_printing()\n",
    "#sym.init_printing(use_unicode=True)"
   ]
  },
  {
   "cell_type": "code",
   "execution_count": 5,
   "metadata": {
    "collapsed": true
   },
   "outputs": [],
   "source": [
    "# writing function as sympy\n",
    "sym.var('x')\n",
    "f = sym.sin(x**2)"
   ]
  },
  {
   "cell_type": "code",
   "execution_count": 6,
   "metadata": {
    "collapsed": true
   },
   "outputs": [],
   "source": [
    "x_vals = np.arange(0, 2*np.pi, 0.01)"
   ]
  },
  {
   "cell_type": "code",
   "execution_count": 7,
   "metadata": {
    "collapsed": false
   },
   "outputs": [
    {
     "data": {
      "text/plain": [
       "[<matplotlib.lines.Line2D at 0xbd73e10>]"
      ]
     },
     "execution_count": 7,
     "metadata": {},
     "output_type": "execute_result"
    },
    {
     "data": {
      "image/png": "[encoded data removed]",
      "text/plain": [
       "<matplotlib.figure.Figure at 0xbc01e48>"
      ]
     },
     "metadata": {},
     "output_type": "display_data"
    }
   ],
   "source": [
    "# plot the function\n",
    "Fx = sym.lambdify(x,f,'numpy') # keyword numpy required to create vectorised function\n",
    "plt.plot(x_vals, Fx(x_vals))"
   ]
  },
  {
   "cell_type": "markdown",
   "metadata": {},
   "source": [
    "## Creating derivatives with SymPy\n",
    "\n",
    "The first way to make the evaluation of the function with a Taylor series easier is, of course, to let SymPy do the hard work of doing the differentiation of the function:"
   ]
  },
  {
   "cell_type": "code",
   "execution_count": 8,
   "metadata": {
    "collapsed": false
   },
   "outputs": [
    {
     "data": {
      "image/png": "[encoded data removed]",
      "text/latex": [
       "$$\\sin{\\left (x^{2} \\right )}$$"
      ],
      "text/plain": [
       "   ⎛ 2⎞\n",
       "sin⎝x ⎠"
      ]
     },
     "execution_count": 8,
     "metadata": {},
     "output_type": "execute_result"
    }
   ],
   "source": [
    "f"
   ]
  },
  {
   "cell_type": "code",
   "execution_count": 9,
   "metadata": {
    "collapsed": false
   },
   "outputs": [
    {
     "data": {
      "image/png": "[encoded data removed]",
      "text/latex": [
       "$$2 x \\cos{\\left (x^{2} \\right )}$$"
      ],
      "text/plain": [
       "       ⎛ 2⎞\n",
       "2⋅x⋅cos⎝x ⎠"
      ]
     },
     "execution_count": 9,
     "metadata": {},
     "output_type": "execute_result"
    }
   ],
   "source": [
    "dfdx = f.diff()\n",
    "dfdx"
   ]
  },
  {
   "cell_type": "code",
   "execution_count": 10,
   "metadata": {
    "collapsed": true
   },
   "outputs": [],
   "source": [
    "d2fdx2 = dfdx.diff()\n",
    "d3fdx3 = d2fdx2.diff()"
   ]
  },
  {
   "cell_type": "code",
   "execution_count": 11,
   "metadata": {
    "collapsed": false
   },
   "outputs": [
    {
     "data": {
      "image/png": "[encoded data removed]",
      "text/latex": [
       "$$- 4 x^{2} \\sin{\\left (x^{2} \\right )} + 2 \\cos{\\left (x^{2} \\right )}$$"
      ],
      "text/plain": [
       "     2    ⎛ 2⎞        ⎛ 2⎞\n",
       "- 4⋅x ⋅sin⎝x ⎠ + 2⋅cos⎝x ⎠"
      ]
     },
     "execution_count": 11,
     "metadata": {},
     "output_type": "execute_result"
    }
   ],
   "source": [
    "d2fdx2"
   ]
  },
  {
   "cell_type": "code",
   "execution_count": 12,
   "metadata": {
    "collapsed": false
   },
   "outputs": [
    {
     "data": {
      "image/png": "[encoded data removed]",
      "text/latex": [
       "$$- 8 x^{3} \\cos{\\left (x^{2} \\right )} - 12 x \\sin{\\left (x^{2} \\right )}$$"
      ],
      "text/plain": [
       "     3    ⎛ 2⎞           ⎛ 2⎞\n",
       "- 8⋅x ⋅cos⎝x ⎠ - 12⋅x⋅sin⎝x ⎠"
      ]
     },
     "execution_count": 12,
     "metadata": {},
     "output_type": "execute_result"
    }
   ],
   "source": [
    "d3fdx3"
   ]
  },
  {
   "cell_type": "markdown",
   "metadata": {},
   "source": [
    "# If you did the differentiation by hand before then you will surely appreciate how much SymPy can make your life easier...\n",
    "\n",
    "However, for the determination of the full Taylor expansion, it even gets better:\n",
    "\n",
    "## Taylor expansion up to order $n$\n",
    "\n",
    "SymPy provides a direct method to determine the coefficients of a Taylor series for the polynomials up to order $n$. In addition, it is possible to directly plot and evaluate results:"
   ]
  },
  {
   "cell_type": "code",
   "execution_count": 13,
   "metadata": {
    "collapsed": true
   },
   "outputs": [],
   "source": [
    "taylor = sym.series(f, x0 = 1., n=6).removeO()\n",
    "evaltaylor = sym.lambdify(x, taylor, modules=['numpy'])"
   ]
  },
  {
   "cell_type": "code",
   "execution_count": 14,
   "metadata": {
    "collapsed": false
   },
   "outputs": [
    {
     "data": {
      "image/png": "[encoded data removed]",
      "text/plain": [
       "<matplotlib.figure.Figure at 0xc15b6d8>"
      ]
     },
     "metadata": {},
     "output_type": "display_data"
    }
   ],
   "source": [
    "func = sym.sin(x)/x\n",
    "taylor = sym.series(func, n=4).removeO()\n",
    "\n",
    "evalfunc = sym.lambdify(x, func, modules=['numpy'])\n",
    "evaltaylor = sym.lambdify(x, taylor, modules=['numpy'])\n",
    "\n",
    "t = np.linspace(-5.5, 5.5, 100)\n",
    "plt.plot(t, evalfunc(t), 'b', label='sin(x)/x')\n",
    "plt.plot(t, evaltaylor(t), 'r', label='Taylor')\n",
    "plt.legend(loc='best')\n",
    "plt.show()"
   ]
  },
  {
   "cell_type": "code",
   "execution_count": 15,
   "metadata": {
    "collapsed": false
   },
   "outputs": [
    {
     "data": {
      "image/png": "[encoded data removed]",
      "text/latex": [
       "$$1 - \\frac{x^{2}}{6} + \\frac{x^{4}}{120} - \\frac{x^{6}}{5040} + \\mathcal{O}\\left(x^{8}\\right)$$"
      ],
      "text/plain": [
       "     2     4     6         \n",
       "    x     x     x      ⎛ 8⎞\n",
       "1 - ── + ─── - ──── + O⎝x ⎠\n",
       "    6    120   5040        "
      ]
     },
     "execution_count": 15,
     "metadata": {},
     "output_type": "execute_result"
    }
   ],
   "source": [
    "sym.series(func, n=8)  #.removeO()"
   ]
  },
  {
   "cell_type": "code",
   "execution_count": 16,
   "metadata": {
    "collapsed": true
   },
   "outputs": [],
   "source": [
    "f1 = sym.series(sym.sin(x), x0=sym.pi/4, n=4).removeO()"
   ]
  },
  {
   "cell_type": "code",
   "execution_count": 17,
   "metadata": {
    "collapsed": true
   },
   "outputs": [],
   "source": [
    "f1_np = sym.lambdify('x', f1, modules=['numpy'])"
   ]
  },
  {
   "cell_type": "code",
   "execution_count": 18,
   "metadata": {
    "collapsed": false
   },
   "outputs": [
    {
     "data": {
      "text/plain": [
       "<matplotlib.legend.Legend at 0xc5e1a90>"
      ]
     },
     "execution_count": 18,
     "metadata": {},
     "output_type": "execute_result"
    },
    {
     "data": {
      "image/png": "[encoded data removed]",
      "text/plain": [
       "<matplotlib.figure.Figure at 0xc3a9c88>"
      ]
     },
     "metadata": {},
     "output_type": "display_data"
    }
   ],
   "source": [
    "xvals = np.arange(0,2*np.pi,0.01)\n",
    "\n",
    "plt.plot(xvals, f1_np(xvals), label = 'approximation')\n",
    "plt.plot(xvals, np.sin(xvals), label = 'sin(x)')\n",
    "plt.legend(loc='best')"
   ]
  },
  {
   "cell_type": "code",
   "execution_count": 21,
   "metadata": {
    "collapsed": false
   },
   "outputs": [
    {
     "name": "stdout",
     "output_type": "stream",
     "text": [
      "-1.0 + 0.405897075109648*pi\n"
     ]
    }
   ],
   "source": [
    "x0 = np.pi/4.\n",
    "dx = np.pi/8.\n",
    "sym.var('x')\n",
    "\n",
    "f1 = sym.series(sym.sin('x'), x0=0, n=2).removeO()\n",
    "f1_np = sym.lambdify('x', f1, modules=['numpy'])\n",
    "\n",
    "approx_val = f1_np(sym.pi/4. + sym.pi/8.)\n",
    "true_val = np.sin(np.pi/4. + np.pi/8.)\n",
    "error = (approx_val - true_val)/true_val\n",
    "\n",
    "print(error)\n",
    "\n",
    "#print(approx_val)\n",
    "\n",
    "#print(f1)"
   ]
  },
  {
   "cell_type": "markdown",
   "metadata": {},
   "source": []
  },
  {
   "cell_type": "markdown",
   "metadata": {},
   "source": [
    "## Complete function for Taylor series analysis\n",
    "\n",
    "Here a little more complex example: a function that can be used to take any SymPy function as an input and then performes a plot of Taylor series for specified orders and ranges.\n",
    "\n",
    "The function is from the IPython docs examples page (github repository on: https://github.com/ipython/ipython/blob/3607712653c66d63e0d7f13f073bde8c0f209ba8/docs/examples/notebooks/sympy.ipynb)"
   ]
  },
  {
   "cell_type": "code",
   "execution_count": 20,
   "metadata": {
    "collapsed": true
   },
   "outputs": [],
   "source": [
    "def plot_taylor_approximations(func, x0=None, orders=(2, 4), xrange=(0,1), yrange=None, npts=200):\n",
    "    \"\"\"Plot the Taylor series approximations to a function at various orders.\n",
    "\n",
    "    Parameters\n",
    "    ----------\n",
    "    func : a sympy function\n",
    "    x0 : float\n",
    "      Origin of the Taylor series expansion.  If not given, x0=xrange[0].\n",
    "    orders : list\n",
    "      List of integers with the orders of Taylor series to show.  Default is (2, 4).\n",
    "    xrange : 2-tuple or array.\n",
    "      Either an (xmin, xmax) tuple indicating the x range for the plot (default is (0, 1)),\n",
    "      or the actual array of values to use.\n",
    "    yrange : 2-tuple\n",
    "      (ymin, ymax) tuple indicating the y range for the plot.  If not given,\n",
    "      the full range of values will be automatically used. \n",
    "    npts : int\n",
    "      Number of points to sample the x range with.  Default is 200.\n",
    "    \"\"\"\n",
    "    if not callable(func):\n",
    "        raise ValueError('func must be callable')\n",
    "    if isinstance(xrange, (list, tuple)):\n",
    "        x = np.linspace(float(xrange[0]), float(xrange[1]), npts)\n",
    "    else:\n",
    "        x = xrange\n",
    "    if x0 is None: x0 = x[0]\n",
    "    xs = sym.Symbol('x')\n",
    "    # Make a numpy-callable form of the original function for plotting\n",
    "    fx = func(xs)\n",
    "    f = sym.lambdify(xs, fx, modules=['numpy'])\n",
    "    # We could use latex(fx) instead of str(), but matploblib gets confused\n",
    "    # with some of the (valid) latex constructs sympy emits.  So we play it safe.\n",
    "    plt.plot(x, f(x), label=str(fx), lw=2)\n",
    "    # Build the Taylor approximations, plotting as we go\n",
    "    apps = {}\n",
    "    for order in orders:\n",
    "        app = fx.series(xs, x0, n=order).removeO()\n",
    "        apps[order] = app\n",
    "        # Must be careful here: if the approximation is a constant, we can't\n",
    "        # blindly use lambdify as it won't do the right thing.  In that case, \n",
    "        # evaluate the number as a float and fill the y array with that value.\n",
    "        if isinstance(app, sym.numbers.Number):\n",
    "            y = np.zeros_like(x)\n",
    "            y.fill(app.evalf())\n",
    "        else:\n",
    "            fa = sym.lambdify(xs, app, modules=['numpy'])\n",
    "            y = fa(x)\n",
    "        tex = sym.latex(app).replace('$', '')\n",
    "        plt.plot(x, y, label=r'$n=%s:\\, %s$' % (order, tex) )\n",
    "        \n",
    "    # Plot refinements\n",
    "    if yrange is not None:\n",
    "        plt.ylim(*yrange)\n",
    "    plt.grid()\n",
    "    plt.legend(loc='best').get_frame().set_alpha(0.8)"
   ]
  },
  {
   "cell_type": "markdown",
   "metadata": {},
   "source": [
    "Here an example:"
   ]
  },
  {
   "cell_type": "code",
   "execution_count": 21,
   "metadata": {
    "collapsed": false
   },
   "outputs": [
    {
     "data": {
      "image/png": "[encoded data removed]",
      "text/plain": [
       "<matplotlib.figure.Figure at 0xc162ef0>"
      ]
     },
     "metadata": {},
     "output_type": "display_data"
    }
   ],
   "source": [
    "plot_taylor_approximations(sym.sin, sym.pi/4, [0,2, 4], (-1, 2*np.pi), (-2,2))"
   ]
  },
  {
   "cell_type": "markdown",
   "metadata": {},
   "source": [
    "Pretty neat - and actually quite useful to get a quick idea about the radius of convergence for an expansion of an equation about a specific point."
   ]
  },
  {
   "cell_type": "markdown",
   "metadata": {},
   "source": [
    "## Accuracy estimation of Taylor Series Expansion\n",
    "\n",
    "We know from theory that the accuracy of an approximation with a Taylor Series increses when we consider higher orders. This is actually really important for spatial discretisations of partial differential equations, as we will see in the lecture.\n",
    "\n",
    "To get an understanding about the decreasing error, take the sine function approximations from above and write a function to determine the accuracy:\n",
    "\n",
    "1. Define a location $x_0$ where we want to determine the gradient and a step size $\\Delta x$. \n",
    "\n",
    "2. Determine the correct answer easily by differentiating the function. Based on that correct value (let's call it $y_{true}$, we can determine the error of the approximation with the value $y_{approx}$ by:\n",
    "\n",
    "    $$\\epsilon = \\frac{y_{approx} - y_{true}}{y_{true}}$$\n",
    "\n",
    "3. Generate several approximations for different locations $x_0$ and step sizes $\\Delta x$. \n",
    "\n",
    "4. Analyse the decrease in the approximation error $\\epsilon$ (for example in a plot).\n",
    "\n"
   ]
  },
  {
   "cell_type": "code",
   "execution_count": null,
   "metadata": {
    "collapsed": true
   },
   "outputs": [],
   "source": [
    "## Your code here:"
   ]
  },
  {
   "cell_type": "code",
   "execution_count": null,
   "metadata": {
    "collapsed": true
   },
   "outputs": [],
   "source": []
  }
 ],
 "metadata": {
  "kernelspec": {
   "display_name": "Python 2",
   "language": "python",
   "name": "python2"
  },
  "language_info": {
   "codemirror_mode": {
    "name": "ipython",
    "version": 2
   },
   "file_extension": ".py",
   "mimetype": "text/x-python",
   "name": "python",
   "nbconvert_exporter": "python",
   "pygments_lexer": "ipython2",
   "version": "2.7.11"
  }
 },
 "nbformat": 4,
 "nbformat_minor": 0
}
