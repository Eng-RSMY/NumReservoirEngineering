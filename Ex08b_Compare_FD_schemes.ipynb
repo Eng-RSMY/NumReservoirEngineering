{
 "cells": [
  {
   "cell_type": "markdown",
   "metadata": {},
   "source": [
    "# Exercise 8b: Comparison of different solution schemes\n",
    "\n",
    "In this exercise, we will compare some of the iterative numerical schemes to solve systems of algebraic equations (SAE) of the type that we typically obtain in subsurface flow problems.\n",
    "\n",
    "As a first step, we will determine how the choice of the intitial temperature affects the number of required convergence steps in Jacobi and Gauss-Seidel methods. Subsequently, we will investigate different schemes that lead to a better (or faster) convergence to the solution."
   ]
  },
  {
   "cell_type": "code",
   "execution_count": null,
   "metadata": {
    "collapsed": false
   },
   "outputs": [],
   "source": [
    "from IPython.core.display import HTML\n",
    "css_file = 'nre2_style.css'\n",
    "HTML(open(css_file, \"r\").read())"
   ]
  },
  {
   "cell_type": "code",
   "execution_count": null,
   "metadata": {
    "collapsed": false
   },
   "outputs": [],
   "source": [
    "%matplotlib inline"
   ]
  },
  {
   "cell_type": "code",
   "execution_count": null,
   "metadata": {
    "collapsed": false
   },
   "outputs": [],
   "source": [
    "import numpy as np\n",
    "import matplotlib.pyplot as plt\n",
    "plt.rcParams['figure.figsize'] = (10,8)\n",
    "plt.rcParams['font.size'] = 16"
   ]
  },
  {
   "cell_type": "markdown",
   "metadata": {},
   "source": [
    "## Influence of initial temperature on convergence of iterative solvers\n",
    "\n",
    "\n",
    "Define grid size for all subsequent examples:"
   ]
  },
  {
   "cell_type": "code",
   "execution_count": null,
   "metadata": {
    "collapsed": false
   },
   "outputs": [],
   "source": [
    "n = 20"
   ]
  },
  {
   "cell_type": "code",
   "execution_count": null,
   "metadata": {
    "collapsed": false
   },
   "outputs": [],
   "source": [
    "# First step: define the function for a single iteration:\n",
    "\n",
    "def jacobi_iter(u, q, dx):\n",
    "    \"\"\"Function to perform the Jacobi iteration for all values in the array u\n",
    "    \n",
    "    u = 1-D np.array with values of previous iteration\n",
    "    q = 1-D np.array with source/sink terms (not required for Laplace solution!)\n",
    "    dx = float : node spacing (not required for Laplace solution!)\n",
    "    \"\"\"\n",
    "    \n",
    "    # your code here\n",
    "\n",
    "    \n",
    "    \n",
    "    \n",
    "    return u_new\n",
    "    \n",
    "    "
   ]
  },
  {
   "cell_type": "code",
   "execution_count": null,
   "metadata": {
    "collapsed": false
   },
   "outputs": [],
   "source": [
    "def solve_jacobi(**kwds):\n",
    "    \"\"\"Solve equation with Jacobi solver\"\"\"\n",
    "    init_val = kwds.get(\"init_val\", 0.)\n",
    "    n = kwds.get(\"n\", 10)\n",
    "    u = np.ones(n) * init_val\n",
    "    \n",
    "    # keep this line to store all results\n",
    "    all_u = []\n",
    "\n",
    "\n",
    "    # your code here:\n",
    "\n",
    "        \n",
    "        \n",
    "        \n",
    "    return all_u, jacobi_i, epsilon\n",
    "\n",
    "    "
   ]
  },
  {
   "cell_type": "code",
   "execution_count": null,
   "metadata": {
    "collapsed": false
   },
   "outputs": [],
   "source": [
    "all_u, jacobi_i, epsilon = solve_jacobi(n = n, init_val = 10.)"
   ]
  },
  {
   "cell_type": "markdown",
   "metadata": {},
   "source": [
    "The following figure contains the code to plot multiple results with changing colours according to a defined colour scheme:"
   ]
  },
  {
   "cell_type": "code",
   "execution_count": null,
   "metadata": {
    "collapsed": true
   },
   "outputs": [],
   "source": [
    "# your code here:\n",
    "fig = plt.figure()\n",
    "ax = fig.add_subplot(111)\n",
    "# plot results\n",
    "for i in range(20):\n",
    "    ax.plot(all_u[n/3*i], lw=2, color=plt.cm.copper_r(i/20.))\n",
    "ax.plot(all_u[-1], 'k', lw = 2)\n",
    "# plot boundary values\n",
    "#ax.plot(0,10,'ro')\n",
    "#ax.plot(n-1,20,'ro')\n",
    "# set labels and title\n",
    "ax.set_title(\"Convergence after %d iterations\" % jacobi_i)\n",
    "ax.set_xlabel(\"Node\")\n",
    "ax.set_ylabel(\"Value\")\n"
   ]
  },
  {
   "cell_type": "markdown",
   "metadata": {},
   "source": [
    "## Effect of the initial value: Jacobi method\n",
    "\n",
    "Create a plot for convergence depending on different initial values:"
   ]
  },
  {
   "cell_type": "code",
   "execution_count": null,
   "metadata": {
    "collapsed": false
   },
   "outputs": [],
   "source": [
    "# This code should work directly if everything above was correct:\n",
    "\n",
    "import numpy as np\n",
    "i_values_jacobi = []\n",
    "init_values = np.arange(0,30,1.)\n",
    "for i in init_values:\n",
    "    all_u, jacobi_i, epsilon = solve_jacobi(n = 20, init_val = float(i))\n",
    "    i_values_jacobi.append(jacobi_i)"
   ]
  },
  {
   "cell_type": "code",
   "execution_count": null,
   "metadata": {
    "collapsed": false
   },
   "outputs": [],
   "source": [
    "fig = plt.figure()\n",
    "ax = fig.add_subplot(111)\n",
    "ax.plot(init_values, i_values_jacobi, 'ko--')\n",
    "ax.set_xlabel(\"Initial value\")\n",
    "ax.set_ylabel(\"Number of iterations\")"
   ]
  },
  {
   "cell_type": "markdown",
   "metadata": {},
   "source": [
    "## Effect of initial value: the Gauss-Seidel method\n",
    "\n",
    "Now: do the same for the Gauss-Seidel method"
   ]
  },
  {
   "cell_type": "code",
   "execution_count": null,
   "metadata": {
    "collapsed": false
   },
   "outputs": [],
   "source": [
    "def gauss_seidel_iter(u, q, dx, **kwds):\n",
    "    \"\"\"Function to perform the Gauss-Seidel iteration for all values in the array u\n",
    "    \n",
    "    u = 1-D np.array with values of previous iteration\n",
    "    q = 1-D np.array with source/sink terms (not required for Laplace solution!)\n",
    "    dx = float : node spacing (not required for Laplace solution!)\n",
    "    \"\"\"\n",
    "    \n",
    "    # optional: get value for successive over-relaxation (SOR)\n",
    "    omega = kwds.get(\"omega\", 1.)\n",
    "    \n",
    "    # your code here\n",
    "    \n",
    "\n",
    "    return u\n",
    "    "
   ]
  },
  {
   "cell_type": "code",
   "execution_count": null,
   "metadata": {
    "collapsed": false
   },
   "outputs": [],
   "source": [
    "def solve_gauss_seidel(**kwds):\n",
    "    \"\"\"Solve equation with Gauss-Seidel solver\"\"\"\n",
    "    init_val = kwds.get(\"init_val\", 0.)\n",
    "    n = kwds.get(\"n\", 10)\n",
    "    omega = kwds.get(\"omega\", 1.)\n",
    "    u = np.ones(n) * init_val\n",
    "\n",
    "    # store all results\n",
    "    all_u = []\n",
    "\n",
    "    # your code here:\n",
    "    \n",
    "    return all_u, gauss_seidel_i, epsilon\n",
    "\n",
    "\n"
   ]
  },
  {
   "cell_type": "code",
   "execution_count": null,
   "metadata": {
    "collapsed": false
   },
   "outputs": [],
   "source": [
    "all_u, gauss_seidel_i, epsilon = solve_gauss_seidel(n = n, init_val = 15.)"
   ]
  },
  {
   "cell_type": "markdown",
   "metadata": {},
   "source": [
    "Now: create plot to plot results of convergence (i.e. multiple subsequent iterations):"
   ]
  },
  {
   "cell_type": "code",
   "execution_count": null,
   "metadata": {
    "collapsed": false,
    "scrolled": true
   },
   "outputs": [],
   "source": [
    "# your code here:\n"
   ]
  },
  {
   "cell_type": "code",
   "execution_count": null,
   "metadata": {
    "collapsed": false
   },
   "outputs": [],
   "source": [
    "i_values_gs = []\n",
    "init_values = np.arange(0,30,0.5)\n",
    "for i in init_values:\n",
    "    all_u, gauss_seidel_i, epsilon = solve_gauss_seidel(n = n, \n",
    "                                                        init_val = float(i))\n",
    "    i_values_gs.append(gauss_seidel_i)"
   ]
  },
  {
   "cell_type": "code",
   "execution_count": null,
   "metadata": {
    "collapsed": false
   },
   "outputs": [],
   "source": [
    "fig = plt.figure()\n",
    "ax = fig.add_subplot(111)\n",
    "ax.plot(init_values, i_values_gs, 'ko--')\n",
    "ax.set_xlabel(\"Initial value\")\n",
    "ax.set_ylabel(\"Number of iterations\")"
   ]
  },
  {
   "cell_type": "code",
   "execution_count": null,
   "metadata": {
    "collapsed": false
   },
   "outputs": [],
   "source": [
    "print(\"Fastest convergence with an initial value of %.1f\" % \n",
    "      init_values[np.argmin(i_values_gs)])"
   ]
  },
  {
   "cell_type": "markdown",
   "metadata": {},
   "source": [
    "## Getting faster: SOR\n",
    "\n",
    "Extend now your G-S code to consider the effect of succesive over-relaxation:"
   ]
  },
  {
   "cell_type": "code",
   "execution_count": null,
   "metadata": {
    "collapsed": false
   },
   "outputs": [],
   "source": [
    "omega = 1.76\n",
    "all_u, gauss_seidel_i, epsilon = solve_gauss_seidel(n = n, \n",
    "                                                    init_val = 15., \n",
    "                                                    omega = omega)"
   ]
  },
  {
   "cell_type": "markdown",
   "metadata": {},
   "source": [
    "Create plot of convergence of iterations:"
   ]
  },
  {
   "cell_type": "code",
   "execution_count": null,
   "metadata": {
    "collapsed": false
   },
   "outputs": [],
   "source": [
    "# your code here:\n"
   ]
  },
  {
   "cell_type": "markdown",
   "metadata": {},
   "source": [
    "Now: compare different SOR values"
   ]
  },
  {
   "cell_type": "code",
   "execution_count": null,
   "metadata": {
    "collapsed": false
   },
   "outputs": [],
   "source": [
    "i_values_sor = []\n",
    "sor_range = np.arange(1.0, 2.0, 0.05)\n",
    "for omega in sor_range:\n",
    "    all_u, gauss_seidel_i, epsilon = solve_gauss_seidel(n = n, init_val = 15.5, omega = omega)\n",
    "    i_values_sor.append(gauss_seidel_i)"
   ]
  },
  {
   "cell_type": "code",
   "execution_count": null,
   "metadata": {
    "collapsed": false
   },
   "outputs": [],
   "source": [
    "fig = plt.figure()\n",
    "ax = fig.add_subplot(111)\n",
    "ax.plot(sor_range, i_values_sor, 'ko--')\n",
    "ax.set_xlabel(\"SOR factor\")\n",
    "ax.set_ylabel(\"Number of iterations\")"
   ]
  },
  {
   "cell_type": "markdown",
   "metadata": {},
   "source": [
    "Try to get a feel for a useful SOR value: increase the number of nodes and try different initial values: what happens?"
   ]
  },
  {
   "cell_type": "markdown",
   "metadata": {},
   "source": [
    "## Multigrid method\n",
    "\n",
    "Idea: solve on coarser grid first, then interpolate values in-between and solve on finer grid, and repeat until convergence.\n",
    "\n",
    "**Note**: the G-S algorithm can be used on multiple levels to solve this problem:"
   ]
  },
  {
   "cell_type": "code",
   "execution_count": null,
   "metadata": {
    "collapsed": false
   },
   "outputs": [],
   "source": [
    "def solve_multigrid_gs(**kwds):\n",
    "    \"\"\"Solve equation with Multigrid method and Gauss-Seidel solver\"\"\"\n",
    "    init_val = kwds.get(\"init_val\", 0.)\n",
    "    n = kwds.get(\"n\", 10)\n",
    "    omega = kwds.get(\"omega\", 1.)\n",
    "\n",
    "    # Your code here:\n",
    "    \n",
    "    \n",
    "    return all_u, gauss_seidel_i, epsilon\n",
    "\n",
    "\n"
   ]
  },
  {
   "cell_type": "code",
   "execution_count": null,
   "metadata": {
    "collapsed": false
   },
   "outputs": [],
   "source": [
    "all_u, multigrid_i, epsilon = solve_multigrid_gs(init_val = 15.,\n",
    "                                                 n = n,\n",
    "                                                omega = omega_opt)"
   ]
  },
  {
   "cell_type": "code",
   "execution_count": null,
   "metadata": {
    "collapsed": false
   },
   "outputs": [],
   "source": [
    "# your code here:\n",
    "\n"
   ]
  },
  {
   "cell_type": "markdown",
   "metadata": {},
   "source": [
    "## Conjugate gradient method\n",
    "\n",
    "Finally, this is an example implementation for the conjugate gradient method which is giving us, by far, the fastest convergence:"
   ]
  },
  {
   "cell_type": "code",
   "execution_count": null,
   "metadata": {
    "collapsed": false
   },
   "outputs": [],
   "source": [
    "# (1) Code to create tridiagonal matrix\n",
    "def tridiag_121(n):\n",
    "    \"\"\"Create a tridiagonal matrix of 1 -2 1 form of size n x n\"\"\"\n",
    "    a = np.ones((n-1))\n",
    "    b = np.ones(n) * (-2)\n",
    "    return np.diag(a, -1) + np.diag(b) + np.diag(a, 1)\n",
    "\n",
    "# (2) set up and solve\n",
    "n_cg = n-2\n",
    "# set up matrix\n",
    "A = tridiag_121(n_cg)\n",
    "# define BCs\n",
    "bc_0 = 10.\n",
    "bc_1 = 20.\n",
    "\n",
    "b = np.zeros(n_cg)\n",
    "b[0] = -bc_0\n",
    "b[-1] = -bc_1"
   ]
  },
  {
   "cell_type": "code",
   "execution_count": null,
   "metadata": {
    "collapsed": false
   },
   "outputs": [],
   "source": [
    "def conj_grad(A, x, b, tol=1.0E-9):\n",
    "    n = len(b)\n",
    "    # calculate residual\n",
    "    r = b - np.dot(A,x)\n",
    "    s = r.copy()\n",
    "    all_us = []\n",
    "    for i in range(n):\n",
    "        us = np.dot(A,s)\n",
    "        alpha = np.dot(s,r) / np.dot(s,us)\n",
    "        x = x + alpha * s\n",
    "        r = b - np.dot(A,x)\n",
    "        all_us.append(x)\n",
    "        if (np.sqrt(np.sum(r**2)) < tol):\n",
    "            break\n",
    "        else:\n",
    "            beta = -np.dot(r,us) / np.dot(s,us)\n",
    "            s = r + beta * s\n",
    "    return x, i, all_us"
   ]
  },
  {
   "cell_type": "code",
   "execution_count": null,
   "metadata": {
    "collapsed": false
   },
   "outputs": [],
   "source": [
    "u = np.ones_like(b)*15.\n",
    "u, cg_i, all_u_cg = conj_grad(A, u, b)"
   ]
  },
  {
   "cell_type": "markdown",
   "metadata": {},
   "source": [
    "Finally, as before: create a plot of results:"
   ]
  },
  {
   "cell_type": "code",
   "execution_count": null,
   "metadata": {
    "collapsed": false
   },
   "outputs": [],
   "source": [
    "# your code here:\n",
    "\n"
   ]
  }
 ],
 "metadata": {
  "kernelspec": {
   "display_name": "Python 2",
   "language": "python",
   "name": "python2"
  },
  "language_info": {
   "codemirror_mode": {
    "name": "ipython",
    "version": 2
   },
   "file_extension": ".py",
   "mimetype": "text/x-python",
   "name": "python",
   "nbconvert_exporter": "python",
   "pygments_lexer": "ipython2",
   "version": "2.7.11"
  }
 },
 "nbformat": 4,
 "nbformat_minor": 0
}
