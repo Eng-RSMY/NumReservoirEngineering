{
 "cells": [
  {
   "cell_type": "markdown",
   "metadata": {},
   "source": [
    "# Heterogeneities\n",
    "\n",
    "In this notebook, we will investigate the effect of inhomogeneous parameter distributions and the appropriate numerical implementation. We will first start with a simple 1-D example and compare it to an analytical solution before implementing a more complex 2-D case."
   ]
  },
  {
   "cell_type": "code",
   "execution_count": 5,
   "metadata": {
    "collapsed": false
   },
   "outputs": [],
   "source": [
    "#from IPython.core.display import HTML\n",
    "#css_file = 'nre2_style.css'\n",
    "#HTML(open(css_file, \"r\").read())"
   ]
  },
  {
   "cell_type": "code",
   "execution_count": 6,
   "metadata": {
    "collapsed": true
   },
   "outputs": [],
   "source": [
    "import numpy as np\n",
    "import matplotlib.pyplot as plt\n",
    "import sys\n",
    "plt.rcParams['figure.figsize'] = [10., 7.]\n",
    "plt.rcParams['font.size'] = 16"
   ]
  },
  {
   "cell_type": "code",
   "execution_count": 7,
   "metadata": {
    "collapsed": true
   },
   "outputs": [],
   "source": [
    "%matplotlib inline"
   ]
  },
  {
   "cell_type": "markdown",
   "metadata": {},
   "source": [
    "## A simple 1-D scenario\n",
    "\n",
    "Consider first a simple steady-state 1-D scenario with three different material domains. This example could represent the temperature field along a vertical profile in the Earth for a purely conductive case, or the steady-state hydraulic head along a \"1-D\"-like profile of groundwater flow through different materials.\n",
    "\n",
    "Recall that the differential equation for the inhomogeneous 1-D case is:\n",
    "\n",
    "$$\\frac{\\partial}{\\partial x}\\left[ K_x \\frac{\\partial u}{\\partial x}  \\right] = 0$$\n",
    "\n",
    "We also discussed the FD-discretisation of this differential equation which leads us to equations of the form:\n",
    "\n",
    "$$\\frac{K_{x,i+\\frac{1}{2}} \\left( u_{i+1} - u_i \\right) - K_{x,i-\\frac{1}{2}} \\left( u_{i} - u_{i-1} \\right)}{\\Delta x^2}= 0 $$\n",
    "\n",
    "We will use an iterative method to solve this problem. So, a first step is for you to derive the iterative equation.\n",
    "\n",
    "**Your task**: Solve the previous equation for $u_i$:\n",
    "\n",
    "$$u_i = \\frac{K_{x,i+\\frac{1}{2}} u_{i+1} + K_{x,i-\\frac{1}{2}} u_{i-1}}{K_{x,i+\\frac{1}{2}} + K_{x,i-\\frac{1}{2}}}   $$\n",
    "\n",
    "With this equation, all you need to do is to re-write your previous program in a form that can now consider the different conductivities. The simplest possibility is to write an explicit loop (e.g. in the form of a Gauss-Seidel method), but it is also possible to write the algorithm in a vectorised form (a little bit more complicated, but the elegant and efficient way). \n",
    "\n",
    "**Your task**: re-write your code to consider heterogeneities (stored in an array):"
   ]
  },
  {
   "cell_type": "code",
   "execution_count": 8,
   "metadata": {
    "collapsed": false
   },
   "outputs": [
    {
     "name": "stdout",
     "output_type": "stream",
     "text": [
      "[  3.19226525e-316   3.19227355e-316   3.19231505e-316   3.19232059e-316\n",
      "   3.19232335e-316   3.19232612e-316   3.19232889e-316   3.19227632e-316\n",
      "   3.19233165e-316   3.19233442e-316]\n",
      "[  3.10353770e+169   4.77093667e+180   1.67494803e+243   3.68777421e+180\n",
      "   2.02690346e+267   4.95263388e+223   8.75004334e+183   6.01099966e+175\n",
      "   2.13762514e-259   2.16194265e-313]\n"
     ]
    }
   ],
   "source": [
    "# your code here:\n",
    "\n",
    "# for example, we now need an array for u and for K:\n",
    "n=10\n",
    "u = np.empty(n)\n",
    "K = np.empty(n)\n",
    "\n",
    "print u\n",
    "print K"
   ]
  },
  {
   "cell_type": "markdown",
   "metadata": {},
   "source": [
    "Finally, apply your code to solve the following problem: consider a 1-D domain with an extent and discretisation of\n",
    "\n",
    "$$L = 300 m, \\Delta x = 10 m$$ \n",
    "\n",
    "The domain is separated into three equal parts with conductivities:\n",
    "\n",
    "$$K_1 = 2.0, K_2 = 6.0, K_3 = 2.0$$\n",
    "\n",
    "Finally, we will model the system with Dirichlet boundary conditions of\n",
    "\n",
    "$$b_0 = 10, b_1 = 20$$\n",
    "\n",
    "**Your task**: Solve this problem!"
   ]
  },
  {
   "cell_type": "code",
   "execution_count": 9,
   "metadata": {
    "collapsed": false
   },
   "outputs": [],
   "source": [
    "# Your code here:\n",
    "n = 10\n",
    "L = 300\n",
    "dx = n\n",
    "K_1 = 2\n",
    "K_2 = 6\n",
    "K_3 = 2\n",
    "b0 = 10\n",
    "b1 = 20\n",
    "max_iter = 10000\n",
    "epsilon_tol = 0.000001\n"
   ]
  },
  {
   "cell_type": "code",
   "execution_count": 10,
   "metadata": {
    "collapsed": false
   },
   "outputs": [
    {
     "name": "stdout",
     "output_type": "stream",
     "text": [
      "[  2.00000000e+000   2.00000000e+000   2.00000000e+000   2.00000000e+000\n",
      "   2.00000000e+000   2.00000000e+000   8.75004334e+183   6.01099966e+175\n",
      "   2.13762514e-259   2.16194265e-313]\n"
     ]
    }
   ],
   "source": [
    "sp1 = n/3\n",
    "sp2 = 2*n/3\n",
    "K[:sp1] = K_1\n",
    "K[sp1:sp2] = K_2\n",
    "K[:sp2] = K_3\n",
    "print K"
   ]
  },
  {
   "cell_type": "code",
   "execution_count": 11,
   "metadata": {
    "collapsed": false
   },
   "outputs": [],
   "source": [
    "# First step as before: define the function for a single iteration:\n",
    "\n",
    "def gauss_seidel_iter_inhomo(u, q, dx, K):\n",
    "    \"\"\"Function to perform the Gauss-Seidel iteration for all values in the array u\n",
    "    \n",
    "    u = 1-D np.array with values of previous iteration\n",
    "    q = 1-D np.array with source/sink terms (not required for Laplace solution!)\n",
    "    dx = float : node spacing (not required for Laplace solution!)\n",
    "    K = array of conductivities\n",
    "    \"\"\"\n",
    "    \n",
    "    # your code here\n",
    "    \n",
    "    # Note: copy of u not required (as we operate always on updated array!)\n",
    "    \n",
    "    for i in range(1,len(u)-1):   \n",
    "     \n",
    "        K_m = 2 * (K[i-1] * K[i]) / (K[i-1] + K[i])\n",
    "        K_p = 2 * (K[i+1] * K[i]) / (K[i+1] + K[i])\n",
    "        u[i] = (K_p*u[i+1] + K_m*u[i-1]) / (K_p + K_m)\n",
    "        \n",
    "    return u\n",
    "   \n",
    "    "
   ]
  },
  {
   "cell_type": "code",
   "execution_count": 17,
   "metadata": {
    "collapsed": false
   },
   "outputs": [],
   "source": [
    "# Second step as before: write the loop to perform iterations until convergence is met:\n",
    "def solve_gs_inhomo(b0,b1,dx,max_iter,epsilon_tol):\n",
    "    # initialize u with all ones\n",
    "    n = 300\n",
    "    L = 300\n",
    "    dx = L/n\n",
    "    K_1 = 2\n",
    "    K_2 = 6\n",
    "    K_3 = 2\n",
    "    b0 = 10\n",
    "    b1 = 20\n",
    "    max_iter = 10000\n",
    "    epsilon_tol = 0.000001\n",
    "    u = np.empty((n))\n",
    "    K = np.empty((n))\n",
    "    # Set boundary conditions b0 and b1 at beginning and end of u\n",
    "    u[0] = b0\n",
    "    u[-1] = b1\n",
    "    \n",
    "    # set parameters\n",
    "    sp1 = n/3\n",
    "    sp2 = 2*n/3\n",
    "    K[:sp1] = K_1\n",
    "    K[sp1:sp2] = K_2\n",
    "    K[:sp2] = K_3\n",
    "   \n",
    "    # no sources / sinks, so set q to 0\n",
    "    q = np.zeros(dx)\n",
    "    \n",
    "        \n",
    "    # do a for loop for jacobi iterations\n",
    "    for iter in range(max_iter):\n",
    "\n",
    "        u_previous = u.copy()\n",
    "        u_current = gauss_seidel_iter_inhomo(u, q, dx, K)\n",
    "        epsilon = np.sqrt(np.sum((u - u_previous)**2))\n",
    "        if epsilon < epsilon_tol:\n",
    "            break\n",
    "        \n",
    "    return u, iter\n"
   ]
  },
  {
   "cell_type": "markdown",
   "metadata": {},
   "source": [
    "Now, create a plot of the results:"
   ]
  },
  {
   "cell_type": "code",
   "execution_count": 19,
   "metadata": {
    "collapsed": false
   },
   "outputs": [
    {
     "name": "stdout",
     "output_type": "stream",
     "text": [
      "[ 10.  nan  nan  nan  nan  nan  nan  nan  nan  nan  nan  nan  nan  nan  nan\n",
      "  nan  nan  nan  nan  nan  nan  nan  nan  nan  nan  nan  nan  nan  nan  nan\n",
      "  nan  nan  nan  nan  nan  nan  nan  nan  nan  nan  nan  nan  nan  nan  nan\n",
      "  nan  nan  nan  nan  nan  nan  nan  nan  nan  nan  nan  nan  nan  nan  nan\n",
      "  nan  nan  nan  nan  nan  nan  nan  nan  nan  nan  nan  nan  nan  nan  nan\n",
      "  nan  nan  nan  nan  nan  nan  nan  nan  nan  nan  nan  nan  nan  nan  nan\n",
      "  nan  nan  nan  nan  nan  nan  nan  nan  nan  nan  nan  nan  nan  nan  nan\n",
      "  nan  nan  nan  nan  nan  nan  nan  nan  nan  nan  nan  nan  nan  nan  nan\n",
      "  nan  nan  nan  nan  nan  nan  nan  nan  nan  nan  nan  nan  nan  nan  nan\n",
      "  nan  nan  nan  nan  nan  nan  nan  nan  nan  nan  nan  nan  nan  nan  nan\n",
      "  nan  nan  nan  nan  nan  nan  nan  nan  nan  nan  nan  nan  nan  nan  nan\n",
      "  nan  nan  nan  nan  nan  nan  nan  nan  nan  nan  nan  nan  nan  nan  nan\n",
      "  nan  nan  nan  nan  nan  nan  nan  nan  nan  nan  nan  nan  nan  nan  nan\n",
      "  nan  nan  nan  nan  nan  nan  nan  nan  nan  nan  nan  nan  nan  nan  nan\n",
      "  nan  nan  nan  nan  nan  nan  nan  nan  nan  nan  nan  nan  nan  nan  nan\n",
      "  nan  nan  nan  nan  nan  nan  nan  nan  nan  nan  nan  nan  nan  nan  nan\n",
      "  nan  nan  nan  nan  nan  nan  nan  nan  nan  nan  nan  nan  nan  nan  nan\n",
      "  nan  nan  nan  nan  nan  nan  nan  nan  nan  nan  nan  nan  nan  nan  nan\n",
      "  nan  nan  nan  nan  nan  nan  nan  nan  nan  nan  nan  nan  nan  nan  nan\n",
      "  nan  nan  nan  nan  nan  nan  nan  nan  nan  nan  nan  nan  nan  nan  20.]\n"
     ]
    },
    {
     "data": {
      "text/plain": [
       "[<matplotlib.lines.Line2D at 0xb0ba0f0>]"
      ]
     },
     "execution_count": 19,
     "metadata": {},
     "output_type": "execute_result"
    },
    {
     "data": {
      "image/png": "[encoded data removed]",
      "text/plain": [
       "<matplotlib.figure.Figure at 0xa8fa7f0>"
      ]
     },
     "metadata": {},
     "output_type": "display_data"
    }
   ],
   "source": [
    "# Your code here:\n",
    "\n",
    "u, iter = solve_gs_inhomo(b0,b1,dx,max_iter,epsilon_tol)\n",
    "print u\n",
    "\n",
    "plt.plot(u)"
   ]
  },
  {
   "cell_type": "markdown",
   "metadata": {},
   "source": [
    "## Compare to analytical solution\n",
    "\n",
    "Compare your numerical result now to the analytical solution for this problem.\n",
    "\n",
    "Hint:\n",
    "\n",
    "1. Consider flux equations in three \"domains\"\n",
    "2. Recall overall balance and apply to flux equations\n",
    "3. Set up system of equations and solve\n",
    "\n",
    "To simplify the derivation of these equations, assume that the domain size is equal (as in the example above: three equally partitioned domains).\n",
    "\n",
    "**Your task**: derive the analytical solution for the problem described above and compare your numerical result to it (for example in a plot):"
   ]
  },
  {
   "cell_type": "code",
   "execution_count": 14,
   "metadata": {
    "collapsed": true
   },
   "outputs": [],
   "source": [
    "# Your code here:\n"
   ]
  },
  {
   "cell_type": "markdown",
   "metadata": {},
   "source": [
    "What do you observe? In the case of a mismatch: what is a likely explanation and how could you fix it?"
   ]
  },
  {
   "cell_type": "markdown",
   "metadata": {},
   "source": [
    "## Extension to 2-D\n",
    "\n",
    "Extend your implementation now to a 2-D problem. You can use the same problem dimension and settings as in assignment 3, and add a region with a different conductivity into the central part of the domain (e.g. from 40 to 60 in x-direction, and from 25 to 35 in y-direction, if you consider the problem of assignment 3).\n",
    "\n",
    "**Your task**: extend your previous code to enable the calculation with inhomoegenous fields :"
   ]
  },
  {
   "cell_type": "code",
   "execution_count": 15,
   "metadata": {
    "collapsed": true
   },
   "outputs": [],
   "source": [
    "# Your code here:\n",
    "\n"
   ]
  },
  {
   "cell_type": "markdown",
   "metadata": {},
   "source": [
    "Finally, a good way to represent flows in 2-D (or 3-D) is to use vector plots to represent the flux vectors. The issue now is, of course, how these vectors can be calculated, as they are not directly a part of the solution (they are so-called \"derived quantities\" in this sense). \n",
    "\n",
    "One possibility to obtain an estimate of the flux vector at each node point is to take the  average of fluxes over the boundaries in each axis direction. So, for example, to determine the flux component at location $i$ in x-direction, we can approximate:\n",
    "\n",
    "$$q_{x,i} = \\frac{1}{2} \\left(q_{x, i+\\frac{1}{2}} + q_{x, i-\\frac{1}{2}} \\right)$$\n",
    "\n",
    "and the flux components over the boundaries are, for example:\n",
    "\n",
    "$$ q_{x, i+\\frac{1}{2}} = - K_{x, i+\\frac{1}{2}} \\frac{u_{i+1} - u_{i}}{\\Delta x} $$\n",
    "\n",
    "For the representation of the vector field, you can use the matplotlib function:\n",
    "\n",
    "`plt.quiver`\n",
    "\n",
    "**Your task**: write a function to estimate the flux vectors from your previous solution and plot the vector field for the inhomogeneous domain:"
   ]
  },
  {
   "cell_type": "code",
   "execution_count": 16,
   "metadata": {
    "collapsed": true
   },
   "outputs": [],
   "source": [
    "# your code here:\n",
    "\n"
   ]
  }
 ],
 "metadata": {
  "kernelspec": {
   "display_name": "Python 2",
   "language": "python",
   "name": "python2"
  },
  "language_info": {
   "codemirror_mode": {
    "name": "ipython",
    "version": 2
   },
   "file_extension": ".py",
   "mimetype": "text/x-python",
   "name": "python",
   "nbconvert_exporter": "python",
   "pygments_lexer": "ipython2",
   "version": "2.7.11"
  }
 },
 "nbformat": 4,
 "nbformat_minor": 0
}
