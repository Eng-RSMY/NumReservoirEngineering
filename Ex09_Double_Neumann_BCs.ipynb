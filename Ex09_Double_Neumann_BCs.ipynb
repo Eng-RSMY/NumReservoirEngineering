{
 "cells": [
  {
   "cell_type": "markdown",
   "metadata": {},
   "source": [
    "## Double Neumann boundary conditions\n",
    "\n",
    "We will now briefy investigate the effect of Neumann boundary conditions on both sides. Initially, this may be thought of as a typical problem: consider the case of heat flux through a body, where heat flux in and out of the body are given.\n",
    "\n",
    "However, although it is clear that this is a physically reasonable problem formulation, solving this system leads to problems. We will start with investigating it using iterative methods."
   ]
  },
  {
   "cell_type": "code",
   "execution_count": 3,
   "metadata": {
    "collapsed": false
   },
   "outputs": [],
   "source": [
    "#from IPython.core.display import HTML\n",
    "#css_file = 'nre2_style.css'\n",
    "#HTML(open(css_file, \"r\").read())"
   ]
  },
  {
   "cell_type": "code",
   "execution_count": 4,
   "metadata": {
    "collapsed": true
   },
   "outputs": [],
   "source": [
    "%matplotlib inline"
   ]
  },
  {
   "cell_type": "code",
   "execution_count": 5,
   "metadata": {
    "collapsed": true
   },
   "outputs": [],
   "source": [
    "import matplotlib.pyplot as plt\n",
    "import numpy as np"
   ]
  },
  {
   "cell_type": "markdown",
   "metadata": {},
   "source": [
    "## Pure Neumann BC's with iterative solver\n",
    "\n",
    "We will use a Gauss-Seidel iterative method to solve the problem. You should have written this function before, so simply cut-and-paste here:"
   ]
  },
  {
   "cell_type": "code",
   "execution_count": 6,
   "metadata": {
    "collapsed": true
   },
   "outputs": [],
   "source": [
    "# YOUR CODE HERE: \n",
    "# define the function for a single iteration of the Gauss-Seidel algorithm:\n",
    "def gauss_seidel_iter(u, q, dx,k):\n",
    "     \n",
    "        \n",
    "    for i in range(1,dx-1):\n",
    "        u[i] = 0.5 * (u[i-1] + u[i+1] - (dx**2 * q[i]))\n",
    "    return u\n",
    "  "
   ]
  },
  {
   "cell_type": "markdown",
   "metadata": {},
   "source": [
    "In the iteration loop, you now need to adjust your previous code to consider two Neumann Boundary conditions. As a first step, we will use the same flux $q = 0.1$ and a conductivity value of $k = 0.9$ on both sides. However, check the sign to make sure fluxes are oriented in the correct direction:"
   ]
  },
  {
   "cell_type": "code",
   "execution_count": 10,
   "metadata": {
    "collapsed": false
   },
   "outputs": [
    {
     "name": "stdout",
     "output_type": "stream",
     "text": [
      "[  0.9  15.   15.   15.   15.   15.   15.   15.   15.    0.9]\n"
     ]
    }
   ],
   "source": [
    "# Set number of nodes:\n",
    "n = 10\n",
    "\n",
    "# initialise array:  \n",
    "u = np.ones(n)*15 \n",
    "\n",
    "## YOUR CODE HERE:\n",
    "\n",
    "# Parameters\n",
    "q = 0.1*np.ones(n)\n",
    "k = 0.9 \n",
    "dx = 1/n\n",
    "\n",
    "\n",
    "# Set BC on the array u\n",
    "u[0] = k\n",
    "u[-1] = k\n",
    "\n",
    "for i in range(1,n):\n",
    "\n",
    "        # perform iteration\n",
    "        u_current = gauss_seidel_iter(u, q, dx,k)\n",
    "\n",
    "print u_current\n",
    "\n"
   ]
  },
  {
   "cell_type": "markdown",
   "metadata": {},
   "source": [
    "Create a plot to visualise the results:"
   ]
  },
  {
   "cell_type": "code",
   "execution_count": 208,
   "metadata": {
    "collapsed": false
   },
   "outputs": [
    {
     "data": {
      "image/png": "[encoded data removed]",
      "text/plain": [
       "<matplotlib.figure.Figure at 0xc5f3358>"
      ]
     },
     "metadata": {},
     "output_type": "display_data"
    }
   ],
   "source": [
    "# YOUR CODE HERE: plot the results\n",
    "\n",
    "plt.plot(u_current)\n",
    "plt.title('Heat flux through a body, with Neumann BC')\n",
    "plt.xlabel(\"Distance x\")\n",
    "plt.ylabel(\"Temperature\")\n",
    "plt.grid() \n",
    "\n"
   ]
  },
  {
   "cell_type": "markdown",
   "metadata": {},
   "source": [
    "Does the solution make sense?\n",
    "\n",
    "*Hint*: if you did everything correctly, you should obtain a straight line with a gradient according to the defined boundary conditions  - so: what's the problem?\n",
    "\n",
    "As a first step, we will investigate what happens when we change the initial values in the iterative solution routine:\n"
   ]
  },
  {
   "cell_type": "code",
   "execution_count": 209,
   "metadata": {
    "collapsed": false
   },
   "outputs": [
    {
     "name": "stdout",
     "output_type": "stream",
     "text": [
      "[ 0.   0.9  0.9  0.9  0.9  0.9  0.9  0.9  0.9  0.9]\n",
      "[  0.   15.   15.   15.   15.   15.   15.   15.   15.    0.9]\n"
     ]
    }
   ],
   "source": [
    "## YOUR CODE HERE:\n",
    "# Same as before, but use differnet initial values for u-array (say, u_init = 0)\n",
    "u_init = 0\n",
    "\n",
    "\n",
    "\n",
    "# initialise array:  \n",
    "u = np.ones(n)*15 \n",
    "\n",
    "# Parameters\n",
    "n = 10\n",
    "q = 0.1*np.ones(n)\n",
    "k = 0.9 \n",
    "dx = 1/n\n",
    "\n",
    "\n",
    "# Set BC on the array u\n",
    "u[0] = u_init\n",
    "u[-1] = k\n",
    "\n",
    "\n",
    "# store previous results for comparison:\n",
    "u_init_1 = u.copy()\n",
    "\n",
    "for i in range(1,n-1):\n",
    "\n",
    "        # perform iteration\n",
    "        u_current = gauss_seidel_iter(u, q, dx,k)\n",
    "\n",
    "print u_current\n",
    "print u_init_1"
   ]
  },
  {
   "cell_type": "markdown",
   "metadata": {},
   "source": [
    "Create a plot of the results, ideally in comparison to the previous solution:"
   ]
  },
  {
   "cell_type": "code",
   "execution_count": 210,
   "metadata": {
    "collapsed": false
   },
   "outputs": [
    {
     "data": {
      "image/png": "[encoded data removed]",
      "text/plain": [
       "<matplotlib.figure.Figure at 0xc1fc7f0>"
      ]
     },
     "metadata": {},
     "output_type": "display_data"
    }
   ],
   "source": [
    "# YOUR CODE HERE: plot the results\n",
    "\n",
    "plt.plot(u_current)\n",
    "plt.plot(u_init_1)\n",
    "plt.title('Heat flux through a body, with Neumann BC')\n",
    "plt.xlabel(\"Distance x\")\n",
    "plt.ylabel(\"Temperature\")\n",
    "plt.grid() \n"
   ]
  },
  {
   "cell_type": "markdown",
   "metadata": {},
   "source": [
    "The problem should be obvious: depending on the initial value that we use in our iteration routine, we obtain a different result! Clearly not what we want: recall that the initial value is purely a computational construct (to start the iteration procedure) and has *no* physical meaning! Therefore: a different initial value should produce exactly the same result! But in this case, we obtain unlimited potential results, depending on the initial values!\n",
    "\n",
    "To investigate this behaviour a bit more, let's see what happens when we apply *different* flux terms on both sides:"
   ]
  },
  {
   "cell_type": "code",
   "execution_count": 215,
   "metadata": {
    "collapsed": false,
    "scrolled": true
   },
   "outputs": [
    {
     "name": "stdout",
     "output_type": "stream",
     "text": [
      "[ 0.9  0.9  0.9  0.9  0.9  0.9  0.9  0.9  0.9  0.9]\n"
     ]
    }
   ],
   "source": [
    "## YOUR CODE HERE: as before, but different flux values on both sides:\n",
    "\n",
    "# Set number of nodes:\n",
    "n = 10\n",
    "\n",
    "# initialise array:  \n",
    "u = np.ones(n)*15 \n",
    "\n",
    "## YOUR CODE HERE:\n",
    "\n",
    "# Parameters\n",
    "q = 0.1*np.ones(n)\n",
    "k = 0.9 \n",
    "dx = 1/n\n",
    "\n",
    "\n",
    "# Set BC on the array u\n",
    "u[0] = k\n",
    "u[-1] = k\n",
    "\n",
    "for i in range(1,n-1):\n",
    "\n",
    "        # perform iteration\n",
    "        u_current = gauss_seidel_iter(u, q, dx,k)\n",
    "\n",
    "print u_current\n",
    "\n"
   ]
  },
  {
   "cell_type": "markdown",
   "metadata": {},
   "source": [
    "Again, create a plot of the results:"
   ]
  },
  {
   "cell_type": "code",
   "execution_count": 216,
   "metadata": {
    "collapsed": false
   },
   "outputs": [
    {
     "data": {
      "image/png": "[encoded data removed]",
      "text/plain": [
       "<matplotlib.figure.Figure at 0xc433630>"
      ]
     },
     "metadata": {},
     "output_type": "display_data"
    }
   ],
   "source": [
    "# YOUR CODE HERE: plot the results\n",
    "\n",
    "plt.plot(u_current)\n",
    "plt.title('Heat flux through a body, with Neumann BC')\n",
    "plt.xlabel(\"Distance x\")\n",
    "plt.ylabel(\"Temperature\")\n",
    "plt.grid() \n",
    "\n"
   ]
  },
  {
   "cell_type": "markdown",
   "metadata": {},
   "source": [
    "We obtain a curved line - so this *could* make sense: the procedure tries to match fluxes on both sides. However, recall that we investigate this system:\n",
    "\n",
    "$$\\frac{d^2 u}{dx^2} = 0$$\n",
    "\n",
    "So, a curved line is clearly not an admissible solution! Also, if you check the number of required iterations, you will see that you simply break after the maximum number of iterations is reached. Plus, the obtained values don't make any sense anymore. Clearly not possible."
   ]
  },
  {
   "cell_type": "markdown",
   "metadata": {},
   "source": [
    "## Pure Neumann BC's with matrix inversion method"
   ]
  },
  {
   "cell_type": "markdown",
   "metadata": {},
   "source": [
    "Let's now see what happens when we try to solve the problem with a direct method where we don't require initial values - maybe it works out, then?\n",
    "\n",
    "Recall the matrix equation when considering Neumann boundary conditions, it is now:\n",
    "\n",
    "$A = \\begin{bmatrix}\n",
    "-2 & \\color{red}{2} & 0 & 0 & \\cdots & 0\\\\\n",
    "1 & -2 & 1 &  0 & \\cdots & 0\\\\\n",
    "0 & 1 & -2 & 1 & \\cdots & 0\\\\\n",
    "\\vdots & & & & & \\vdots \\\\\n",
    "0 & \\cdots & 0 & 1 & -2 & 1 \\\\\n",
    "0 & \\cdots & 0 & 0 & \\color{red}{2} & -2\n",
    "\\end{bmatrix}$\n",
    "\n",
    "So, we only change two entries in this matrix. The system of algebraic equations that we want to solve is, as before:\n",
    "\n",
    "$$A u = b$$ \n",
    "\n",
    "Let's see what happens when we try to invert this matrix:"
   ]
  },
  {
   "cell_type": "code",
   "execution_count": 9,
   "metadata": {
    "collapsed": false
   },
   "outputs": [
    {
     "name": "stdout",
     "output_type": "stream",
     "text": [
      "[[-2.  1.  0.  0.  0.  0.  0.  0.  0.  0.]\n",
      " [ 1. -2.  1.  0.  0.  0.  0.  0.  0.  0.]\n",
      " [ 0.  1. -2.  1.  0.  0.  0.  0.  0.  0.]\n",
      " [ 0.  0.  1. -2.  1.  0.  0.  0.  0.  0.]\n",
      " [ 0.  0.  0.  1. -2.  1.  0.  0.  0.  0.]\n",
      " [ 0.  0.  0.  0.  1. -2.  1.  0.  0.  0.]\n",
      " [ 0.  0.  0.  0.  0.  1. -2.  1.  0.  0.]\n",
      " [ 0.  0.  0.  0.  0.  0.  1. -2.  1.  0.]\n",
      " [ 0.  0.  0.  0.  0.  0.  0.  1. -2.  1.]\n",
      " [ 0.  0.  0.  0.  0.  0.  0.  0.  1. -2.]]\n"
     ]
    }
   ],
   "source": [
    "# YOUR CODE HERE:\n",
    "\n",
    "def tridiag_121(n):\n",
    "    \"\"\"\n",
    "    Create a tridiagonal matrix of 1 -2 1 form of size n x n\n",
    "    \"\"\"\n",
    "    # YOUR CODE HERE\n",
    "    A = np.zeros(shape=(n,n))\n",
    "    i,j = np.indices(A.shape)\n",
    "    A[i==j] = -2.\n",
    "    A[i==j-1] = 1.\n",
    "    A[i==j+1] = 1.\n",
    "    return  A\n",
    "\n",
    "\n",
    "A = tridiag_121(10)\n",
    "\n",
    "\n",
    "A\n"
   ]
  },
  {
   "cell_type": "markdown",
   "metadata": {},
   "source": [
    "You should now get an error that nicely enapsulates the entire problem: *we obtain a singular matrix*, and this matrix can not be inverted!\n",
    "\n",
    "This is an interesting example of how a physically unreasonable problem (the system is underdetermined with two flux boundary conditions) translates into a mathematical problem that can not be solved!\n",
    "\n",
    "Of course, we can easily see the problem from the matrix determinant, as well:"
   ]
  },
  {
   "cell_type": "code",
   "execution_count": null,
   "metadata": {
    "collapsed": false
   },
   "outputs": [],
   "source": [
    "np.linalg.det(A)"
   ]
  },
  {
   "cell_type": "markdown",
   "metadata": {},
   "source": [
    "The determinant is zero, the matrix singular - and therefore not invertible. \n",
    "\n",
    "Try now what happens when you change the values from 2 to something very close (say, 1.9999). The determinant will not be zero anymore and the matrix is invertible. But what happens?"
   ]
  },
  {
   "cell_type": "code",
   "execution_count": null,
   "metadata": {
    "collapsed": true
   },
   "outputs": [],
   "source": [
    "# YOUR CODE HERE:\n"
   ]
  },
  {
   "cell_type": "markdown",
   "metadata": {},
   "source": [
    "The matrix inversion should now be successful - but what does the result look like?"
   ]
  },
  {
   "cell_type": "code",
   "execution_count": null,
   "metadata": {
    "collapsed": false
   },
   "outputs": [],
   "source": [
    "# YOUR CODE HERE: plot the results\n",
    "\n"
   ]
  },
  {
   "cell_type": "markdown",
   "metadata": {},
   "source": [
    "We now obtain a solution, but what about the values? Investigate this system a bit more by checking the matrix condition number:"
   ]
  },
  {
   "cell_type": "code",
   "execution_count": null,
   "metadata": {
    "collapsed": false
   },
   "outputs": [],
   "source": [
    "np.linalg.cond(A)"
   ]
  },
  {
   "cell_type": "markdown",
   "metadata": {},
   "source": [
    "The matrix condition number is very high, and this means that the matrix is highly sensitive to small errors! Note that the matrix condition number is a property of the matrix itself and not (even) related to numerical round-off errors! Matrix inversions with high condition numbers are extermely unreliable and the result therefore bascially useless.\n",
    "\n",
    "This short side-track was a small inverstigation on how a system that is so incredibly simple (soving the 1-D Laplace equation) can lead to interesting problems - but also insights into sensitivities to initial conditions and to matrix inversions."
   ]
  },
  {
   "cell_type": "markdown",
   "metadata": {
    "collapsed": true
   },
   "source": [
    "## Fixing the Neumann BC problem\n",
    "\n",
    "What can we do if we still want to apply two Flux boundary conditions? As we saw before, we obtain bascially an infinte set of parallel lines as solution. But if we define a single value, then we should obtain a single result!\n",
    "\n",
    "So, we can simply add a method to fix the value at a point. Note: we can now not anymore use the direct Matrix inversion approach of before (*why*?). However, as one option, we can simply extend an iterative solver!\n",
    "\n",
    "Have a go here and see if you can get a meaningful result:"
   ]
  },
  {
   "cell_type": "code",
   "execution_count": null,
   "metadata": {
    "collapsed": false
   },
   "outputs": [],
   "source": [
    "## YOUR CODE HERE:\n",
    "\n"
   ]
  },
  {
   "cell_type": "code",
   "execution_count": null,
   "metadata": {
    "collapsed": false
   },
   "outputs": [],
   "source": [
    "# YOUR CODE HERE: plot the results\n",
    "\n"
   ]
  },
  {
   "cell_type": "markdown",
   "metadata": {},
   "source": [
    "You should now obtain a stable solution that is independent of the initial values in the $u$ array!\n",
    "\n",
    "Of course, in this simple 1-D case, this is a somewhat oversimplified (and overconstrained) because it is only a 1-D problem. However, the extension to more complex problems is logical and this type of problem can well occur in many practical circumstances!"
   ]
  },
  {
   "cell_type": "code",
   "execution_count": null,
   "metadata": {
    "collapsed": true
   },
   "outputs": [],
   "source": []
  }
 ],
 "metadata": {
  "kernelspec": {
   "display_name": "Python 2",
   "language": "python",
   "name": "python2"
  },
  "language_info": {
   "codemirror_mode": {
    "name": "ipython",
    "version": 2
   },
   "file_extension": ".py",
   "mimetype": "text/x-python",
   "name": "python",
   "nbconvert_exporter": "python",
   "pygments_lexer": "ipython2",
   "version": "2.7.11"
  }
 },
 "nbformat": 4,
 "nbformat_minor": 0
}
