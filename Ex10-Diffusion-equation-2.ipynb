{
 "cells": [
  {
   "cell_type": "markdown",
   "metadata": {},
   "source": [
    "# Exercise 10: Diffusion problems\n",
    "\n",
    "Up to now, we were concerned with steady-state problems and solutions to the Laplace and Poisson equation. However, in subsurface reservoir problems, we are a lot more often concerned with the evaluation of properties that change with time! \n",
    "\n",
    "From now on, we will investigate several of these transient problems and investigate how (a) they relate to the problems we considered previously, and (b) present some new numerical challenges.\n",
    "\n",
    "Today, we will look at problems that can be described with a diffusion-type equation: \n",
    "\n",
    "$$\\frac{\\partial u}{\\partial t} = \\kappa \\frac{\\partial^2 u}{\\partial x^2}$$\n",
    "\n",
    "We will talk in the lecture about how diffusive systems generally behave over time. Typical examples of diffusive problems in the context of reservoir engineering are, for example, conductive heat transport:\n",
    "\n",
    "$$\\frac{\\partial T}{\\partial t} = \\kappa \\frac{\\partial^2 T}{\\partial x^2}$$\n",
    "\n",
    "where $\\kappa$ is thermal diffusivity, or groundwater flow in a confined aquifer:\n",
    "\n",
    "$$\\frac{\\partial h}{\\partial t} = \\frac{T}{S} \\frac{\\partial^2 h}{\\partial x^2}$$\n",
    "\n",
    "where $T$ is transmissivity, and $S$ the (depth-averaged) storativity.\n",
    "\n",
    "If we want to solve these equations numerically, we now have to find discretisations in time and space. We will look at several options to do that in this notebook."
   ]
  },
  {
   "cell_type": "code",
   "execution_count": 1,
   "metadata": {
    "collapsed": false
   },
   "outputs": [],
   "source": [
    "#from IPython.core.display import HTML\n",
    "#css_file = 'nre2_style.css'\n",
    "#HTML(open(css_file, \"r\").read())\n"
   ]
  },
  {
   "cell_type": "code",
   "execution_count": 2,
   "metadata": {
    "collapsed": false
   },
   "outputs": [],
   "source": [
    "import numpy as np\n",
    "import matplotlib.pyplot as plt\n",
    "import sys\n",
    "plt.rcParams['figure.figsize'] = [10., 7.]\n",
    "plt.rcParams['font.size'] = 16"
   ]
  },
  {
   "cell_type": "code",
   "execution_count": 3,
   "metadata": {
    "collapsed": false
   },
   "outputs": [],
   "source": [
    "%matplotlib inline"
   ]
  },
  {
   "cell_type": "markdown",
   "metadata": {},
   "source": [
    "## Explicit scheme to solve the diffusion equation"
   ]
  },
  {
   "cell_type": "markdown",
   "metadata": {},
   "source": [
    "We discussed in the lecture different schemes to solve the diffusion equation \n",
    "\n",
    "$$\\frac{\\partial u}{\\partial t} = \\kappa \\frac{\\partial^2 u}{\\partial x^2}$$\n",
    "\n",
    "with the finite difference method. The simplest - and most intuitive - way is to use a first-order Taylor expansion for the time derivative:\n",
    "\n",
    "$$\\frac{u_i^{k+1} - u_i^k}{\\Delta t} = \\kappa \\frac{u_{i-1}^k - 2 u_i^k + u_{i+1}^k}{\\Delta x^2} $$\n",
    "\n",
    "If we now separate the variables for a new time step $k+1$ and the current time step $k$, we obtain the simple explicit formulation for the 1-D diffusion equation:\n",
    "\n",
    "$$u_i^{k+1} = \\frac{\\kappa \\Delta t}{\\Delta x^2} \\left( u_{i-1}^k - 2 u_i^k + u_{i+1}^k \\right) + u_i^k$$\n",
    "\n",
    "For simplification, we substitute $\\frac{\\kappa \\Delta t}{\\Delta x^2} = \\beta$ and obtain:\n",
    "\n",
    "$$u_i^{k+1} = \\beta u_{i-1}^k + (1 - 2 \\beta) u_i^k + \\beta u_{i+1}^k $$\n",
    "\n",
    "As this equation provides a function for an update of one node value from all the known node values at the previous time step, we can define a simple python function to solve the diffusion problem.\n",
    "\n",
    "We now need an initial distribution of our property $u$ in the domain. Let's use a simple function for an initial distribution of our property:\n",
    "\n",
    "$$u(x, t=0) = u_{max} \\exp \\left[ - \\left( \\frac{x-0.5}{\\sigma} \\right)^2 \\right]$$\n",
    "\n",
    "Let's have a look at a diffusion problem in a domain with the following properties:\n",
    "\n",
    "Variable | Value  | Explanation\n",
    "------------- | -------------\n",
    "$L$  | 1. | Domain size\n",
    "$\\kappa$ | $10^{-6}$ | Diffusivity\n",
    "$dt$ | 25. | Time step\n",
    "$nt$ | 200 | Number of time steps\n",
    "$nx$ | 100 | Number of cells\n",
    "$u_{max}$ | 10. | Maximum value of initial perturbance\n",
    "$\\sigma$ | 0.05 | Half-width of initial perturbance\n",
    "\n",
    "Write a code to solve this problem and create a plot with the initial and final distribution of the property:"
   ]
  },
  {
   "cell_type": "code",
   "execution_count": 4,
   "metadata": {
    "collapsed": false
   },
   "outputs": [
    {
     "data": {
      "text/plain": [
       "<matplotlib.text.Text at 0xa78dc50>"
      ]
     },
     "execution_count": 4,
     "metadata": {},
     "output_type": "execute_result"
    },
    {
     "data": {
      "image/png": "[encoded data removed]",
      "text/plain": [
       "<matplotlib.figure.Figure at 0x3d510f0>"
      ]
     },
     "metadata": {},
     "output_type": "display_data"
    }
   ],
   "source": [
    "# your code here:\n",
    "xvals = np.linspace(0,1,100)\n",
    "plt.plot(xvals, 10. * np.exp(-((xvals - 0.5)/0.05)**2))\n",
    "plt.xlabel('x')\n",
    "plt.ylabel('u')\n",
    "plt.title(\"initial value\")"
   ]
  },
  {
   "cell_type": "markdown",
   "metadata": {},
   "source": [
    "## Explicit equation in matrix form\n",
    "\n",
    "The explicit solution of the equation is easily possible with a simple loop scheme that we have seen above. However, in order to show you the similarities to the types of problems we solved before, we will now have a look at another representation of the equation. This will also lay the groundwork for the subsequent, more complex, schemes.\n",
    "\n",
    "We start with the equation that we solved before:\n",
    "\n",
    "$$u_i^{k+1} = \\beta u_{i-1}^k + (1 - 2 \\beta) u_i^k + \\beta u_{i+1}^k $$\n",
    "\n",
    "If you look at the equation on the right hand side and think about the solutions to the Laplace and Poisson problems that we analysed before, you will see a similarity: we can write it in matrix form and obtain a tridiagonal matrix, again!\n",
    "\n",
    "We define: \n",
    "\n",
    "$$A = \\begin{bmatrix}\n",
    "1 - 2\\beta & \\beta & 0 & 0 & \\cdots & 0\\\\\n",
    "\\beta & 1 - 2\\beta  &  \\beta &  0 & \\cdots & 0\\\\\n",
    "0 &  \\beta & 1 - 2\\beta  &  \\beta & \\cdots & 0\\\\\n",
    "\\vdots & & &  \\ddots & & \\vdots \\\\\n",
    "0 & \\cdots & 0 &  \\beta & 1 - 2\\beta  &  \\beta \\\\\n",
    "0 & \\cdots & 0 & 0 &  \\beta & 1 - 2\\beta \n",
    "\\end{bmatrix}$$\n",
    "\n",
    "And writing the variables $u$ in a column vector,\n",
    "\n",
    "$$u^k = \\begin{bmatrix}\n",
    "u_1^k\\\\\n",
    "u_2^k\\\\\n",
    "u_3^k\\\\\n",
    "\\vdots\\\\\n",
    "u_{i-1}^k\\\\\n",
    "u_i^k\n",
    "\\end{bmatrix}$$\n",
    "\n",
    "We can write the equation in matrix form:\n",
    "\n",
    "$$u^{k+1} = A u^k$$\n",
    "\n",
    "## Boundary conditions\n",
    "\n",
    "One thing that we neglected so far are boundary conditions. We will first have a look at Dirichlet boundary conditions. If you write down the equation for the first node, you can see that the implementation of boundary conditions will be very similar to the Laplace equations before:\n",
    "\n",
    "$$u_1^{k+1} = \\beta\\,u_{0}^k + (1 - 2 \\beta)\\,u_1^k + \\beta\\,u_{2}^k $$\n",
    "\n",
    "We now simply assign the boundary value $b_0$ for $u_0^k$ and, accordingly, for the last value $u_n$ and obtain a column vector for the boundary conditions as:\n",
    "\n",
    "\n",
    "$b = \\begin{bmatrix}\n",
    "b_0\\\\\n",
    "0\\\\\n",
    "0\\\\\n",
    "\\vdots\\\\\n",
    "0\\\\\n",
    "b_1\n",
    "\\end{bmatrix}$\n",
    "\n",
    "If we now add this vector to the previous matrix equation, we obtain the explicit equation for the diffusion equation with dirichlet boundary conditions as:\n",
    "\n",
    "$u^{k+1} = A u^k + \\beta b$\n",
    "\n",
    "**Your task**: write the code to solve the problem described above with a matrix method (with Dirichlet BC's $b_0 = 0$ and $b_1 = 0$).\n"
   ]
  },
  {
   "cell_type": "code",
   "execution_count": 5,
   "metadata": {
    "collapsed": false
   },
   "outputs": [
    {
     "name": "stdout",
     "output_type": "stream",
     "text": [
      "0.525\n"
     ]
    },
    {
     "data": {
      "image/png": "[encoded data removed]",
      "text/plain": [
       "<matplotlib.figure.Figure at 0xa6e14a8>"
      ]
     },
     "metadata": {},
     "output_type": "display_data"
    }
   ],
   "source": [
    "# your code\n",
    "L = 1.\n",
    "kappa = 2.1e-6\n",
    "dt = 25\n",
    "nt = 200\n",
    "nx= 100\n",
    "umax = 10\n",
    "sigma = 0.05\n",
    "dx = L/nx\n",
    "\n",
    "beta = (kappa*dt) / (dx**2)\n",
    "\n",
    "##########################################\n",
    "\n",
    "def tridiag(nx,beta):\n",
    "    A = np.zeros(shape=(nx,nx))\n",
    "    i,j = np.indices(A.shape)\n",
    "    A[i==j] = 1-2*beta\n",
    "    A[i==j-1] = beta\n",
    "    A[i==j+1] = beta\n",
    "    return  A\n",
    "\n",
    "\n",
    "#########################################\n",
    "\n",
    "u = np.ones((nx,nx))\n",
    "\n",
    "\n",
    "xvals = np.linspace(0,1,100)\n",
    "u =  umax * np.exp(-((xvals - 0.5)/0.05)**2)\n",
    "\n",
    "b = np.zeros(nx)\n",
    "b0=0\n",
    "b1=0\n",
    "b[0] = b0\n",
    "b[-1] = b1\n",
    "\n",
    "A = tridiag(nx,beta)\n",
    "\n",
    "for i in range(nt):\n",
    "    u = np.dot(A,u) + np.dot(beta,b)\n",
    "    #plt.plot(u)\n",
    "    if np.mod(i,10) == 0: plt.plot(xvals,u,color=plt.cm.copper_r(i/200.))\n",
    "\n",
    "print beta"
   ]
  },
  {
   "cell_type": "markdown",
   "metadata": {},
   "source": [
    "## Stability estimation\n",
    "\n",
    "Unfortunately, the previously described explicit scheme is not unconditionally stable. \n",
    "\n",
    "**Your task**: try out with your code above what happens when you change parameters such that $2 \\kappa t > x^2$:"
   ]
  },
  {
   "cell_type": "code",
   "execution_count": null,
   "metadata": {
    "collapsed": false
   },
   "outputs": [],
   "source": [
    "# your code\n",
    "L = 1.\n",
    "kappa = 2.2e-6\n",
    "dt = 25\n",
    "nt = 200\n",
    "nx= 100\n",
    "umax = 10\n",
    "sigma = 0.05\n",
    "dx = L/nx\n",
    "\n",
    "beta = (kappa*dt) / (dx**2)\n",
    "\n",
    "##########################################\n",
    "\n",
    "def tridiag(nx,beta):\n",
    "    A = np.zeros(shape=(nx,nx))\n",
    "    i,j = np.indices(A.shape)\n",
    "    A[i==j] = 1-2*beta\n",
    "    A[i==j-1] = beta\n",
    "    A[i==j+1] = beta\n",
    "    return  A\n",
    "\n",
    "\n",
    "#########################################\n",
    "\n",
    "u = np.ones((nx,nx))\n",
    "\n",
    "\n",
    "xvals = np.linspace(0,1,100)\n",
    "u =  umax * np.exp(-((xvals - 0.5)/0.05)**2)\n",
    "\n",
    "b = np.zeros(nx)\n",
    "b0=0\n",
    "b1=0\n",
    "b[0] = b0\n",
    "b[-1] = b1\n",
    "\n",
    "A = tridiag(nx,beta)\n",
    "\n",
    "for i in range(nt):\n",
    "    u = np.dot(A,u) + np.dot(beta,b)\n",
    "    #plt.plot(u)\n",
    "    if np.mod(i,10) == 0: plt.plot(xvals,u,color=plt.cm.copper_r(i/200.))\n",
    "\n",
    "print beta\n"
   ]
  },
  {
   "cell_type": "markdown",
   "metadata": {},
   "source": [
    "What happens? And why? $Unstability occurs$\n",
    "\n",
    "Preview to lecture: The stability for the explicit scheme based on the Neumann stability analysis. The stability criterion for our scheme (CD in space, FD in time) is:\n",
    "\n",
    "$\\beta = \\frac{\\kappa \\Delta t}{\\Delta x^2} < 0.5$"
   ]
  },
  {
   "cell_type": "markdown",
   "metadata": {},
   "source": [
    "## Implicit scheme to solve the diffusion problem"
   ]
  },
  {
   "cell_type": "markdown",
   "metadata": {},
   "source": [
    "We will talk in the lecture about other possibilities to determine the spatial gradients. If we take the gradients at time step $k$, then we obtain the explicit scheme from above. Let's now have  a look at the case when we consider $k+1$. Applying the same Finite Difference schemes, but now for $k+1$ in the spatial gradients, we obtain:\n",
    "\n",
    "\n",
    "$$\\frac{u_i^{k+1} - u_i^k}{\\Delta t} = \\kappa \\frac{u_{i-1}^{k+1} - 2 u_i^{k+1} + u_{i+1}^{k+1}}{\\Delta x^2} $$\n",
    "\n",
    "If we now separate the variables for a new time step $k+1$ and the current time step $k$, we obtain:\n",
    "\n",
    "$$u_i^{k+1} - \\frac{\\kappa \\Delta t}{\\Delta x^2} \\left( u_{i-1}^{k+1} - 2 u_i^{k+1} + u_{i+1}^{k+1} \\right) = u_i^k$$\n",
    "\n",
    "For simplification, we substitute $\\frac{\\kappa \\Delta t}{\\Delta x^2} = \\beta$ and obtain:\n",
    "\n",
    "$$- \\beta u_{i-1}^{k+1} + (1 + 2 \\beta) u_i^{k+1} - \\beta u_{i+1}^{k+1} = u_i^k $$\n",
    "\n",
    "So, we now obtain an equation with several more unknowns on the left hand side! However, this equation should, again, look very similar to the solutions of the Laplace equation when we write it in matrix form! We separate the left hand side into a matrix $B$ and a column vector $u^{k+1}$:\n",
    "\n",
    "$$B = \\begin{bmatrix}\n",
    "1 + 2\\beta & -\\beta & 0 & 0 & \\cdots & 0\\\\\n",
    "-\\beta & 1 + 2\\beta  &  -\\beta &  0 & \\cdots & 0\\\\\n",
    "0 &  -\\beta & 1 + 2\\beta  &  -\\beta & \\cdots & 0\\\\\n",
    "\\vdots & & & & & \\vdots \\\\\n",
    "0 & \\cdots & 0 &  -\\beta & 1 + 2\\beta  & - \\beta \\\\\n",
    "0 & \\cdots & 0 & 0 &  - \\beta & 1 + 2\\beta \n",
    "\\end{bmatrix}$$\n",
    "\n",
    "The scheme, written in matrix form and, again, considering Dirichlet boundary conditions, is now:\n",
    "\n",
    "$$B u^{k+1} = u^k + \\beta b$$\n",
    "\n",
    "\n",
    "The implementation is now a bit more complicated as for the simple explicit formulation because we need to solve the entire system of algebraic equations to consider all dependencies (this is why it is an *implicit* method). \n",
    "\n",
    "However, we now obtain an equation that is in fact very similar to the Laplace problem and it is directly clear that we can solve the equation with the methods that we discussed previously for solving the Laplace equation!\n",
    "\n",
    "**Your task**: Solve the problem from above with the implicit method!\n",
    "\n",
    "Hint:\n",
    "\n",
    "1. write the equation in a form that you can solve\n",
    "2. use your favourite method to solve it\n"
   ]
  },
  {
   "cell_type": "code",
   "execution_count": null,
   "metadata": {
    "collapsed": false
   },
   "outputs": [],
   "source": [
    "# your code:\n",
    "# your code\n",
    "L = 1.\n",
    "kappa = 9e-6\n",
    "dt = 25\n",
    "nt = 200\n",
    "nx= 100\n",
    "umax = 10\n",
    "sigma = 0.05\n",
    "dx = L/nx\n",
    "\n",
    "beta = (kappa*dt) / (dx**2)\n",
    "\n",
    "##########################################\n",
    "\n",
    "def tridiag(nx,beta):\n",
    "    B = np.zeros(shape=(nx,nx))\n",
    "    i,j = np.indices(B.shape)\n",
    "    B[i==j] = 1+2*beta\n",
    "    B[i==j-1] = -beta\n",
    "    B[i==j+1] = -beta\n",
    "    return  B\n",
    "\n",
    "\n",
    "#########################################\n",
    "\n",
    "u = np.ones((nx,nx))\n",
    "\n",
    "\n",
    "xvals = np.linspace(0,1,100)\n",
    "u =  umax * np.exp(-((xvals - 0.5)/0.05)**2)\n",
    "\n",
    "b = np.zeros(nx)\n",
    "b0=0\n",
    "b1=0\n",
    "b[0] = b0\n",
    "b[-1] = b1\n",
    "\n",
    "B = tridiag(nx,beta)\n",
    "\n",
    "for i in range(nt):\n",
    "    u = np.dot(np.linalg.inv(B),u) + np.dot(np.linalg.inv(B),np.dot(beta,b))\n",
    "    #plt.plot(u)\n",
    "    if np.mod(i,10) == 0: plt.plot(xvals,u,color=plt.cm.copper_r(i/200.))\n",
    "\n",
    "print beta"
   ]
  },
  {
   "cell_type": "code",
   "execution_count": null,
   "metadata": {
    "collapsed": false
   },
   "outputs": [],
   "source": [
    "\n",
    "u = np.dot(np.linalg.inv(B),u) + np.dot(np.linalg.inv(B),np.dot(beta,b))"
   ]
  },
  {
   "cell_type": "code",
   "execution_count": null,
   "metadata": {
    "collapsed": true
   },
   "outputs": [],
   "source": []
  },
  {
   "cell_type": "markdown",
   "metadata": {},
   "source": [
    "## Additional questions and tasks\n",
    "\n",
    "1. Which solution is faster, explicit or implicit? Can you think of ways to speed-up the solution?\n",
    "2. We discussed the fact that the implicit solution is unconditionally stable! Convince yourself that this is the case!\n",
    "3. Implement the Crank-Nicolson method"
   ]
  },
  {
   "cell_type": "code",
   "execution_count": null,
   "metadata": {
    "collapsed": false
   },
   "outputs": [],
   "source": []
  }
 ],
 "metadata": {
  "kernelspec": {
   "display_name": "Python 2",
   "language": "python",
   "name": "python2"
  },
  "language_info": {
   "codemirror_mode": {
    "name": "ipython",
    "version": 2
   },
   "file_extension": ".py",
   "mimetype": "text/x-python",
   "name": "python",
   "nbconvert_exporter": "python",
   "pygments_lexer": "ipython2",
   "version": "2.7.11"
  }
 },
 "nbformat": 4,
 "nbformat_minor": 0
}
